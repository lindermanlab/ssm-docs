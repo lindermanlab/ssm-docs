{
  "cells": [
    {
      "cell_type": "code",
      "execution_count": null,
      "metadata": {
        "collapsed": false
      },
      "outputs": [],
      "source": [
        "%matplotlib inline"
      ]
    },
    {
      "cell_type": "markdown",
      "metadata": {},
      "source": [
        "\n# Poisson fLDS\n"
      ]
    },
    {
      "cell_type": "code",
      "execution_count": null,
      "metadata": {
        "collapsed": false
      },
      "outputs": [],
      "source": [
        "# +\nimport autograd.numpy as np\nimport autograd.numpy.random as npr\nnpr.seed(0)\n\nimport matplotlib.pyplot as plt\nfrom mpl_toolkits.axes_grid1 import make_axes_locatable\n# %matplotlib inline\n\nimport seaborn as sns\nsns.set_style(\"white\")\nsns.set_context(\"talk\")\n\nimport ssm\nfrom ssm.util import random_rotation, find_permutation\n# -\n\n# Set the parameters of the LDS\nT = 50      # number of time bins per batch\nB = 20      # number of batches\nD = 2       # number of latent dimensions\nN = 10      # number of observed dimensions\n\n# +\n# Make an SLDS with the true parameters\ntrue_lds = ssm.LDS(N, D, emissions=\"poisson_nn\", \n               emission_kwargs=dict(link=\"softplus\", \n                                    hidden_layer_sizes=(50, 50))\n              )\ntrue_lds.dynamics.As[0] = .95 * random_rotation(D, theta=(1) * np.pi/20)\n\n# Sample a bunch of short trajectories \n# (they all converge so we only learn from the initial condition)\nxs, ys = list(zip(*[true_lds.sample(T) for _ in range(B)]))\n# -\n\nfor x in xs:\n    plt.plot(x[:, 0], x[:, 1])\nplt.xlabel(\"$x_1$\")\nplt.ylabel(\"$x_2$\")\nplt.title(\"Simulated latent trajectories\")\n\n# +\n# Compute the firing rates\nrates = [true_lds.smooth(x, y) for x, y in zip(xs, ys)]\n\nplt.figure(figsize=(12, 8))\nfor n in range(N):\n    plt.subplot(N, 1, n+1)\n    for lmbda in rates:\n        plt.plot(lmbda[:, n])\n    plt.xlabel(\"time\")\n    plt.ylabel(\"$\\\\lambda_{}(t)$\".format(n+1))\nplt.suptitle(\"Simulated firing rates\")\n# -\n\n# Plot the nonlinear firing rate map for neuron 1\nxmin, xmax = np.concatenate(xs).min(), np.concatenate(xs).max()\nnpts = 50\nxx = np.linspace(xmin-1, xmax+1, npts)\nXX, YY = np.meshgrid(xx, xx)\nXY = np.column_stack((XX.ravel(), YY.ravel()))\ntuning_curves = true_lds.smooth(XY, np.zeros((npts**2, N)))\nassert np.all(tuning_curves > 0 )\n\nvmax = 1.1 * tuning_curves.max()\nplt.figure(figsize=(12, 12))\nsplt = 3\nfor i in range(splt):\n    for j in range(splt):\n        n = i * splt + j \n        if n < N:\n            ax = plt.subplot(splt, splt, n+1)\n            im = plt.imshow(tuning_curves[:, n].reshape((npts, npts)), vmin=0, vmax=vmax, cmap=\"Greys\")\n            if i == splt-1:\n                plt.xlabel(\"$x_1$\")\n            if j == 0:\n                plt.ylabel(\"$x_2$\")\n                \n            plt.title(\"Neuron {}\".format(n+1))\n            \n            divider = make_axes_locatable(ax)\n            cax = divider.append_axes(\"right\", size=\"5%\", pad=0.05)\n            plt.colorbar(im, cax=cax)\nplt.tight_layout()\n\nfor b in range(5):\n    plt.figure()\n    plt.imshow(ys[b].T, aspect=\"auto\", interpolation=\"none\")\n    plt.xlabel(\"time\")\n    plt.ylabel(\"neuron\")\n    plt.title(\"Batch {}\".format(b+1))\n    plt.colorbar()\n\n# +\nprint(\"Fitting LDS with SVI\")\nlds = ssm.LDS(N, D, emissions=\"poisson_nn\", \n          emission_kwargs=dict(link=\"softplus\", \n                               hidden_layer_sizes=(50, 50))\n         )\nlds.initialize(ys)\n\nlds_elbos, q = lds.fit(ys, method=\"bbvi\", variational_posterior=\"mf\",\n                       num_iters=10000, print_intvl=100, initialize=False)\nlds_xs = q.mean\n# -\n\nplt.plot(lds_elbos)\nplt.xlabel(\"SVI Iteration\")\nplt.ylabel(\"ELBO\")\n\n# Smooth the observations\nlds_ys = [lds.smooth(x, y) for x, y in zip(lds_xs, ys)]\n\nplt.figure(figsize=(8,4))\nplt.plot(xs[0], '-k')\nplt.plot(lds_xs[0], '-')\nplt.ylabel(\"$x$\")\nplt.xlim(0, T)\n\n# Plot the smoothed observations\nplt.figure(figsize=(8,4))\nplt.plot(rates[0] + 10 * np.arange(N), '-k', lw=2)\nplt.plot(lds_ys[0] + 10 * np.arange(N), '-', lw=2)\nplt.ylabel(\"$y$\")\nplt.xlabel(\"time\")\nplt.xlim(0, T)"
      ]
    }
  ],
  "metadata": {
    "kernelspec": {
      "display_name": "Python 3",
      "language": "python",
      "name": "python3"
    },
    "language_info": {
      "codemirror_mode": {
        "name": "ipython",
        "version": 3
      },
      "file_extension": ".py",
      "mimetype": "text/x-python",
      "name": "python",
      "nbconvert_exporter": "python",
      "pygments_lexer": "ipython3",
      "version": "3.9.13"
    }
  },
  "nbformat": 4,
  "nbformat_minor": 0
}