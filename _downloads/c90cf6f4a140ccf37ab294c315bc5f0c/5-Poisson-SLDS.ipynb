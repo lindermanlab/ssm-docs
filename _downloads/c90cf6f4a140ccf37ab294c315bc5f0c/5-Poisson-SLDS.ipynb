{
  "cells": [
    {
      "cell_type": "code",
      "execution_count": null,
      "metadata": {
        "collapsed": false
      },
      "outputs": [],
      "source": [
        "%matplotlib inline"
      ]
    },
    {
      "cell_type": "markdown",
      "metadata": {},
      "source": [
        "\n# Poisson SLDS\n"
      ]
    },
    {
      "cell_type": "code",
      "execution_count": null,
      "metadata": {
        "collapsed": false
      },
      "outputs": [],
      "source": [
        "# +\nimport autograd.numpy as np\nimport autograd.numpy.random as npr\nnpr.seed(0)\n\nimport matplotlib.pyplot as plt\n# %matplotlib inline\n\nimport seaborn as sns\nsns.set_style(\"white\")\nsns.set_context(\"talk\")\n\nimport ssm\nfrom ssm.util import random_rotation, find_permutation\n# -\n\n# Set the parameters of the SLDS\nT = 1000    # number of time bins\nK = 5       # number of discrete states\nD = 2       # number of latent dimensions\nN = 100     # number of observed dimensions\n\n# +\n# Make an SLDS with the true parameters\ntrue_slds = ssm.SLDS(N, K, D, emissions=\"poisson_orthog\", emission_kwargs=dict(link=\"softplus\"))\n\n# Set rotational dynamics\nfor k in range(K):\n    true_slds.dynamics.As[k] = .95 * random_rotation(D, theta=(k+1) * np.pi/20)\n    true_slds.dynamics.bs[k] = 3 * npr.randn(D)\n    \n# Set an offset to make the counts larger \n# true_slds.emissions.ds += 10\n\n# Sample data\nz, x, y = true_slds.sample(T)\n\n# Mask off some data\nmask = npr.rand(T, N) < 0.95\ny_masked = y * mask\n# -\n\nplt.imshow(y.T, aspect=\"auto\", interpolation=\"none\")\nplt.xlabel(\"time\")\nplt.ylabel(\"neuron\")\nplt.colorbar()\n\n# +\nprint(\"Fitting SLDS with BBVI\")\nslds = ssm.SLDS(N, K, D, emissions=\"poisson_orthog\", emission_kwargs=dict(link=\"softplus\"))\nslds.initialize(y_masked, masks=mask)\n\nq_bbvi_elbos, q_bbvi = slds.fit(y_masked, masks=mask, method=\"bbvi\", \n                              variational_posterior=\"tridiag\",\n                              initial_variance=1,\n                              num_iters=1000, print_intvl=100, initialize=False)\nq_bbvi_x = q_bbvi.mean[0]\n\n# Find the permutation that matches the true and inferred states\nslds.permute(find_permutation(z, slds.most_likely_states(q_bbvi_x, y)))\nq_bbvi_z = slds.most_likely_states(q_bbvi_x, y)\n\n# Smooth the observations\nq_bbvi_y = slds.smooth(q_bbvi_x, y)\n\n# +\nprint(\"Fitting SLDS with Laplace-EM\")\nslds = ssm.SLDS(N, K, D, emissions=\"poisson_orthog\", emission_kwargs=dict(link=\"softplus\"))\nslds.initialize(y_masked, masks=mask)\n\nq_lem_elbos, q_lem = slds.fit(y_masked, masks=mask, method=\"laplace_em\",\n                              variational_posterior=\"structured_meanfield\",\n                              num_iters=150, initialize=False, alpha=0)\nq_lem_x = q_lem.mean_continuous_states[0]\n\n# Find the permutation that matches the true and inferred states\nslds.permute(find_permutation(z, slds.most_likely_states(q_lem_x, y)))\nq_lem_z = slds.most_likely_states(q_lem_x, y)\n\n# Smooth the data under the variational posterior\nq_lem_y = slds.smooth(q_lem_x, y)\n# -\n\nplt.plot(q_bbvi_elbos, label=\"BBVI\")\nplt.plot(q_lem_elbos[1:], label=\"Laplace-EM\")\nplt.xlabel(\"Iteration\")\nplt.ylabel(\"ELBO\")\nplt.legend()\n\nplt.plot(q_lem_elbos[1:], label=\"Laplace-EM\")\nplt.xlabel(\"Iteration\")\nplt.ylabel(\"ELBO\")\nplt.legend()\n\n# +\n# Plot the true and inferred states\nxlim = (0, 1000)\n\nplt.figure(figsize=(8,4))\nplt.imshow(np.column_stack((z, q_lem_z, q_bbvi_z)).T, aspect=\"auto\")\nplt.plot(xlim, [0.5, 0.5], '-k', lw=2)\nplt.yticks([0, 1, 2], [\"$z_{\\\\mathrm{true}}$\", \"$z_{\\\\mathrm{LEM}}$\", \"$z_{\\\\mathrm{BBVI}}$\"])\nplt.xlim(xlim)\n# -\n\nplt.figure(figsize=(8,4))\nplt.plot(x, '-k')\nplt.plot(q_bbvi_x, '-')\nplt.ylabel(\"$x$\")\nplt.xlim(xlim)\n\n# +\n# Plot the smoothed observations\nlim = max(y.max(), q_bbvi_y.max(), q_lem_y.max())\nplt.figure(figsize=(18,6))\nplt.subplot(131)\nplt.imshow(y.T, aspect=\"auto\", vmin=0, vmax=lim)\nplt.ylabel(\"neuron\")\nplt.xlabel(\"time\")\nplt.title(\"Data\")\nplt.colorbar()\n\nplt.subplot(132)\nplt.imshow(q_lem_y.T, aspect=\"auto\", vmin=0, vmax=lim)\nplt.xlabel(\"time\")\nplt.title(\"Inferred Rate, Laplace-EM\")\nplt.colorbar()\n\nplt.subplot(133)\nplt.imshow(q_bbvi_y.T, aspect=\"auto\", vmin=0, vmax=lim)\nplt.xlabel(\"time\")\nplt.title(\"Inferred Rate, BBVI\")\nplt.colorbar()"
      ]
    }
  ],
  "metadata": {
    "kernelspec": {
      "display_name": "Python 3",
      "language": "python",
      "name": "python3"
    },
    "language_info": {
      "codemirror_mode": {
        "name": "ipython",
        "version": 3
      },
      "file_extension": ".py",
      "mimetype": "text/x-python",
      "name": "python",
      "nbconvert_exporter": "python",
      "pygments_lexer": "ipython3",
      "version": "3.9.13"
    }
  },
  "nbformat": 4,
  "nbformat_minor": 0
}