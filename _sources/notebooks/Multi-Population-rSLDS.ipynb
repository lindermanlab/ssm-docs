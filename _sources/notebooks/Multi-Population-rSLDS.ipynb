{
 "cells": [
  {
   "cell_type": "markdown",
   "id": "8d2dd9a0",
   "metadata": {},
   "source": [
    "# Multi-population recurrent switching linear dynamical systems overview"
   ]
  },
  {
   "cell_type": "markdown",
   "id": "294254aa",
   "metadata": {
    "colab_type": "text",
    "id": "view-in-github"
   },
   "source": [
    "<a href=\"https://colab.research.google.com/github/lindermanlab/ssm/blob/master/notebooks/Multi-Population%20rSLDS.ipynb\" target=\"_parent\"><img src=\"https://colab.research.google.com/assets/colab-badge.svg\" alt=\"Open In Colab\"/></a>"
   ]
  },
  {
   "cell_type": "markdown",
   "id": "067ae8e5",
   "metadata": {},
   "source": [
    "## If you want to quickly see how to fit your own data, jump down to the \"Fit model to data\" section\n",
    "<br />\n",
    "<br />\n",
    "\n",
    "This notebook goes through the simulation example shown in our manuscript (Figure 2A,B).\n",
    "\n",
    "Below, we briefly describe the model. We also recommend looking at the \"Recurrent SLDS\" notebook, which provides more details on the standard rSLDS.\n",
    "<br />\n",
    "<br />\n",
    "\n",
    "**1. Data**.\n",
    "Let $y_t^{_{(j)}}$ denote a vector of activity measurements of the $N_j$ neurons in population $j$ in time bin $t$.\n",
    "<br />\n",
    "\n",
    "**2. Emissions**. \n",
    "let $x_t^{_{(j)}}$ denote a continuous latent state of population $j$ at time $t$. The population states may differ in dimensionality~$D_j$, since populations may differ in size and complexity. The observed activity of population $j$ is modeled with a generalized linear model,\n",
    "\\begin{align}\n",
    "    E[y_t^{(j)}] &= f(C_j x_t^{(j)} + d_j),\n",
    "\\end{align}\n",
    "where each population has its own linear mapping parameterized by $\\{C_j, d_j\\}$. In this notebook, we use a Poisson GLM. Inputs can also be passed into this GLM, as described in the rSLDS notebook.\n",
    "\n",
    "There are multi-population emissions classes that will be loaded in the example below.\n",
    "<br />\n",
    "\n",
    "**3. Continuous State Update (Dynamics)**. \n",
    "The dynamics of a switching linear dynamical system are piecewise linear, with the linear dynamics at a given time determined by a discrete state, (more on discrete states below).\n",
    "\n",
    "\\begin{align}\n",
    "    x_t \\sim \n",
    "    A^{(z_t)} x_{t-1} + b^{(z_t)}\n",
    "\\end{align} \n",
    "\n",
    "where $z_t$ is the discrete state, $A^{(z_t)}$ is the dynamics for that discrete state, and $x_t$ contains the latents from all populations, $[x_t^1, x_t^2, ..., x_t^J]$. We ignore the noise term here for simplicity.\n",
    "\n",
    "Having unique continuous latents for each population allows us to decompose the dynamics in an interpretable manner. We model the temporal dynamics of the continuous states as\n",
    "\\begin{align}\n",
    "    x_t^{(j)} \\sim\n",
    "    A_{(j \\: to \\: j)}^{(z_t)} x_{t-1}^{(j)} \n",
    "    + \\sum_{i \\neq j} A_{(i \\: to \\: j)}^{(z_t)} x_{t-1}^{(i)} \n",
    "    + b_j^{(z_t)}.\n",
    "\\end{align} \n",
    "\n",
    "In the full dynamics matrices, $A^{(z_t)}$ we will show in the example below, the on-diagonal blocks represent the internal dynamics, $A_{(j \\: to \\: j)}^{(z_t)}$ and the off-diagonal blocks represent the external dynamics, $A_{(i \\: to \\: j)}^{(z_t)}$.\n",
    "\n",
    "\n",
    "**4. Discrete State Update (Transitions)**. \n",
    "Recurrent transitions are based on the continuous latent state. Our recurrent transitions have a sticky component, $S$ that determines the probabilities of staying in a state, and a switching component, $R$, that determines the probabilities of switching to states. In the model we use in this notebook:\n",
    "\n",
    "\\begin{align}\n",
    "    p(z_t = i \\mid z_{t-1} = j, x_{t-1}) &= \\mathrm{softmax}\\bigg\\{ \\Big( \\big(R x_{t-1}\\big) + r\\Big) \\odot (1 - e_{z_{t-1}})  + \\Big( \\big(S x_{t-1} \\big) + s \\Big) \\odot e_{z_{t-1}}  \\bigg\\},\n",
    "\\end{align}\n",
    "\n",
    "where $e_{z_{t-1}} \\in \\{0,1\\}^K$ is a one-hot encoding of $z_{t-1}$.\n",
    "\n",
    "To understand which populations are contributing to the transitions, we can decompose this equation:\n",
    "\n",
    "\n",
    "\\begin{align}\n",
    "    p(z_t = i \\mid z_{t-1} = j, x_{t-1}) &= \\mathrm{softmax}\\bigg\\{ \\Big( \\sum_{j=1}^J \\big(R_j x_{t-1}^{(j)}\\big) + r\\Big) \\odot (1 - e_{z_{t-1}})  + \\Big( \\sum_{j=1}^J \\big(S_j x_{t-1}^{(j)} \\big) + s \\Big) \\odot e_{z_{t-1}}  \\bigg\\},\n",
    "\\end{align}\n",
    "where, for example, $R_j x_{t-1}^{(j)}$ contains the contribution of population $j$ towards switching to each state.\n",
    "\n",
    "\n",
    "Additionally, we can include a dependency on the previous discrete state. This is included in the code package, but is not used in the example below.\n",
    "\n",
    "\\begin{align}\n",
    "    p(z_t = i \\mid z_{t-1} = j, x_{t-1}) &= \\mathrm{softmax}\\bigg\\{ \\log(P_{j,i}) +  \\big(R x_{t-1}\\big) \\odot (1 - e_{z_{t-1}})  + \\big(S x_{t-1} \\big) \\odot e_{z_{t-1}}  \\bigg\\},\n",
    "\\end{align}\n",
    "\n",
    "There are sticky multi-population emissions classes that will be loaded in the example below.\n",
    "<br />\n",
    "\n",
    "**5. Model fitting**. \n",
    "We fit the model with variational laplace EM - see the \"Variational Laplace EM for SLDS Tutorial\" for more information."
   ]
  },
  {
   "cell_type": "markdown",
   "id": "1fd6365c",
   "metadata": {
    "colab_type": "text",
    "id": "8OzC8q4bRFQv"
   },
   "source": [
    "## Import packages, including multipopulation extensions"
   ]
  },
  {
   "cell_type": "code",
   "execution_count": 1,
   "id": "292785c5",
   "metadata": {
    "colab": {
     "base_uri": "https://localhost:8080/",
     "height": 581
    },
    "colab_type": "code",
    "id": "ruUnNqi5RZqT",
    "outputId": "228b6c8e-c064-46c2-ce57-9ad88daca5c8"
   },
   "outputs": [
    {
     "name": "stderr",
     "output_type": "stream",
     "text": [
      "/opt/miniconda3/envs/ssm-docs/lib/python3.9/site-packages/tqdm/auto.py:22: TqdmWarning: IProgress not found. Please update jupyter and ipywidgets. See https://ipywidgets.readthedocs.io/en/stable/user_install.html\n",
      "  from .autonotebook import tqdm as notebook_tqdm\n"
     ]
    }
   ],
   "source": [
    "try:\n",
    "    import ssm\n",
    "except:\n",
    "    !pip install git+https://github.com/lindermanlab/ssm.git#egg=ssm\n",
    "    import ssm"
   ]
  },
  {
   "cell_type": "code",
   "execution_count": 2,
   "id": "961fbf14",
   "metadata": {
    "colab": {
     "base_uri": "https://localhost:8080/",
     "height": 71
    },
    "colab_type": "code",
    "id": "zDn3tEJhRFQv",
    "outputId": "2f1ca1d0-8f17-404a-897f-57b8c5d353cb"
   },
   "outputs": [],
   "source": [
    "#### General packages\n",
    "\n",
    "from matplotlib import pyplot as plt\n",
    "%matplotlib inline\n",
    "import autograd.numpy as np\n",
    "import autograd.numpy.random as npr\n",
    "\n",
    "import seaborn as sns\n",
    "sns.set_style(\"white\")\n",
    "sns.set_context(\"talk\")\n",
    "sns.set_style('ticks',{\"xtick.major.size\":8,\n",
    "\"ytick.major.size\":8})\n",
    "from ssm.plots import gradient_cmap, white_to_color_cmap\n",
    "\n",
    "color_names = [\n",
    "    \"purple\",\n",
    "    \"red\",\n",
    "    \"amber\",\n",
    "    \"faded green\",\n",
    "    \"windows blue\",\n",
    "    \"orange\"\n",
    "    ]\n",
    "\n",
    "colors = sns.xkcd_palette(color_names)\n",
    "cmap = gradient_cmap(colors)"
   ]
  },
  {
   "cell_type": "code",
   "execution_count": 3,
   "id": "111be73a",
   "metadata": {
    "colab": {},
    "colab_type": "code",
    "id": "0rq19iIQRFQy"
   },
   "outputs": [],
   "source": [
    "#### SSM PACKAGES ###\n",
    "\n",
    "import ssm\n",
    "from ssm.variational import SLDSMeanFieldVariationalPosterior, SLDSTriDiagVariationalPosterior, \\\n",
    "    SLDSStructuredMeanFieldVariationalPosterior\n",
    "from ssm.util import random_rotation, find_permutation, relu\n",
    "\n",
    "#Load from extensions\n",
    "from ssm.extensions.mp_srslds.emissions_ext import GaussianOrthogonalCompoundEmissions, PoissonOrthogonalCompoundEmissions\n",
    "from ssm.extensions.mp_srslds.transitions_ext import StickyRecurrentOnlyTransitions, StickyRecurrentTransitions"
   ]
  },
  {
   "cell_type": "markdown",
   "id": "95eea1dd",
   "metadata": {
    "colab_type": "text",
    "id": "Ty3EOi8bRFQ1"
   },
   "source": [
    "## Simulate (somewhat realistic) data"
   ]
  },
  {
   "cell_type": "markdown",
   "id": "4990d1b5",
   "metadata": {
    "colab_type": "text",
    "id": "QxDoYCRDRFQ2"
   },
   "source": [
    "### Set parameters of simulation"
   ]
  },
  {
   "cell_type": "code",
   "execution_count": 4,
   "id": "26d98a70",
   "metadata": {
    "colab": {},
    "colab_type": "code",
    "id": "dalqY6zvRFQ2"
   },
   "outputs": [],
   "source": [
    "K=3 #Number of discrete states\n",
    "\n",
    "num_gr=3 #Number of populations\n",
    "num_per_gr=5 #Number of latents per population\n",
    "neur_per_gr=75 #Number of neurons per population\n",
    "\n",
    "t_end=3000 #number of time bins\n",
    "num_trials=1 #number of trials"
   ]
  },
  {
   "cell_type": "code",
   "execution_count": 5,
   "id": "04460ef8",
   "metadata": {
    "colab": {
     "base_uri": "https://localhost:8080/",
     "height": 34
    },
    "colab_type": "code",
    "id": "OHTSTNbTRFQ4",
    "outputId": "fd3b833b-8df2-425b-d3ce-103cf42d5153"
   },
   "outputs": [
    {
     "name": "stdout",
     "output_type": "stream",
     "text": [
      "alphas: [0.05336111 0.03343876 0.08800889]\n"
     ]
    }
   ],
   "source": [
    "np.random.seed(108) #To create replicable dynamics\n",
    "\n",
    "alphas=.03+.1*np.random.rand(K) #Determines the distribution of values in the dynamics matrix, for each discrete state\n",
    "print('alphas:', alphas)\n",
    "\n",
    "sparsity=.33 #Proportion of non-diagonal blocks in the dynamics matrix that are 0\n",
    "\n",
    "e1=.1 #Amount of noise in the dynamics"
   ]
  },
  {
   "cell_type": "markdown",
   "id": "ce945bdd",
   "metadata": {
    "colab_type": "text",
    "id": "t91lYSkPRFQ7"
   },
   "source": [
    "### Get new emissions and transitions classes for the simulated data"
   ]
  },
  {
   "cell_type": "code",
   "execution_count": 6,
   "id": "b0e7ed7b",
   "metadata": {
    "colab": {},
    "colab_type": "code",
    "id": "tQx540b6RFQ8"
   },
   "outputs": [],
   "source": [
    "#Vector containing number of latents per population\n",
    "D_vec=[]\n",
    "for i in range(num_gr):\n",
    "    D_vec.append(num_per_gr) \n",
    "\n",
    "#Vector containing number of neurons per population\n",
    "N_vec=[]\n",
    "for i in range(num_gr):\n",
    "    N_vec.append(neur_per_gr)\n",
    "\n",
    "D=np.sum(D_vec)\n",
    "num_gr=len(D_vec)\n",
    "D_vec_cumsum = np.concatenate(([0], np.cumsum(D_vec)))\n",
    "\n",
    "#Get new multipopulation emissions class for the simulation\n",
    "\n",
    "# gauss_comp_emissions=GaussianOrthogonalCompoundEmissions(N=np.sum(N_vec),K=1,D=np.sum(D_vec),D_vec=D_vec,N_vec=N_vec)\n",
    "poiss_comp_emissions=PoissonOrthogonalCompoundEmissions(N=np.sum(N_vec),K=1,D=np.sum(D_vec),D_vec=D_vec,N_vec=N_vec,link='softplus')\n",
    "\n",
    "#Get transitions class\n",
    "true_sro_trans=StickyRecurrentOnlyTransitions(K=K,D=np.sum(D_vec)) "
   ]
  },
  {
   "cell_type": "markdown",
   "id": "c836889d",
   "metadata": {
    "colab_type": "text",
    "id": "DDu2GnRGRFQ-"
   },
   "source": [
    "### Create simulated data"
   ]
  },
  {
   "cell_type": "code",
   "execution_count": 7,
   "id": "595cb0ae",
   "metadata": {
    "colab": {},
    "colab_type": "code",
    "id": "VLN8FWLLRFQ_"
   },
   "outputs": [],
   "source": [
    "np.random.seed(10) #To create replicable simulations\n",
    "\n",
    "A_masks=[]\n",
    "\n",
    "A_all=np.zeros([K,D,D]) #Initialize dynamics matrix\n",
    "b_all=np.zeros([K,D]) #Initialize dynamics offset\n",
    "\n",
    "\n",
    "#Create initial ground truth model, that we will modify\n",
    "true_slds = ssm.SLDS(N=np.sum(N_vec),K=K,D=int(np.sum(D_vec)),\n",
    "             dynamics=\"gaussian\",\n",
    "             emissions=poiss_comp_emissions,\n",
    "             transitions=true_sro_trans)\n",
    "\n",
    "#Create ground truth transitions\n",
    "v=.2+.2*np.random.rand(1)\n",
    "for k in range(K):\n",
    "    inc=np.copy(k)\n",
    "    true_slds.transitions.Rs[k,D_vec_cumsum[inc]:D_vec_cumsum[inc]+1]=v\n",
    "    true_slds.transitions.Ss[k,D_vec_cumsum[inc]:D_vec_cumsum[inc]+1]=v-.1\n",
    "\n",
    "true_slds.transitions.r=0*np.ones([K,1])\n",
    "true_slds.transitions.s=5*np.ones([K,1])\n",
    "\n",
    "#Create ground truth dynamics for each state\n",
    "for k in range(K):\n",
    "\n",
    "    ##Create dynamics##\n",
    "    alpha=alphas[k]\n",
    "\n",
    "    A_mask=np.random.rand(num_gr,num_gr)>sparsity #Make some blocks of the dynamics matrix 0\n",
    "\n",
    "    A_masks.append(A_mask)\n",
    "\n",
    "    for i in range(num_gr): \n",
    "        A_mask[i,i]=1\n",
    "\n",
    "    A0=np.zeros([D,D])\n",
    "    for i in range(D-1):\n",
    "        A0[i,i+1:]=alpha*np.random.randn(D-1-i)\n",
    "    A0=(A0-A0.T)\n",
    "\n",
    "    for i in range(num_gr):\n",
    "        A0[D_vec_cumsum[i]:D_vec_cumsum[i+1],D_vec_cumsum[i]:D_vec_cumsum[i+1]]=2*A0[D_vec_cumsum[i]:D_vec_cumsum[i+1],D_vec_cumsum[i]:D_vec_cumsum[i+1]]\n",
    "\n",
    "\n",
    "    A0=A0+np.identity(D)\n",
    "    A=A0*np.kron(A_mask, np.ones((num_per_gr, num_per_gr)))\n",
    "\n",
    "    A=A/(np.max(np.abs(np.linalg.eigvals(A)))+.01) #.97\n",
    "\n",
    "    b=1*np.random.rand(D)\n",
    "\n",
    "    A_all[k]=A\n",
    "    b_all[k]=b\n",
    "\n",
    "true_slds.dynamics.As=A_all\n",
    "true_slds.dynamics.bs=b_all\n",
    "\n",
    "\n",
    "zs, xs, _ = true_slds.sample(t_end) #Sample discrete and continuous latents from model for simulation\n",
    "\n",
    "#Get spike trains that have an average firing rate of 0.25 per bin\n",
    "tmp=np.mean(relu(np.dot(true_slds.emissions.Cs[0],xs.T)+.1*true_slds.emissions.ds[0][:,None]).T)\n",
    "mult=.25/tmp\n",
    "lams=relu(mult*np.dot(true_slds.emissions.Cs[0],xs.T)+.1*true_slds.emissions.ds[0][:,None]).T\n",
    "ys=np.random.poisson(lams) #Get spiking activity based on poisson statistics"
   ]
  },
  {
   "cell_type": "markdown",
   "id": "6ef13232",
   "metadata": {
    "colab_type": "text",
    "id": "twuPg8wRRFRC"
   },
   "source": [
    "## Plot simulated data"
   ]
  },
  {
   "cell_type": "markdown",
   "id": "de1e1841",
   "metadata": {
    "colab_type": "text",
    "id": "1-VkH7xSRFRC"
   },
   "source": [
    "### Dynamics matrices ($A^z$)"
   ]
  },
  {
   "cell_type": "code",
   "execution_count": 8,
   "id": "01b7b804",
   "metadata": {
    "colab": {
     "base_uri": "https://localhost:8080/",
     "height": 797
    },
    "colab_type": "code",
    "id": "qv7hO5fgRFRD",
    "outputId": "7b2a3151-a5dc-4ac0-c446-ecbb212ffb61"
   },
   "outputs": [
    {
     "data": {
      "image/png": "[encoded data removed]",
      "text/plain": [
       "<Figure size 400x400 with 1 Axes>"
      ]
     },
     "metadata": {},
     "output_type": "display_data"
    },
    {
     "data": {
      "image/png": "[encoded data removed]",
      "text/plain": [
       "<Figure size 400x400 with 1 Axes>"
      ]
     },
     "metadata": {},
     "output_type": "display_data"
    },
    {
     "data": {
      "image/png": "[encoded data removed]",
      "text/plain": [
       "<Figure size 400x400 with 1 Axes>"
      ]
     },
     "metadata": {},
     "output_type": "display_data"
    }
   ],
   "source": [
    "# vmin,vmax=[-1,1]\n",
    "vmin,vmax=[-.5,.5] #zoom in to see colors more clearly\n",
    "\n",
    "\n",
    "for k in range(K):\n",
    "    \n",
    "    plt.figure(figsize=(4,4))\n",
    "    plt.imshow(true_slds.dynamics.As[k], aspect='auto', interpolation=\"none\", vmin=vmin, vmax=vmax, cmap='RdBu')\n",
    "    offset=-.5\n",
    "    for nf in D_vec:        \n",
    "        plt.plot([-0.5, D-0.5], [offset, offset], '-k')\n",
    "        plt.plot([offset, offset], [-0.5, D-0.5], '-k')\n",
    "        offset += nf\n",
    "    plt.xticks([])\n",
    "    plt.yticks([])\n",
    "    plt.title('Actual State '+str(k))"
   ]
  },
  {
   "cell_type": "markdown",
   "id": "9e41e634",
   "metadata": {
    "colab_type": "text",
    "id": "-Y7R3y6TRFRF"
   },
   "source": [
    "### Discrete states ($z$)"
   ]
  },
  {
   "cell_type": "code",
   "execution_count": 9,
   "id": "7870550e",
   "metadata": {
    "colab": {
     "base_uri": "https://localhost:8080/",
     "height": 177
    },
    "colab_type": "code",
    "id": "Wmk2_uI-RFRG",
    "outputId": "2f434446-fbaf-4a00-d186-81a557b35011"
   },
   "outputs": [
    {
     "data": {
      "text/plain": [
       "([], [])"
      ]
     },
     "execution_count": 9,
     "metadata": {},
     "output_type": "execute_result"
    },
    {
     "data": {
      "image/png": "[encoded data removed]",
      "text/plain": [
       "<Figure size 800x400 with 1 Axes>"
      ]
     },
     "metadata": {},
     "output_type": "display_data"
    }
   ],
   "source": [
    "plt.figure(figsize=(8, 4))\n",
    "plt.subplot(211)\n",
    "plt.imshow(zs[None,:], aspect=\"auto\", cmap=cmap, vmin=0, vmax=len(colors)-1)\n",
    "plt.xlim(0, t_end)\n",
    "plt.ylabel(\"$z_{\\\\mathrm{true}}$\")\n",
    "plt.yticks([])"
   ]
  },
  {
   "cell_type": "markdown",
   "id": "1a48d8a5",
   "metadata": {
    "colab_type": "text",
    "id": "ufQwDDKTRFRI"
   },
   "source": [
    "### Transitions (in a shorter time window)\n",
    "The contribution of population $j$ to staying in a state is $S_j x^{j}$ and the contribution to switching to a state is $R_j x^{j}$"
   ]
  },
  {
   "cell_type": "code",
   "execution_count": 10,
   "id": "38ec4aa6",
   "metadata": {
    "colab": {},
    "colab_type": "code",
    "id": "fp1QQ_7dRFRI"
   },
   "outputs": [],
   "source": [
    "dur=200\n",
    "st_t=650\n",
    "end_t=st_t+dur"
   ]
  },
  {
   "cell_type": "code",
   "execution_count": 11,
   "id": "acf53a41",
   "metadata": {
    "colab": {
     "base_uri": "https://localhost:8080/",
     "height": 310
    },
    "colab_type": "code",
    "id": "-FWpoP7-RFRK",
    "outputId": "bcc60411-fb9e-44d0-bc16-e382fe7919aa"
   },
   "outputs": [
    {
     "data": {
      "text/plain": [
       "([], [])"
      ]
     },
     "execution_count": 11,
     "metadata": {},
     "output_type": "execute_result"
    },
    {
     "data": {
      "image/png": "[encoded data removed]",
      "text/plain": [
       "<Figure size 800x400 with 2 Axes>"
      ]
     },
     "metadata": {},
     "output_type": "display_data"
    }
   ],
   "source": [
    "plt.figure(figsize=(8, 4))\n",
    "\n",
    "j=0\n",
    "\n",
    "plt.subplot(211)\n",
    "for g in range(K):\n",
    "    plt.plot(np.dot(xs[st_t:end_t,D_vec_cumsum[g]:D_vec_cumsum[g+1]],true_slds.transitions.Rs[j,D_vec_cumsum[g]:D_vec_cumsum[g+1]].T))\n",
    "plt.xlim(0, dur)\n",
    "plt.ylabel('Contribution towards \\n switching to \\n purple state',rotation=60)\n",
    "plt.xticks([])\n",
    "plt.yticks([])\n",
    "\n",
    "j=1\n",
    "plt.subplot(212)\n",
    "for g in range(K):\n",
    "    plt.plot(np.dot(xs[st_t:end_t,D_vec_cumsum[g]:D_vec_cumsum[g+1]],true_slds.transitions.Ss[j,D_vec_cumsum[g]:D_vec_cumsum[g+1]].T))\n",
    "plt.xlim(0, dur)\n",
    "plt.ylabel('Contribution towards \\n staying in red state',rotation=60)\n",
    "plt.legend(['Pop 1','Pop 2','Pop 3'])\n",
    "plt.yticks([])"
   ]
  },
  {
   "cell_type": "markdown",
   "id": "8bc19a84",
   "metadata": {
    "colab_type": "text",
    "id": "wOO48DPARFRN"
   },
   "source": [
    "### Continuous latents ($x$) and spikes ($y$) for an example population"
   ]
  },
  {
   "cell_type": "code",
   "execution_count": 12,
   "id": "d453b817",
   "metadata": {
    "colab": {
     "base_uri": "https://localhost:8080/",
     "height": 449
    },
    "colab_type": "code",
    "id": "YllKBbdhRFRN",
    "outputId": "dc7f9218-0100-4263-8501-9d2fb1696a9e"
   },
   "outputs": [
    {
     "data": {
      "text/plain": [
       "[<matplotlib.lines.Line2D at 0x1646dfc40>,\n",
       " <matplotlib.lines.Line2D at 0x16468d100>,\n",
       " <matplotlib.lines.Line2D at 0x16468d130>,\n",
       " <matplotlib.lines.Line2D at 0x16462c730>,\n",
       " <matplotlib.lines.Line2D at 0x1644b6c10>,\n",
       " <matplotlib.lines.Line2D at 0x1646791f0>,\n",
       " <matplotlib.lines.Line2D at 0x164679220>,\n",
       " <matplotlib.lines.Line2D at 0x1646edca0>,\n",
       " <matplotlib.lines.Line2D at 0x1646edd90>,\n",
       " <matplotlib.lines.Line2D at 0x1646ede80>]"
      ]
     },
     "execution_count": 12,
     "metadata": {},
     "output_type": "execute_result"
    },
    {
     "data": {
      "image/png": "[encoded data removed]",
      "text/plain": [
       "<Figure size 800x400 with 2 Axes>"
      ]
     },
     "metadata": {},
     "output_type": "display_data"
    }
   ],
   "source": [
    "plt.figure(figsize=(8, 4))\n",
    "\n",
    "plt.subplot(211)\n",
    "plt.plot(xs[st_t:end_t,:num_per_gr]) #Show latents of first group\n",
    "plt.xticks([])\n",
    "\n",
    "plt.subplot(212)\n",
    "plt.plot(ys[st_t:end_t,:10]) #Show first 10 neurons"
   ]
  },
  {
   "cell_type": "markdown",
   "id": "9d057049",
   "metadata": {
    "colab_type": "text",
    "id": "OZ_iLjiyRFRV"
   },
   "source": [
    "## Fit model to data"
   ]
  },
  {
   "cell_type": "markdown",
   "id": "48a65b47",
   "metadata": {
    "colab_type": "text",
    "id": "g6QfY0j-RFRV"
   },
   "source": [
    "### To create the emissions classes for the multipopulation models, we need vectors containing the number of continuous latents per population (\"D_vec\") and neurons per population (\"N_vec\")"
   ]
  },
  {
   "cell_type": "code",
   "execution_count": 13,
   "id": "3d681c36",
   "metadata": {
    "colab": {},
    "colab_type": "code",
    "id": "kVZDXyIiRFRW"
   },
   "outputs": [],
   "source": [
    "num_gr=3 #Number of populations\n",
    "num_per_gr=5 #Number of latents per population\n",
    "neur_per_gr=75 #Number of neurons per population\n",
    "\n",
    "#Vector containing number of latents per population\n",
    "D_vec=[]\n",
    "for i in range(num_gr):\n",
    "    D_vec.append(num_per_gr) \n",
    "\n",
    "#Vector containing number of neurons per population\n",
    "N_vec=[]\n",
    "for i in range(num_gr):\n",
    "    N_vec.append(neur_per_gr)"
   ]
  },
  {
   "cell_type": "markdown",
   "id": "b789d3c4",
   "metadata": {
    "colab_type": "text",
    "id": "_I-JFqbHRFRZ"
   },
   "source": [
    "#### Now create the multipopulation emissions and transitions classes for our model"
   ]
  },
  {
   "cell_type": "code",
   "execution_count": 14,
   "id": "c5650073",
   "metadata": {
    "colab": {},
    "colab_type": "code",
    "id": "dhnavgIgRFRa"
   },
   "outputs": [],
   "source": [
    "#Get new multipopulation emissions class\n",
    "poiss_comp_emissions=PoissonOrthogonalCompoundEmissions(N=np.sum(N_vec),K=1,D=np.sum(D_vec),D_vec=D_vec,N_vec=N_vec,link='softplus')\n",
    "\n",
    "#Get new transitions class\n",
    "sro_trans=StickyRecurrentOnlyTransitions(K=K,D=np.sum(D_vec), l2_penalty_similarity=10, l1_penalty=10) \n",
    "#The above l2 penalty is on the similarity between R and S (its assuming the activity to switch into a state is similar to activity to stay in a state)\n",
    "#The L1 penalty is on the entries of R and S"
   ]
  },
  {
   "cell_type": "markdown",
   "id": "353b30f9",
   "metadata": {},
   "source": [
    "Note that another new emissions class is \"GaussianOrthogonalCompoundEmissions\" <br />\n",
    "\n",
    "Note that another new transitions class is \"StickyRecurrentTransitions\""
   ]
  },
  {
   "cell_type": "markdown",
   "id": "ce3a823b",
   "metadata": {
    "colab_type": "text",
    "id": "syHDAea_RFRc"
   },
   "source": [
    "#### Now declare and fit the model"
   ]
  },
  {
   "cell_type": "code",
   "execution_count": 15,
   "id": "38fd512c",
   "metadata": {
    "colab": {
     "base_uri": "https://localhost:8080/",
     "height": 166,
     "referenced_widgets": [
      "36b4e6c4b2064572a4412f8bc298caeb",
      "97247a689ff744689528aa9555c13c62",
      "581b2c1a39eb439581308a5cdea07389",
      "e8e6a6b80ed14b77900e87e1c779f459",
      "2e200ca5be3141f2b2ee041ec8b08e49",
      "f4e534f4d6ac45c6a7da04be7d341968",
      "ced98407e9ee4ee4bd0baaa24d4765b9",
      "14de5bf9b23f47d4867e135cf156ac97",
      "6bd4692a8c95492d84f6353069342d4f",
      "62f38f8736314a098f91d7486b5b84f6",
      "d7ffd5a5a8874c2d8e593cb29c8f14b2",
      "2ddbbe21934547db9e365d905ea1f024",
      "19ad77a391f7459f811262d5bdbeb783",
      "5da21c8eac7041898c7a468f0388e632",
      "eb1c51978e0f4b79968cf6618a959007",
      "c0204fcad9f64dd48580f7d17767abc6"
     ]
    },
    "colab_type": "code",
    "id": "n7WRqQufRFRd",
    "outputId": "28ddbaaa-221c-4ca8-db59-b76bbeff1dd0"
   },
   "outputs": [
    {
     "name": "stderr",
     "output_type": "stream",
     "text": [
      "\r",
      "  0%|                                                                                                              | 0/10 [00:00<?, ?it/s]"
     ]
    },
    {
     "name": "stderr",
     "output_type": "stream",
     "text": [
      "\r",
      "ARHMM Initialization restarts:   0%|                                                                               | 0/10 [00:00<?, ?it/s]"
     ]
    },
    {
     "name": "stdout",
     "output_type": "stream",
     "text": [
      "Initializing with an ARHMM using 25 steps of EM.\n"
     ]
    },
    {
     "name": "stderr",
     "output_type": "stream",
     "text": [
      "\n"
     ]
    },
    {
     "name": "stderr",
     "output_type": "stream",
     "text": [
      "\r",
      "  0%|                                                                                                              | 0/25 [00:00<?, ?it/s]"
     ]
    },
    {
     "name": "stderr",
     "output_type": "stream",
     "text": [
      "\u001b[A"
     ]
    },
    {
     "name": "stderr",
     "output_type": "stream",
     "text": [
      "\n"
     ]
    },
    {
     "name": "stderr",
     "output_type": "stream",
     "text": [
      "\r",
      "LP: -88550.7:   0%|                                                                                                | 0/25 [00:00<?, ?it/s]"
     ]
    },
    {
     "name": "stderr",
     "output_type": "stream",
     "text": [
      "\u001b[A"
     ]
    },
    {
     "name": "stderr",
     "output_type": "stream",
     "text": [
      "\n"
     ]
    },
    {
     "name": "stderr",
     "output_type": "stream",
     "text": [
      "\r",
      "LP: -88553.0:   0%|                                                                                                | 0/25 [00:00<?, ?it/s]"
     ]
    },
    {
     "name": "stderr",
     "output_type": "stream",
     "text": [
      "\u001b[A"
     ]
    },
    {
     "name": "stderr",
     "output_type": "stream",
     "text": [
      "\n"
     ]
    },
    {
     "name": "stderr",
     "output_type": "stream",
     "text": [
      "\r",
      "LP: -88356.8:   0%|                                                                                                | 0/25 [00:00<?, ?it/s]"
     ]
    },
    {
     "name": "stderr",
     "output_type": "stream",
     "text": [
      "\u001b[A"
     ]
    },
    {
     "name": "stderr",
     "output_type": "stream",
     "text": [
      "\n"
     ]
    },
    {
     "name": "stderr",
     "output_type": "stream",
     "text": [
      "\r",
      "LP: -88050.6:   0%|                                                                                                | 0/25 [00:00<?, ?it/s]"
     ]
    },
    {
     "name": "stderr",
     "output_type": "stream",
     "text": [
      "\u001b[A"
     ]
    },
    {
     "name": "stderr",
     "output_type": "stream",
     "text": [
      "\n"
     ]
    },
    {
     "name": "stderr",
     "output_type": "stream",
     "text": [
      "\r",
      "LP: -88050.6:  12%|██████████▌                                                                             | 3/25 [00:00<00:00, 23.96it/s]"
     ]
    },
    {
     "name": "stderr",
     "output_type": "stream",
     "text": [
      "\u001b[A"
     ]
    },
    {
     "name": "stderr",
     "output_type": "stream",
     "text": [
      "\n"
     ]
    },
    {
     "name": "stderr",
     "output_type": "stream",
     "text": [
      "\r",
      "LP: -87651.4:  12%|██████████▌                                                                             | 3/25 [00:00<00:00, 23.96it/s]"
     ]
    },
    {
     "name": "stderr",
     "output_type": "stream",
     "text": [
      "\u001b[A"
     ]
    },
    {
     "name": "stderr",
     "output_type": "stream",
     "text": [
      "\n"
     ]
    },
    {
     "name": "stderr",
     "output_type": "stream",
     "text": [
      "\r",
      "LP: -87209.9:  12%|██████████▌                                                                             | 3/25 [00:00<00:00, 23.96it/s]"
     ]
    },
    {
     "name": "stderr",
     "output_type": "stream",
     "text": [
      "\u001b[A"
     ]
    },
    {
     "name": "stderr",
     "output_type": "stream",
     "text": [
      "\n"
     ]
    },
    {
     "name": "stderr",
     "output_type": "stream",
     "text": [
      "\r",
      "LP: -86835.6:  12%|██████████▌                                                                             | 3/25 [00:00<00:00, 23.96it/s]"
     ]
    },
    {
     "name": "stderr",
     "output_type": "stream",
     "text": [
      "\u001b[A"
     ]
    },
    {
     "name": "stderr",
     "output_type": "stream",
     "text": [
      "\n"
     ]
    },
    {
     "name": "stderr",
     "output_type": "stream",
     "text": [
      "\r",
      "LP: -86835.6:  24%|█████████████████████                                                                   | 6/25 [00:00<00:00, 21.19it/s]"
     ]
    },
    {
     "name": "stderr",
     "output_type": "stream",
     "text": [
      "\u001b[A"
     ]
    },
    {
     "name": "stderr",
     "output_type": "stream",
     "text": [
      "\n"
     ]
    },
    {
     "name": "stderr",
     "output_type": "stream",
     "text": [
      "\r",
      "LP: -86617.6:  24%|█████████████████████                                                                   | 6/25 [00:00<00:00, 21.19it/s]"
     ]
    },
    {
     "name": "stderr",
     "output_type": "stream",
     "text": [
      "\u001b[A"
     ]
    },
    {
     "name": "stderr",
     "output_type": "stream",
     "text": [
      "\n"
     ]
    },
    {
     "name": "stderr",
     "output_type": "stream",
     "text": [
      "\r",
      "LP: -86495.2:  24%|█████████████████████                                                                   | 6/25 [00:00<00:00, 21.19it/s]"
     ]
    },
    {
     "name": "stderr",
     "output_type": "stream",
     "text": [
      "\u001b[A"
     ]
    },
    {
     "name": "stderr",
     "output_type": "stream",
     "text": [
      "\n"
     ]
    },
    {
     "name": "stderr",
     "output_type": "stream",
     "text": [
      "\r",
      "LP: -86415.0:  24%|█████████████████████                                                                   | 6/25 [00:00<00:00, 21.19it/s]"
     ]
    },
    {
     "name": "stderr",
     "output_type": "stream",
     "text": [
      "\u001b[A"
     ]
    },
    {
     "name": "stderr",
     "output_type": "stream",
     "text": [
      "\n"
     ]
    },
    {
     "name": "stderr",
     "output_type": "stream",
     "text": [
      "\r",
      "LP: -86415.0:  36%|███████████████████████████████▋                                                        | 9/25 [00:00<00:00, 19.50it/s]"
     ]
    },
    {
     "name": "stderr",
     "output_type": "stream",
     "text": [
      "\u001b[A"
     ]
    },
    {
     "name": "stderr",
     "output_type": "stream",
     "text": [
      "\n"
     ]
    },
    {
     "name": "stderr",
     "output_type": "stream",
     "text": [
      "\r",
      "LP: -86349.3:  36%|███████████████████████████████▋                                                        | 9/25 [00:00<00:00, 19.50it/s]"
     ]
    },
    {
     "name": "stderr",
     "output_type": "stream",
     "text": [
      "\u001b[A"
     ]
    },
    {
     "name": "stderr",
     "output_type": "stream",
     "text": [
      "\n"
     ]
    },
    {
     "name": "stderr",
     "output_type": "stream",
     "text": [
      "\r",
      "LP: -86313.8:  36%|███████████████████████████████▋                                                        | 9/25 [00:00<00:00, 19.50it/s]"
     ]
    },
    {
     "name": "stderr",
     "output_type": "stream",
     "text": [
      "\u001b[A"
     ]
    },
    {
     "name": "stderr",
     "output_type": "stream",
     "text": [
      "\n"
     ]
    },
    {
     "name": "stderr",
     "output_type": "stream",
     "text": [
      "\r",
      "LP: -86280.3:  36%|███████████████████████████████▋                                                        | 9/25 [00:00<00:00, 19.50it/s]"
     ]
    },
    {
     "name": "stderr",
     "output_type": "stream",
     "text": [
      "\u001b[A"
     ]
    },
    {
     "name": "stderr",
     "output_type": "stream",
     "text": [
      "\n"
     ]
    },
    {
     "name": "stderr",
     "output_type": "stream",
     "text": [
      "\r",
      "LP: -86280.3:  48%|█████████████████████████████████████████▊                                             | 12/25 [00:00<00:00, 20.92it/s]"
     ]
    },
    {
     "name": "stderr",
     "output_type": "stream",
     "text": [
      "\u001b[A"
     ]
    },
    {
     "name": "stderr",
     "output_type": "stream",
     "text": [
      "\n"
     ]
    },
    {
     "name": "stderr",
     "output_type": "stream",
     "text": [
      "\r",
      "LP: -86262.2:  48%|█████████████████████████████████████████▊                                             | 12/25 [00:00<00:00, 20.92it/s]"
     ]
    },
    {
     "name": "stderr",
     "output_type": "stream",
     "text": [
      "\u001b[A"
     ]
    },
    {
     "name": "stderr",
     "output_type": "stream",
     "text": [
      "\n"
     ]
    },
    {
     "name": "stderr",
     "output_type": "stream",
     "text": [
      "\r",
      "LP: -86241.7:  48%|█████████████████████████████████████████▊                                             | 12/25 [00:00<00:00, 20.92it/s]"
     ]
    },
    {
     "name": "stderr",
     "output_type": "stream",
     "text": [
      "\u001b[A"
     ]
    },
    {
     "name": "stderr",
     "output_type": "stream",
     "text": [
      "\n"
     ]
    },
    {
     "name": "stderr",
     "output_type": "stream",
     "text": [
      "\r",
      "LP: -86228.6:  48%|█████████████████████████████████████████▊                                             | 12/25 [00:00<00:00, 20.92it/s]"
     ]
    },
    {
     "name": "stderr",
     "output_type": "stream",
     "text": [
      "\u001b[A"
     ]
    },
    {
     "name": "stderr",
     "output_type": "stream",
     "text": [
      "\n"
     ]
    },
    {
     "name": "stderr",
     "output_type": "stream",
     "text": [
      "\r",
      "LP: -86228.6:  60%|████████████████████████████████████████████████████▏                                  | 15/25 [00:00<00:00, 22.21it/s]"
     ]
    },
    {
     "name": "stderr",
     "output_type": "stream",
     "text": [
      "\u001b[A"
     ]
    },
    {
     "name": "stderr",
     "output_type": "stream",
     "text": [
      "\n"
     ]
    },
    {
     "name": "stderr",
     "output_type": "stream",
     "text": [
      "\r",
      "LP: -86217.4:  60%|████████████████████████████████████████████████████▏                                  | 15/25 [00:00<00:00, 22.21it/s]"
     ]
    },
    {
     "name": "stderr",
     "output_type": "stream",
     "text": [
      "\u001b[A"
     ]
    },
    {
     "name": "stderr",
     "output_type": "stream",
     "text": [
      "\n"
     ]
    },
    {
     "name": "stderr",
     "output_type": "stream",
     "text": [
      "\r",
      "LP: -86209.1:  60%|████████████████████████████████████████████████████▏                                  | 15/25 [00:00<00:00, 22.21it/s]"
     ]
    },
    {
     "name": "stderr",
     "output_type": "stream",
     "text": [
      "\u001b[A"
     ]
    },
    {
     "name": "stderr",
     "output_type": "stream",
     "text": [
      "\n"
     ]
    },
    {
     "name": "stderr",
     "output_type": "stream",
     "text": [
      "\r",
      "LP: -86193.5:  60%|████████████████████████████████████████████████████▏                                  | 15/25 [00:00<00:00, 22.21it/s]"
     ]
    },
    {
     "name": "stderr",
     "output_type": "stream",
     "text": [
      "\u001b[A"
     ]
    },
    {
     "name": "stderr",
     "output_type": "stream",
     "text": [
      "\n"
     ]
    },
    {
     "name": "stderr",
     "output_type": "stream",
     "text": [
      "\r",
      "LP: -86193.5:  72%|██████████████████████████████████████████████████████████████▋                        | 18/25 [00:00<00:00, 22.72it/s]"
     ]
    },
    {
     "name": "stderr",
     "output_type": "stream",
     "text": [
      "\u001b[A"
     ]
    },
    {
     "name": "stderr",
     "output_type": "stream",
     "text": [
      "\n"
     ]
    },
    {
     "name": "stderr",
     "output_type": "stream",
     "text": [
      "\r",
      "LP: -86183.7:  72%|██████████████████████████████████████████████████████████████▋                        | 18/25 [00:00<00:00, 22.72it/s]"
     ]
    },
    {
     "name": "stderr",
     "output_type": "stream",
     "text": [
      "\u001b[A"
     ]
    },
    {
     "name": "stderr",
     "output_type": "stream",
     "text": [
      "\n"
     ]
    },
    {
     "name": "stderr",
     "output_type": "stream",
     "text": [
      "\r",
      "LP: -86175.3:  72%|██████████████████████████████████████████████████████████████▋                        | 18/25 [00:00<00:00, 22.72it/s]"
     ]
    },
    {
     "name": "stderr",
     "output_type": "stream",
     "text": [
      "\u001b[A"
     ]
    },
    {
     "name": "stderr",
     "output_type": "stream",
     "text": [
      "\n"
     ]
    },
    {
     "name": "stderr",
     "output_type": "stream",
     "text": [
      "\r",
      "LP: -86165.9:  72%|██████████████████████████████████████████████████████████████▋                        | 18/25 [00:00<00:00, 22.72it/s]"
     ]
    },
    {
     "name": "stderr",
     "output_type": "stream",
     "text": [
      "\u001b[A"
     ]
    },
    {
     "name": "stderr",
     "output_type": "stream",
     "text": [
      "\n"
     ]
    },
    {
     "name": "stderr",
     "output_type": "stream",
     "text": [
      "\r",
      "LP: -86165.9:  84%|█████████████████████████████████████████████████████████████████████████              | 21/25 [00:00<00:00, 24.56it/s]"
     ]
    },
    {
     "name": "stderr",
     "output_type": "stream",
     "text": [
      "\u001b[A"
     ]
    },
    {
     "name": "stderr",
     "output_type": "stream",
     "text": [
      "\n"
     ]
    },
    {
     "name": "stderr",
     "output_type": "stream",
     "text": [
      "\r",
      "LP: -86156.8:  84%|█████████████████████████████████████████████████████████████████████████              | 21/25 [00:00<00:00, 24.56it/s]"
     ]
    },
    {
     "name": "stderr",
     "output_type": "stream",
     "text": [
      "\u001b[A"
     ]
    },
    {
     "name": "stderr",
     "output_type": "stream",
     "text": [
      "\n"
     ]
    },
    {
     "name": "stderr",
     "output_type": "stream",
     "text": [
      "\r",
      "LP: -86140.8:  84%|█████████████████████████████████████████████████████████████████████████              | 21/25 [00:01<00:00, 24.56it/s]"
     ]
    },
    {
     "name": "stderr",
     "output_type": "stream",
     "text": [
      "\u001b[A"
     ]
    },
    {
     "name": "stderr",
     "output_type": "stream",
     "text": [
      "\n"
     ]
    },
    {
     "name": "stderr",
     "output_type": "stream",
     "text": [
      "\r",
      "LP: -86128.8:  84%|█████████████████████████████████████████████████████████████████████████              | 21/25 [00:01<00:00, 24.56it/s]"
     ]
    },
    {
     "name": "stderr",
     "output_type": "stream",
     "text": [
      "\u001b[A"
     ]
    },
    {
     "name": "stderr",
     "output_type": "stream",
     "text": [
      "\n"
     ]
    },
    {
     "name": "stderr",
     "output_type": "stream",
     "text": [
      "\r",
      "LP: -86128.8:  96%|███████████████████████████████████████████████████████████████████████████████████▌   | 24/25 [00:01<00:00, 24.75it/s]"
     ]
    },
    {
     "name": "stderr",
     "output_type": "stream",
     "text": [
      "\u001b[A"
     ]
    },
    {
     "name": "stderr",
     "output_type": "stream",
     "text": [
      "\n"
     ]
    },
    {
     "name": "stderr",
     "output_type": "stream",
     "text": [
      "\r",
      "LP: -86116.7:  96%|███████████████████████████████████████████████████████████████████████████████████▌   | 24/25 [00:01<00:00, 24.75it/s]"
     ]
    },
    {
     "name": "stderr",
     "output_type": "stream",
     "text": [
      "\u001b[A"
     ]
    },
    {
     "name": "stderr",
     "output_type": "stream",
     "text": [
      "\r",
      "LP: -86116.7: 100%|███████████████████████████████████████████████████████████████████████████████████████| 25/25 [00:01<00:00, 23.08it/s]"
     ]
    },
    {
     "name": "stderr",
     "output_type": "stream",
     "text": [
      "\n"
     ]
    },
    {
     "name": "stderr",
     "output_type": "stream",
     "text": [
      "\r",
      "ARHMM Initialization restarts:  10%|███████                                                                | 1/10 [00:01<00:10,  1.21s/it]"
     ]
    },
    {
     "name": "stdout",
     "output_type": "stream",
     "text": [
      "Initializing with an ARHMM using 25 steps of EM.\n"
     ]
    },
    {
     "name": "stderr",
     "output_type": "stream",
     "text": [
      "\n"
     ]
    },
    {
     "name": "stderr",
     "output_type": "stream",
     "text": [
      "\r",
      "  0%|                                                                                                              | 0/25 [00:00<?, ?it/s]"
     ]
    },
    {
     "name": "stderr",
     "output_type": "stream",
     "text": [
      "\u001b[A"
     ]
    },
    {
     "name": "stderr",
     "output_type": "stream",
     "text": [
      "\n"
     ]
    },
    {
     "name": "stderr",
     "output_type": "stream",
     "text": [
      "\r",
      "LP: -88543.6:   0%|                                                                                                | 0/25 [00:00<?, ?it/s]"
     ]
    },
    {
     "name": "stderr",
     "output_type": "stream",
     "text": [
      "\u001b[A"
     ]
    },
    {
     "name": "stderr",
     "output_type": "stream",
     "text": [
      "\n"
     ]
    },
    {
     "name": "stderr",
     "output_type": "stream",
     "text": [
      "\r",
      "LP: -88545.9:   0%|                                                                                                | 0/25 [00:00<?, ?it/s]"
     ]
    },
    {
     "name": "stderr",
     "output_type": "stream",
     "text": [
      "\u001b[A"
     ]
    },
    {
     "name": "stderr",
     "output_type": "stream",
     "text": [
      "\n"
     ]
    },
    {
     "name": "stderr",
     "output_type": "stream",
     "text": [
      "\r",
      "LP: -88363.0:   0%|                                                                                                | 0/25 [00:00<?, ?it/s]"
     ]
    },
    {
     "name": "stderr",
     "output_type": "stream",
     "text": [
      "\u001b[A"
     ]
    },
    {
     "name": "stderr",
     "output_type": "stream",
     "text": [
      "\n"
     ]
    },
    {
     "name": "stderr",
     "output_type": "stream",
     "text": [
      "\r",
      "LP: -88127.2:   0%|                                                                                                | 0/25 [00:00<?, ?it/s]"
     ]
    },
    {
     "name": "stderr",
     "output_type": "stream",
     "text": [
      "\u001b[A"
     ]
    },
    {
     "name": "stderr",
     "output_type": "stream",
     "text": [
      "\n"
     ]
    },
    {
     "name": "stderr",
     "output_type": "stream",
     "text": [
      "\r",
      "LP: -88127.2:  12%|██████████▌                                                                             | 3/25 [00:00<00:00, 26.93it/s]"
     ]
    },
    {
     "name": "stderr",
     "output_type": "stream",
     "text": [
      "\u001b[A"
     ]
    },
    {
     "name": "stderr",
     "output_type": "stream",
     "text": [
      "\n"
     ]
    },
    {
     "name": "stderr",
     "output_type": "stream",
     "text": [
      "\r",
      "LP: -87884.1:  12%|██████████▌                                                                             | 3/25 [00:00<00:00, 26.93it/s]"
     ]
    },
    {
     "name": "stderr",
     "output_type": "stream",
     "text": [
      "\u001b[A"
     ]
    },
    {
     "name": "stderr",
     "output_type": "stream",
     "text": [
      "\n"
     ]
    },
    {
     "name": "stderr",
     "output_type": "stream",
     "text": [
      "\r",
      "LP: -87642.4:  12%|██████████▌                                                                             | 3/25 [00:00<00:00, 26.93it/s]"
     ]
    },
    {
     "name": "stderr",
     "output_type": "stream",
     "text": [
      "\u001b[A"
     ]
    },
    {
     "name": "stderr",
     "output_type": "stream",
     "text": [
      "\n"
     ]
    },
    {
     "name": "stderr",
     "output_type": "stream",
     "text": [
      "\r",
      "LP: -87395.3:  12%|██████████▌                                                                             | 3/25 [00:00<00:00, 26.93it/s]"
     ]
    },
    {
     "name": "stderr",
     "output_type": "stream",
     "text": [
      "\u001b[A"
     ]
    },
    {
     "name": "stderr",
     "output_type": "stream",
     "text": [
      "\n"
     ]
    },
    {
     "name": "stderr",
     "output_type": "stream",
     "text": [
      "\r",
      "LP: -87395.3:  24%|█████████████████████                                                                   | 6/25 [00:00<00:00, 23.28it/s]"
     ]
    },
    {
     "name": "stderr",
     "output_type": "stream",
     "text": [
      "\u001b[A"
     ]
    },
    {
     "name": "stderr",
     "output_type": "stream",
     "text": [
      "\n"
     ]
    },
    {
     "name": "stderr",
     "output_type": "stream",
     "text": [
      "\r",
      "LP: -87136.5:  24%|█████████████████████                                                                   | 6/25 [00:00<00:00, 23.28it/s]"
     ]
    },
    {
     "name": "stderr",
     "output_type": "stream",
     "text": [
      "\u001b[A"
     ]
    },
    {
     "name": "stderr",
     "output_type": "stream",
     "text": [
      "\n"
     ]
    },
    {
     "name": "stderr",
     "output_type": "stream",
     "text": [
      "\r",
      "LP: -86886.3:  24%|█████████████████████                                                                   | 6/25 [00:00<00:00, 23.28it/s]"
     ]
    },
    {
     "name": "stderr",
     "output_type": "stream",
     "text": [
      "\u001b[A"
     ]
    },
    {
     "name": "stderr",
     "output_type": "stream",
     "text": [
      "\n"
     ]
    },
    {
     "name": "stderr",
     "output_type": "stream",
     "text": [
      "\r",
      "LP: -86675.0:  24%|█████████████████████                                                                   | 6/25 [00:00<00:00, 23.28it/s]"
     ]
    },
    {
     "name": "stderr",
     "output_type": "stream",
     "text": [
      "\u001b[A"
     ]
    },
    {
     "name": "stderr",
     "output_type": "stream",
     "text": [
      "\n"
     ]
    },
    {
     "name": "stderr",
     "output_type": "stream",
     "text": [
      "\r",
      "LP: -86675.0:  36%|███████████████████████████████▋                                                        | 9/25 [00:00<00:00, 20.04it/s]"
     ]
    },
    {
     "name": "stderr",
     "output_type": "stream",
     "text": [
      "\u001b[A"
     ]
    },
    {
     "name": "stderr",
     "output_type": "stream",
     "text": [
      "\n"
     ]
    },
    {
     "name": "stderr",
     "output_type": "stream",
     "text": [
      "\r",
      "LP: -86534.1:  36%|███████████████████████████████▋                                                        | 9/25 [00:00<00:00, 20.04it/s]"
     ]
    },
    {
     "name": "stderr",
     "output_type": "stream",
     "text": [
      "\u001b[A"
     ]
    },
    {
     "name": "stderr",
     "output_type": "stream",
     "text": [
      "\n"
     ]
    },
    {
     "name": "stderr",
     "output_type": "stream",
     "text": [
      "\r",
      "LP: -86427.5:  36%|███████████████████████████████▋                                                        | 9/25 [00:00<00:00, 20.04it/s]"
     ]
    },
    {
     "name": "stderr",
     "output_type": "stream",
     "text": [
      "\u001b[A"
     ]
    },
    {
     "name": "stderr",
     "output_type": "stream",
     "text": [
      "\n"
     ]
    },
    {
     "name": "stderr",
     "output_type": "stream",
     "text": [
      "\r",
      "LP: -86343.3:  36%|███████████████████████████████▋                                                        | 9/25 [00:00<00:00, 20.04it/s]"
     ]
    },
    {
     "name": "stderr",
     "output_type": "stream",
     "text": [
      "\u001b[A"
     ]
    },
    {
     "name": "stderr",
     "output_type": "stream",
     "text": [
      "\n"
     ]
    },
    {
     "name": "stderr",
     "output_type": "stream",
     "text": [
      "\r",
      "LP: -86343.3:  48%|█████████████████████████████████████████▊                                             | 12/25 [00:00<00:00, 19.31it/s]"
     ]
    },
    {
     "name": "stderr",
     "output_type": "stream",
     "text": [
      "\u001b[A"
     ]
    },
    {
     "name": "stderr",
     "output_type": "stream",
     "text": [
      "\n"
     ]
    },
    {
     "name": "stderr",
     "output_type": "stream",
     "text": [
      "\r",
      "LP: -86280.3:  48%|█████████████████████████████████████████▊                                             | 12/25 [00:00<00:00, 19.31it/s]"
     ]
    },
    {
     "name": "stderr",
     "output_type": "stream",
     "text": [
      "\u001b[A"
     ]
    },
    {
     "name": "stderr",
     "output_type": "stream",
     "text": [
      "\n"
     ]
    },
    {
     "name": "stderr",
     "output_type": "stream",
     "text": [
      "\r",
      "LP: -86238.2:  48%|█████████████████████████████████████████▊                                             | 12/25 [00:00<00:00, 19.31it/s]"
     ]
    },
    {
     "name": "stderr",
     "output_type": "stream",
     "text": [
      "\u001b[A"
     ]
    },
    {
     "name": "stderr",
     "output_type": "stream",
     "text": [
      "\n"
     ]
    },
    {
     "name": "stderr",
     "output_type": "stream",
     "text": [
      "\r",
      "LP: -86199.4:  48%|█████████████████████████████████████████▊                                             | 12/25 [00:00<00:00, 19.31it/s]"
     ]
    },
    {
     "name": "stderr",
     "output_type": "stream",
     "text": [
      "\u001b[A"
     ]
    },
    {
     "name": "stderr",
     "output_type": "stream",
     "text": [
      "\n"
     ]
    },
    {
     "name": "stderr",
     "output_type": "stream",
     "text": [
      "\r",
      "LP: -86199.4:  60%|████████████████████████████████████████████████████▏                                  | 15/25 [00:00<00:00, 20.57it/s]"
     ]
    },
    {
     "name": "stderr",
     "output_type": "stream",
     "text": [
      "\u001b[A"
     ]
    },
    {
     "name": "stderr",
     "output_type": "stream",
     "text": [
      "\n"
     ]
    },
    {
     "name": "stderr",
     "output_type": "stream",
     "text": [
      "\r",
      "LP: -86174.6:  60%|████████████████████████████████████████████████████▏                                  | 15/25 [00:00<00:00, 20.57it/s]"
     ]
    },
    {
     "name": "stderr",
     "output_type": "stream",
     "text": [
      "\u001b[A"
     ]
    },
    {
     "name": "stderr",
     "output_type": "stream",
     "text": [
      "\n"
     ]
    },
    {
     "name": "stderr",
     "output_type": "stream",
     "text": [
      "\r",
      "LP: -86146.4:  60%|████████████████████████████████████████████████████▏                                  | 15/25 [00:00<00:00, 20.57it/s]"
     ]
    },
    {
     "name": "stderr",
     "output_type": "stream",
     "text": [
      "\u001b[A"
     ]
    },
    {
     "name": "stderr",
     "output_type": "stream",
     "text": [
      "\n"
     ]
    },
    {
     "name": "stderr",
     "output_type": "stream",
     "text": [
      "\r",
      "LP: -86126.4:  60%|████████████████████████████████████████████████████▏                                  | 15/25 [00:00<00:00, 20.57it/s]"
     ]
    },
    {
     "name": "stderr",
     "output_type": "stream",
     "text": [
      "\u001b[A"
     ]
    },
    {
     "name": "stderr",
     "output_type": "stream",
     "text": [
      "\n"
     ]
    },
    {
     "name": "stderr",
     "output_type": "stream",
     "text": [
      "\r",
      "LP: -86126.4:  72%|██████████████████████████████████████████████████████████████▋                        | 18/25 [00:00<00:00, 21.13it/s]"
     ]
    },
    {
     "name": "stderr",
     "output_type": "stream",
     "text": [
      "\u001b[A"
     ]
    },
    {
     "name": "stderr",
     "output_type": "stream",
     "text": [
      "\n"
     ]
    },
    {
     "name": "stderr",
     "output_type": "stream",
     "text": [
      "\r",
      "LP: -86101.5:  72%|██████████████████████████████████████████████████████████████▋                        | 18/25 [00:00<00:00, 21.13it/s]"
     ]
    },
    {
     "name": "stderr",
     "output_type": "stream",
     "text": [
      "\u001b[A"
     ]
    },
    {
     "name": "stderr",
     "output_type": "stream",
     "text": [
      "\n"
     ]
    },
    {
     "name": "stderr",
     "output_type": "stream",
     "text": [
      "\r",
      "LP: -86087.0:  72%|██████████████████████████████████████████████████████████████▋                        | 18/25 [00:00<00:00, 21.13it/s]"
     ]
    },
    {
     "name": "stderr",
     "output_type": "stream",
     "text": [
      "\u001b[A"
     ]
    },
    {
     "name": "stderr",
     "output_type": "stream",
     "text": [
      "\n"
     ]
    },
    {
     "name": "stderr",
     "output_type": "stream",
     "text": [
      "\r",
      "LP: -86066.6:  72%|██████████████████████████████████████████████████████████████▋                        | 18/25 [00:00<00:00, 21.13it/s]"
     ]
    },
    {
     "name": "stderr",
     "output_type": "stream",
     "text": [
      "\u001b[A"
     ]
    },
    {
     "name": "stderr",
     "output_type": "stream",
     "text": [
      "\n"
     ]
    },
    {
     "name": "stderr",
     "output_type": "stream",
     "text": [
      "\r",
      "LP: -86066.6:  84%|█████████████████████████████████████████████████████████████████████████              | 21/25 [00:00<00:00, 22.25it/s]"
     ]
    },
    {
     "name": "stderr",
     "output_type": "stream",
     "text": [
      "\u001b[A"
     ]
    },
    {
     "name": "stderr",
     "output_type": "stream",
     "text": [
      "\n"
     ]
    },
    {
     "name": "stderr",
     "output_type": "stream",
     "text": [
      "\r",
      "LP: -86054.1:  84%|█████████████████████████████████████████████████████████████████████████              | 21/25 [00:01<00:00, 22.25it/s]"
     ]
    },
    {
     "name": "stderr",
     "output_type": "stream",
     "text": [
      "\u001b[A"
     ]
    },
    {
     "name": "stderr",
     "output_type": "stream",
     "text": [
      "\n"
     ]
    },
    {
     "name": "stderr",
     "output_type": "stream",
     "text": [
      "\r",
      "LP: -86034.5:  84%|█████████████████████████████████████████████████████████████████████████              | 21/25 [00:01<00:00, 22.25it/s]"
     ]
    },
    {
     "name": "stderr",
     "output_type": "stream",
     "text": [
      "\u001b[A"
     ]
    },
    {
     "name": "stderr",
     "output_type": "stream",
     "text": [
      "\n"
     ]
    },
    {
     "name": "stderr",
     "output_type": "stream",
     "text": [
      "\r",
      "LP: -86021.3:  84%|█████████████████████████████████████████████████████████████████████████              | 21/25 [00:01<00:00, 22.25it/s]"
     ]
    },
    {
     "name": "stderr",
     "output_type": "stream",
     "text": [
      "\u001b[A"
     ]
    },
    {
     "name": "stderr",
     "output_type": "stream",
     "text": [
      "\n"
     ]
    },
    {
     "name": "stderr",
     "output_type": "stream",
     "text": [
      "\r",
      "LP: -86021.3:  96%|███████████████████████████████████████████████████████████████████████████████████▌   | 24/25 [00:01<00:00, 21.76it/s]"
     ]
    },
    {
     "name": "stderr",
     "output_type": "stream",
     "text": [
      "\u001b[A"
     ]
    },
    {
     "name": "stderr",
     "output_type": "stream",
     "text": [
      "\n"
     ]
    },
    {
     "name": "stderr",
     "output_type": "stream",
     "text": [
      "\r",
      "LP: -85998.0:  96%|███████████████████████████████████████████████████████████████████████████████████▌   | 24/25 [00:01<00:00, 21.76it/s]"
     ]
    },
    {
     "name": "stderr",
     "output_type": "stream",
     "text": [
      "\u001b[A"
     ]
    },
    {
     "name": "stderr",
     "output_type": "stream",
     "text": [
      "\r",
      "LP: -85998.0: 100%|███████████████████████████████████████████████████████████████████████████████████████| 25/25 [00:01<00:00, 21.68it/s]"
     ]
    },
    {
     "name": "stderr",
     "output_type": "stream",
     "text": [
      "\n",
      "\r",
      "ARHMM Initialization restarts:  20%|██████████████▏                                                        | 2/10 [00:02<00:09,  1.19s/it]"
     ]
    },
    {
     "name": "stdout",
     "output_type": "stream",
     "text": [
      "Initializing with an ARHMM using 25 steps of EM.\n"
     ]
    },
    {
     "name": "stderr",
     "output_type": "stream",
     "text": [
      "\n"
     ]
    },
    {
     "name": "stderr",
     "output_type": "stream",
     "text": [
      "\r",
      "  0%|                                                                                                              | 0/25 [00:00<?, ?it/s]"
     ]
    },
    {
     "name": "stderr",
     "output_type": "stream",
     "text": [
      "\u001b[A"
     ]
    },
    {
     "name": "stderr",
     "output_type": "stream",
     "text": [
      "\n"
     ]
    },
    {
     "name": "stderr",
     "output_type": "stream",
     "text": [
      "\r",
      "LP: -88563.6:   0%|                                                                                                | 0/25 [00:00<?, ?it/s]"
     ]
    },
    {
     "name": "stderr",
     "output_type": "stream",
     "text": [
      "\u001b[A"
     ]
    },
    {
     "name": "stderr",
     "output_type": "stream",
     "text": [
      "\n"
     ]
    },
    {
     "name": "stderr",
     "output_type": "stream",
     "text": [
      "\r",
      "LP: -88566.0:   0%|                                                                                                | 0/25 [00:00<?, ?it/s]"
     ]
    },
    {
     "name": "stderr",
     "output_type": "stream",
     "text": [
      "\u001b[A"
     ]
    },
    {
     "name": "stderr",
     "output_type": "stream",
     "text": [
      "\n"
     ]
    },
    {
     "name": "stderr",
     "output_type": "stream",
     "text": [
      "\r",
      "LP: -88406.6:   0%|                                                                                                | 0/25 [00:00<?, ?it/s]"
     ]
    },
    {
     "name": "stderr",
     "output_type": "stream",
     "text": [
      "\u001b[A"
     ]
    },
    {
     "name": "stderr",
     "output_type": "stream",
     "text": [
      "\n"
     ]
    },
    {
     "name": "stderr",
     "output_type": "stream",
     "text": [
      "\r",
      "LP: -88175.4:   0%|                                                                                                | 0/25 [00:00<?, ?it/s]"
     ]
    },
    {
     "name": "stderr",
     "output_type": "stream",
     "text": [
      "\u001b[A"
     ]
    },
    {
     "name": "stderr",
     "output_type": "stream",
     "text": [
      "\n"
     ]
    },
    {
     "name": "stderr",
     "output_type": "stream",
     "text": [
      "\r",
      "LP: -88175.4:  12%|██████████▌                                                                             | 3/25 [00:00<00:00, 24.04it/s]"
     ]
    },
    {
     "name": "stderr",
     "output_type": "stream",
     "text": [
      "\u001b[A"
     ]
    },
    {
     "name": "stderr",
     "output_type": "stream",
     "text": [
      "\n"
     ]
    },
    {
     "name": "stderr",
     "output_type": "stream",
     "text": [
      "\r",
      "LP: -87874.9:  12%|██████████▌                                                                             | 3/25 [00:00<00:00, 24.04it/s]"
     ]
    },
    {
     "name": "stderr",
     "output_type": "stream",
     "text": [
      "\u001b[A"
     ]
    },
    {
     "name": "stderr",
     "output_type": "stream",
     "text": [
      "\n"
     ]
    },
    {
     "name": "stderr",
     "output_type": "stream",
     "text": [
      "\r",
      "LP: -87541.0:  12%|██████████▌                                                                             | 3/25 [00:00<00:00, 24.04it/s]"
     ]
    },
    {
     "name": "stderr",
     "output_type": "stream",
     "text": [
      "\u001b[A"
     ]
    },
    {
     "name": "stderr",
     "output_type": "stream",
     "text": [
      "\n"
     ]
    },
    {
     "name": "stderr",
     "output_type": "stream",
     "text": [
      "\r",
      "LP: -87217.5:  12%|██████████▌                                                                             | 3/25 [00:00<00:00, 24.04it/s]"
     ]
    },
    {
     "name": "stderr",
     "output_type": "stream",
     "text": [
      "\u001b[A"
     ]
    },
    {
     "name": "stderr",
     "output_type": "stream",
     "text": [
      "\n"
     ]
    },
    {
     "name": "stderr",
     "output_type": "stream",
     "text": [
      "\r",
      "LP: -87217.5:  24%|█████████████████████                                                                   | 6/25 [00:00<00:00, 22.99it/s]"
     ]
    },
    {
     "name": "stderr",
     "output_type": "stream",
     "text": [
      "\u001b[A"
     ]
    },
    {
     "name": "stderr",
     "output_type": "stream",
     "text": [
      "\n"
     ]
    },
    {
     "name": "stderr",
     "output_type": "stream",
     "text": [
      "\r",
      "LP: -86977.8:  24%|█████████████████████                                                                   | 6/25 [00:00<00:00, 22.99it/s]"
     ]
    },
    {
     "name": "stderr",
     "output_type": "stream",
     "text": [
      "\u001b[A"
     ]
    },
    {
     "name": "stderr",
     "output_type": "stream",
     "text": [
      "\n"
     ]
    },
    {
     "name": "stderr",
     "output_type": "stream",
     "text": [
      "\r",
      "LP: -86811.6:  24%|█████████████████████                                                                   | 6/25 [00:00<00:00, 22.99it/s]"
     ]
    },
    {
     "name": "stderr",
     "output_type": "stream",
     "text": [
      "\u001b[A"
     ]
    },
    {
     "name": "stderr",
     "output_type": "stream",
     "text": [
      "\n"
     ]
    },
    {
     "name": "stderr",
     "output_type": "stream",
     "text": [
      "\r",
      "LP: -86691.1:  24%|█████████████████████                                                                   | 6/25 [00:00<00:00, 22.99it/s]"
     ]
    },
    {
     "name": "stderr",
     "output_type": "stream",
     "text": [
      "\u001b[A"
     ]
    },
    {
     "name": "stderr",
     "output_type": "stream",
     "text": [
      "\n"
     ]
    },
    {
     "name": "stderr",
     "output_type": "stream",
     "text": [
      "\r",
      "LP: -86691.1:  36%|███████████████████████████████▋                                                        | 9/25 [00:00<00:00, 20.32it/s]"
     ]
    },
    {
     "name": "stderr",
     "output_type": "stream",
     "text": [
      "\u001b[A"
     ]
    },
    {
     "name": "stderr",
     "output_type": "stream",
     "text": [
      "\n"
     ]
    },
    {
     "name": "stderr",
     "output_type": "stream",
     "text": [
      "\r",
      "LP: -86604.0:  36%|███████████████████████████████▋                                                        | 9/25 [00:00<00:00, 20.32it/s]"
     ]
    },
    {
     "name": "stderr",
     "output_type": "stream",
     "text": [
      "\u001b[A"
     ]
    },
    {
     "name": "stderr",
     "output_type": "stream",
     "text": [
      "\n"
     ]
    },
    {
     "name": "stderr",
     "output_type": "stream",
     "text": [
      "\r",
      "LP: -86536.7:  36%|███████████████████████████████▋                                                        | 9/25 [00:00<00:00, 20.32it/s]"
     ]
    },
    {
     "name": "stderr",
     "output_type": "stream",
     "text": [
      "\u001b[A"
     ]
    },
    {
     "name": "stderr",
     "output_type": "stream",
     "text": [
      "\n"
     ]
    },
    {
     "name": "stderr",
     "output_type": "stream",
     "text": [
      "\r",
      "LP: -86480.9:  36%|███████████████████████████████▋                                                        | 9/25 [00:00<00:00, 20.32it/s]"
     ]
    },
    {
     "name": "stderr",
     "output_type": "stream",
     "text": [
      "\u001b[A"
     ]
    },
    {
     "name": "stderr",
     "output_type": "stream",
     "text": [
      "\n"
     ]
    },
    {
     "name": "stderr",
     "output_type": "stream",
     "text": [
      "\r",
      "LP: -86480.9:  48%|█████████████████████████████████████████▊                                             | 12/25 [00:00<00:00, 21.24it/s]"
     ]
    },
    {
     "name": "stderr",
     "output_type": "stream",
     "text": [
      "\u001b[A"
     ]
    },
    {
     "name": "stderr",
     "output_type": "stream",
     "text": [
      "\n"
     ]
    },
    {
     "name": "stderr",
     "output_type": "stream",
     "text": [
      "\r",
      "LP: -86439.7:  48%|█████████████████████████████████████████▊                                             | 12/25 [00:00<00:00, 21.24it/s]"
     ]
    },
    {
     "name": "stderr",
     "output_type": "stream",
     "text": [
      "\u001b[A"
     ]
    },
    {
     "name": "stderr",
     "output_type": "stream",
     "text": [
      "\n"
     ]
    },
    {
     "name": "stderr",
     "output_type": "stream",
     "text": [
      "\r",
      "LP: -86400.3:  48%|█████████████████████████████████████████▊                                             | 12/25 [00:00<00:00, 21.24it/s]"
     ]
    },
    {
     "name": "stderr",
     "output_type": "stream",
     "text": [
      "\u001b[A"
     ]
    },
    {
     "name": "stderr",
     "output_type": "stream",
     "text": [
      "\n"
     ]
    },
    {
     "name": "stderr",
     "output_type": "stream",
     "text": [
      "\r",
      "LP: -86372.9:  48%|█████████████████████████████████████████▊                                             | 12/25 [00:00<00:00, 21.24it/s]"
     ]
    },
    {
     "name": "stderr",
     "output_type": "stream",
     "text": [
      "\u001b[A"
     ]
    },
    {
     "name": "stderr",
     "output_type": "stream",
     "text": [
      "\n"
     ]
    },
    {
     "name": "stderr",
     "output_type": "stream",
     "text": [
      "\r",
      "LP: -86372.9:  60%|████████████████████████████████████████████████████▏                                  | 15/25 [00:00<00:00, 21.97it/s]"
     ]
    },
    {
     "name": "stderr",
     "output_type": "stream",
     "text": [
      "\u001b[A"
     ]
    },
    {
     "name": "stderr",
     "output_type": "stream",
     "text": [
      "\n"
     ]
    },
    {
     "name": "stderr",
     "output_type": "stream",
     "text": [
      "\r",
      "LP: -86346.6:  60%|████████████████████████████████████████████████████▏                                  | 15/25 [00:00<00:00, 21.97it/s]"
     ]
    },
    {
     "name": "stderr",
     "output_type": "stream",
     "text": [
      "\u001b[A"
     ]
    },
    {
     "name": "stderr",
     "output_type": "stream",
     "text": [
      "\n"
     ]
    },
    {
     "name": "stderr",
     "output_type": "stream",
     "text": [
      "\r",
      "LP: -86326.7:  60%|████████████████████████████████████████████████████▏                                  | 15/25 [00:00<00:00, 21.97it/s]"
     ]
    },
    {
     "name": "stderr",
     "output_type": "stream",
     "text": [
      "\u001b[A"
     ]
    },
    {
     "name": "stderr",
     "output_type": "stream",
     "text": [
      "\n"
     ]
    },
    {
     "name": "stderr",
     "output_type": "stream",
     "text": [
      "\r",
      "LP: -86308.0:  60%|████████████████████████████████████████████████████▏                                  | 15/25 [00:00<00:00, 21.97it/s]"
     ]
    },
    {
     "name": "stderr",
     "output_type": "stream",
     "text": [
      "\u001b[A"
     ]
    },
    {
     "name": "stderr",
     "output_type": "stream",
     "text": [
      "\n"
     ]
    },
    {
     "name": "stderr",
     "output_type": "stream",
     "text": [
      "\r",
      "LP: -86308.0:  72%|██████████████████████████████████████████████████████████████▋                        | 18/25 [00:00<00:00, 21.43it/s]"
     ]
    },
    {
     "name": "stderr",
     "output_type": "stream",
     "text": [
      "\u001b[A"
     ]
    },
    {
     "name": "stderr",
     "output_type": "stream",
     "text": [
      "\n"
     ]
    },
    {
     "name": "stderr",
     "output_type": "stream",
     "text": [
      "\r",
      "LP: -86297.3:  72%|██████████████████████████████████████████████████████████████▋                        | 18/25 [00:00<00:00, 21.43it/s]"
     ]
    },
    {
     "name": "stderr",
     "output_type": "stream",
     "text": [
      "\u001b[A"
     ]
    },
    {
     "name": "stderr",
     "output_type": "stream",
     "text": [
      "\n"
     ]
    },
    {
     "name": "stderr",
     "output_type": "stream",
     "text": [
      "\r",
      "LP: -86289.5:  72%|██████████████████████████████████████████████████████████████▋                        | 18/25 [00:00<00:00, 21.43it/s]"
     ]
    },
    {
     "name": "stderr",
     "output_type": "stream",
     "text": [
      "\u001b[A"
     ]
    },
    {
     "name": "stderr",
     "output_type": "stream",
     "text": [
      "\n"
     ]
    },
    {
     "name": "stderr",
     "output_type": "stream",
     "text": [
      "\r",
      "LP: -86278.8:  72%|██████████████████████████████████████████████████████████████▋                        | 18/25 [00:00<00:00, 21.43it/s]"
     ]
    },
    {
     "name": "stderr",
     "output_type": "stream",
     "text": [
      "\u001b[A"
     ]
    },
    {
     "name": "stderr",
     "output_type": "stream",
     "text": [
      "\n"
     ]
    },
    {
     "name": "stderr",
     "output_type": "stream",
     "text": [
      "\r",
      "LP: -86278.8:  84%|█████████████████████████████████████████████████████████████████████████              | 21/25 [00:00<00:00, 23.28it/s]"
     ]
    },
    {
     "name": "stderr",
     "output_type": "stream",
     "text": [
      "\u001b[A"
     ]
    },
    {
     "name": "stderr",
     "output_type": "stream",
     "text": [
      "\n"
     ]
    },
    {
     "name": "stderr",
     "output_type": "stream",
     "text": [
      "\r",
      "LP: -86273.6:  84%|█████████████████████████████████████████████████████████████████████████              | 21/25 [00:00<00:00, 23.28it/s]"
     ]
    },
    {
     "name": "stderr",
     "output_type": "stream",
     "text": [
      "\u001b[A"
     ]
    },
    {
     "name": "stderr",
     "output_type": "stream",
     "text": [
      "\n"
     ]
    },
    {
     "name": "stderr",
     "output_type": "stream",
     "text": [
      "\r",
      "LP: -86269.4:  84%|█████████████████████████████████████████████████████████████████████████              | 21/25 [00:00<00:00, 23.28it/s]"
     ]
    },
    {
     "name": "stderr",
     "output_type": "stream",
     "text": [
      "\u001b[A"
     ]
    },
    {
     "name": "stderr",
     "output_type": "stream",
     "text": [
      "\n"
     ]
    },
    {
     "name": "stderr",
     "output_type": "stream",
     "text": [
      "\r",
      "LP: -86266.0:  84%|█████████████████████████████████████████████████████████████████████████              | 21/25 [00:01<00:00, 23.28it/s]"
     ]
    },
    {
     "name": "stderr",
     "output_type": "stream",
     "text": [
      "\u001b[A"
     ]
    },
    {
     "name": "stderr",
     "output_type": "stream",
     "text": [
      "\n"
     ]
    },
    {
     "name": "stderr",
     "output_type": "stream",
     "text": [
      "\r",
      "LP: -86263.5:  84%|█████████████████████████████████████████████████████████████████████████              | 21/25 [00:01<00:00, 23.28it/s]"
     ]
    },
    {
     "name": "stderr",
     "output_type": "stream",
     "text": [
      "\u001b[A"
     ]
    },
    {
     "name": "stderr",
     "output_type": "stream",
     "text": [
      "\n"
     ]
    },
    {
     "name": "stderr",
     "output_type": "stream",
     "text": [
      "\r",
      "LP: -86263.5: 100%|███████████████████████████████████████████████████████████████████████████████████████| 25/25 [00:01<00:00, 26.91it/s]"
     ]
    },
    {
     "name": "stderr",
     "output_type": "stream",
     "text": [
      "\u001b[A"
     ]
    },
    {
     "name": "stderr",
     "output_type": "stream",
     "text": [
      "\r",
      "LP: -86263.5: 100%|███████████████████████████████████████████████████████████████████████████████████████| 25/25 [00:01<00:00, 23.77it/s]"
     ]
    },
    {
     "name": "stderr",
     "output_type": "stream",
     "text": [
      "\n",
      "\r",
      "ARHMM Initialization restarts:  30%|█████████████████████▎                                                 | 3/10 [00:03<00:07,  1.14s/it]"
     ]
    },
    {
     "name": "stdout",
     "output_type": "stream",
     "text": [
      "Initializing with an ARHMM using 25 steps of EM.\n"
     ]
    },
    {
     "name": "stderr",
     "output_type": "stream",
     "text": [
      "\n"
     ]
    },
    {
     "name": "stderr",
     "output_type": "stream",
     "text": [
      "\r",
      "  0%|                                                                                                              | 0/25 [00:00<?, ?it/s]"
     ]
    },
    {
     "name": "stderr",
     "output_type": "stream",
     "text": [
      "\u001b[A"
     ]
    },
    {
     "name": "stderr",
     "output_type": "stream",
     "text": [
      "\n"
     ]
    },
    {
     "name": "stderr",
     "output_type": "stream",
     "text": [
      "\r",
      "LP: -88547.5:   0%|                                                                                                | 0/25 [00:00<?, ?it/s]"
     ]
    },
    {
     "name": "stderr",
     "output_type": "stream",
     "text": [
      "\u001b[A"
     ]
    },
    {
     "name": "stderr",
     "output_type": "stream",
     "text": [
      "\n"
     ]
    },
    {
     "name": "stderr",
     "output_type": "stream",
     "text": [
      "\r",
      "LP: -88549.6:   0%|                                                                                                | 0/25 [00:00<?, ?it/s]"
     ]
    },
    {
     "name": "stderr",
     "output_type": "stream",
     "text": [
      "\u001b[A"
     ]
    },
    {
     "name": "stderr",
     "output_type": "stream",
     "text": [
      "\n"
     ]
    },
    {
     "name": "stderr",
     "output_type": "stream",
     "text": [
      "\r",
      "LP: -88363.1:   0%|                                                                                                | 0/25 [00:00<?, ?it/s]"
     ]
    },
    {
     "name": "stderr",
     "output_type": "stream",
     "text": [
      "\u001b[A"
     ]
    },
    {
     "name": "stderr",
     "output_type": "stream",
     "text": [
      "\n"
     ]
    },
    {
     "name": "stderr",
     "output_type": "stream",
     "text": [
      "\r",
      "LP: -88060.3:   0%|                                                                                                | 0/25 [00:00<?, ?it/s]"
     ]
    },
    {
     "name": "stderr",
     "output_type": "stream",
     "text": [
      "\u001b[A"
     ]
    },
    {
     "name": "stderr",
     "output_type": "stream",
     "text": [
      "\n"
     ]
    },
    {
     "name": "stderr",
     "output_type": "stream",
     "text": [
      "\r",
      "LP: -88060.3:  12%|██████████▌                                                                             | 3/25 [00:00<00:00, 23.66it/s]"
     ]
    },
    {
     "name": "stderr",
     "output_type": "stream",
     "text": [
      "\u001b[A"
     ]
    },
    {
     "name": "stderr",
     "output_type": "stream",
     "text": [
      "\n"
     ]
    },
    {
     "name": "stderr",
     "output_type": "stream",
     "text": [
      "\r",
      "LP: -87632.6:  12%|██████████▌                                                                             | 3/25 [00:00<00:00, 23.66it/s]"
     ]
    },
    {
     "name": "stderr",
     "output_type": "stream",
     "text": [
      "\u001b[A"
     ]
    },
    {
     "name": "stderr",
     "output_type": "stream",
     "text": [
      "\n"
     ]
    },
    {
     "name": "stderr",
     "output_type": "stream",
     "text": [
      "\r",
      "LP: -87159.0:  12%|██████████▌                                                                             | 3/25 [00:00<00:00, 23.66it/s]"
     ]
    },
    {
     "name": "stderr",
     "output_type": "stream",
     "text": [
      "\u001b[A"
     ]
    },
    {
     "name": "stderr",
     "output_type": "stream",
     "text": [
      "\n"
     ]
    },
    {
     "name": "stderr",
     "output_type": "stream",
     "text": [
      "\r",
      "LP: -86797.0:  12%|██████████▌                                                                             | 3/25 [00:00<00:00, 23.66it/s]"
     ]
    },
    {
     "name": "stderr",
     "output_type": "stream",
     "text": [
      "\u001b[A"
     ]
    },
    {
     "name": "stderr",
     "output_type": "stream",
     "text": [
      "\n"
     ]
    },
    {
     "name": "stderr",
     "output_type": "stream",
     "text": [
      "\r",
      "LP: -86797.0:  24%|█████████████████████                                                                   | 6/25 [00:00<00:00, 20.27it/s]"
     ]
    },
    {
     "name": "stderr",
     "output_type": "stream",
     "text": [
      "\u001b[A"
     ]
    },
    {
     "name": "stderr",
     "output_type": "stream",
     "text": [
      "\n"
     ]
    },
    {
     "name": "stderr",
     "output_type": "stream",
     "text": [
      "\r",
      "LP: -86604.4:  24%|█████████████████████                                                                   | 6/25 [00:00<00:00, 20.27it/s]"
     ]
    },
    {
     "name": "stderr",
     "output_type": "stream",
     "text": [
      "\u001b[A"
     ]
    },
    {
     "name": "stderr",
     "output_type": "stream",
     "text": [
      "\n"
     ]
    },
    {
     "name": "stderr",
     "output_type": "stream",
     "text": [
      "\r",
      "LP: -86488.7:  24%|█████████████████████                                                                   | 6/25 [00:00<00:00, 20.27it/s]"
     ]
    },
    {
     "name": "stderr",
     "output_type": "stream",
     "text": [
      "\u001b[A"
     ]
    },
    {
     "name": "stderr",
     "output_type": "stream",
     "text": [
      "\n"
     ]
    },
    {
     "name": "stderr",
     "output_type": "stream",
     "text": [
      "\r",
      "LP: -86406.2:  24%|█████████████████████                                                                   | 6/25 [00:00<00:00, 20.27it/s]"
     ]
    },
    {
     "name": "stderr",
     "output_type": "stream",
     "text": [
      "\u001b[A"
     ]
    },
    {
     "name": "stderr",
     "output_type": "stream",
     "text": [
      "\n"
     ]
    },
    {
     "name": "stderr",
     "output_type": "stream",
     "text": [
      "\r",
      "LP: -86406.2:  36%|███████████████████████████████▋                                                        | 9/25 [00:00<00:00, 18.91it/s]"
     ]
    },
    {
     "name": "stderr",
     "output_type": "stream",
     "text": [
      "\u001b[A"
     ]
    },
    {
     "name": "stderr",
     "output_type": "stream",
     "text": [
      "\n"
     ]
    },
    {
     "name": "stderr",
     "output_type": "stream",
     "text": [
      "\r",
      "LP: -86342.3:  36%|███████████████████████████████▋                                                        | 9/25 [00:00<00:00, 18.91it/s]"
     ]
    },
    {
     "name": "stderr",
     "output_type": "stream",
     "text": [
      "\u001b[A"
     ]
    },
    {
     "name": "stderr",
     "output_type": "stream",
     "text": [
      "\n"
     ]
    },
    {
     "name": "stderr",
     "output_type": "stream",
     "text": [
      "\r",
      "LP: -86296.8:  36%|███████████████████████████████▋                                                        | 9/25 [00:00<00:00, 18.91it/s]"
     ]
    },
    {
     "name": "stderr",
     "output_type": "stream",
     "text": [
      "\u001b[A"
     ]
    },
    {
     "name": "stderr",
     "output_type": "stream",
     "text": [
      "\n"
     ]
    },
    {
     "name": "stderr",
     "output_type": "stream",
     "text": [
      "\r",
      "LP: -86247.3:  36%|███████████████████████████████▋                                                        | 9/25 [00:00<00:00, 18.91it/s]"
     ]
    },
    {
     "name": "stderr",
     "output_type": "stream",
     "text": [
      "\u001b[A"
     ]
    },
    {
     "name": "stderr",
     "output_type": "stream",
     "text": [
      "\n"
     ]
    },
    {
     "name": "stderr",
     "output_type": "stream",
     "text": [
      "\r",
      "LP: -86247.3:  48%|█████████████████████████████████████████▊                                             | 12/25 [00:00<00:00, 20.14it/s]"
     ]
    },
    {
     "name": "stderr",
     "output_type": "stream",
     "text": [
      "\u001b[A"
     ]
    },
    {
     "name": "stderr",
     "output_type": "stream",
     "text": [
      "\n"
     ]
    },
    {
     "name": "stderr",
     "output_type": "stream",
     "text": [
      "\r",
      "LP: -86209.6:  48%|█████████████████████████████████████████▊                                             | 12/25 [00:00<00:00, 20.14it/s]"
     ]
    },
    {
     "name": "stderr",
     "output_type": "stream",
     "text": [
      "\u001b[A"
     ]
    },
    {
     "name": "stderr",
     "output_type": "stream",
     "text": [
      "\n"
     ]
    },
    {
     "name": "stderr",
     "output_type": "stream",
     "text": [
      "\r",
      "LP: -86171.0:  48%|█████████████████████████████████████████▊                                             | 12/25 [00:00<00:00, 20.14it/s]"
     ]
    },
    {
     "name": "stderr",
     "output_type": "stream",
     "text": [
      "\u001b[A"
     ]
    },
    {
     "name": "stderr",
     "output_type": "stream",
     "text": [
      "\n"
     ]
    },
    {
     "name": "stderr",
     "output_type": "stream",
     "text": [
      "\r",
      "LP: -86143.4:  48%|█████████████████████████████████████████▊                                             | 12/25 [00:00<00:00, 20.14it/s]"
     ]
    },
    {
     "name": "stderr",
     "output_type": "stream",
     "text": [
      "\u001b[A"
     ]
    },
    {
     "name": "stderr",
     "output_type": "stream",
     "text": [
      "\n"
     ]
    },
    {
     "name": "stderr",
     "output_type": "stream",
     "text": [
      "\r",
      "LP: -86143.4:  60%|████████████████████████████████████████████████████▏                                  | 15/25 [00:00<00:00, 20.38it/s]"
     ]
    },
    {
     "name": "stderr",
     "output_type": "stream",
     "text": [
      "\u001b[A"
     ]
    },
    {
     "name": "stderr",
     "output_type": "stream",
     "text": [
      "\n"
     ]
    },
    {
     "name": "stderr",
     "output_type": "stream",
     "text": [
      "\r",
      "LP: -86111.4:  60%|████████████████████████████████████████████████████▏                                  | 15/25 [00:00<00:00, 20.38it/s]"
     ]
    },
    {
     "name": "stderr",
     "output_type": "stream",
     "text": [
      "\u001b[A"
     ]
    },
    {
     "name": "stderr",
     "output_type": "stream",
     "text": [
      "\n"
     ]
    },
    {
     "name": "stderr",
     "output_type": "stream",
     "text": [
      "\r",
      "LP: -86082.2:  60%|████████████████████████████████████████████████████▏                                  | 15/25 [00:00<00:00, 20.38it/s]"
     ]
    },
    {
     "name": "stderr",
     "output_type": "stream",
     "text": [
      "\u001b[A"
     ]
    },
    {
     "name": "stderr",
     "output_type": "stream",
     "text": [
      "\n"
     ]
    },
    {
     "name": "stderr",
     "output_type": "stream",
     "text": [
      "\r",
      "LP: -86042.8:  60%|████████████████████████████████████████████████████▏                                  | 15/25 [00:00<00:00, 20.38it/s]"
     ]
    },
    {
     "name": "stderr",
     "output_type": "stream",
     "text": [
      "\u001b[A"
     ]
    },
    {
     "name": "stderr",
     "output_type": "stream",
     "text": [
      "\n"
     ]
    },
    {
     "name": "stderr",
     "output_type": "stream",
     "text": [
      "\r",
      "LP: -86042.8:  72%|██████████████████████████████████████████████████████████████▋                        | 18/25 [00:00<00:00, 21.02it/s]"
     ]
    },
    {
     "name": "stderr",
     "output_type": "stream",
     "text": [
      "\u001b[A"
     ]
    },
    {
     "name": "stderr",
     "output_type": "stream",
     "text": [
      "\n"
     ]
    },
    {
     "name": "stderr",
     "output_type": "stream",
     "text": [
      "\r",
      "LP: -86006.3:  72%|██████████████████████████████████████████████████████████████▋                        | 18/25 [00:00<00:00, 21.02it/s]"
     ]
    },
    {
     "name": "stderr",
     "output_type": "stream",
     "text": [
      "\u001b[A"
     ]
    },
    {
     "name": "stderr",
     "output_type": "stream",
     "text": [
      "\n"
     ]
    },
    {
     "name": "stderr",
     "output_type": "stream",
     "text": [
      "\r",
      "LP: -85957.5:  72%|██████████████████████████████████████████████████████████████▋                        | 18/25 [00:00<00:00, 21.02it/s]"
     ]
    },
    {
     "name": "stderr",
     "output_type": "stream",
     "text": [
      "\u001b[A"
     ]
    },
    {
     "name": "stderr",
     "output_type": "stream",
     "text": [
      "\n"
     ]
    },
    {
     "name": "stderr",
     "output_type": "stream",
     "text": [
      "\r",
      "LP: -85891.3:  72%|██████████████████████████████████████████████████████████████▋                        | 18/25 [00:01<00:00, 21.02it/s]"
     ]
    },
    {
     "name": "stderr",
     "output_type": "stream",
     "text": [
      "\u001b[A"
     ]
    },
    {
     "name": "stderr",
     "output_type": "stream",
     "text": [
      "\n"
     ]
    },
    {
     "name": "stderr",
     "output_type": "stream",
     "text": [
      "\r",
      "LP: -85891.3:  84%|█████████████████████████████████████████████████████████████████████████              | 21/25 [00:01<00:00, 20.09it/s]"
     ]
    },
    {
     "name": "stderr",
     "output_type": "stream",
     "text": [
      "\u001b[A"
     ]
    },
    {
     "name": "stderr",
     "output_type": "stream",
     "text": [
      "\n"
     ]
    },
    {
     "name": "stderr",
     "output_type": "stream",
     "text": [
      "\r",
      "LP: -85807.6:  84%|█████████████████████████████████████████████████████████████████████████              | 21/25 [00:01<00:00, 20.09it/s]"
     ]
    },
    {
     "name": "stderr",
     "output_type": "stream",
     "text": [
      "\u001b[A"
     ]
    },
    {
     "name": "stderr",
     "output_type": "stream",
     "text": [
      "\n"
     ]
    },
    {
     "name": "stderr",
     "output_type": "stream",
     "text": [
      "\r",
      "LP: -85725.3:  84%|█████████████████████████████████████████████████████████████████████████              | 21/25 [00:01<00:00, 20.09it/s]"
     ]
    },
    {
     "name": "stderr",
     "output_type": "stream",
     "text": [
      "\u001b[A"
     ]
    },
    {
     "name": "stderr",
     "output_type": "stream",
     "text": [
      "\n"
     ]
    },
    {
     "name": "stderr",
     "output_type": "stream",
     "text": [
      "\r",
      "LP: -85645.0:  84%|█████████████████████████████████████████████████████████████████████████              | 21/25 [00:01<00:00, 20.09it/s]"
     ]
    },
    {
     "name": "stderr",
     "output_type": "stream",
     "text": [
      "\u001b[A"
     ]
    },
    {
     "name": "stderr",
     "output_type": "stream",
     "text": [
      "\n"
     ]
    },
    {
     "name": "stderr",
     "output_type": "stream",
     "text": [
      "\r",
      "LP: -85645.0:  96%|███████████████████████████████████████████████████████████████████████████████████▌   | 24/25 [00:01<00:00, 19.17it/s]"
     ]
    },
    {
     "name": "stderr",
     "output_type": "stream",
     "text": [
      "\u001b[A"
     ]
    },
    {
     "name": "stderr",
     "output_type": "stream",
     "text": [
      "\n"
     ]
    },
    {
     "name": "stderr",
     "output_type": "stream",
     "text": [
      "\r",
      "LP: -85570.7:  96%|███████████████████████████████████████████████████████████████████████████████████▌   | 24/25 [00:01<00:00, 19.17it/s]"
     ]
    },
    {
     "name": "stderr",
     "output_type": "stream",
     "text": [
      "\u001b[A"
     ]
    },
    {
     "name": "stderr",
     "output_type": "stream",
     "text": [
      "\r",
      "LP: -85570.7: 100%|███████████████████████████████████████████████████████████████████████████████████████| 25/25 [00:01<00:00, 19.44it/s]"
     ]
    },
    {
     "name": "stderr",
     "output_type": "stream",
     "text": [
      "\n"
     ]
    },
    {
     "name": "stderr",
     "output_type": "stream",
     "text": [
      "\r",
      "ARHMM Initialization restarts:  40%|████████████████████████████▍                                          | 4/10 [00:04<00:07,  1.20s/it]"
     ]
    },
    {
     "name": "stdout",
     "output_type": "stream",
     "text": [
      "Initializing with an ARHMM using 25 steps of EM.\n"
     ]
    },
    {
     "name": "stderr",
     "output_type": "stream",
     "text": [
      "\n"
     ]
    },
    {
     "name": "stderr",
     "output_type": "stream",
     "text": [
      "\r",
      "  0%|                                                                                                              | 0/25 [00:00<?, ?it/s]"
     ]
    },
    {
     "name": "stderr",
     "output_type": "stream",
     "text": [
      "\u001b[A"
     ]
    },
    {
     "name": "stderr",
     "output_type": "stream",
     "text": [
      "\n"
     ]
    },
    {
     "name": "stderr",
     "output_type": "stream",
     "text": [
      "\r",
      "LP: -88564.2:   0%|                                                                                                | 0/25 [00:00<?, ?it/s]"
     ]
    },
    {
     "name": "stderr",
     "output_type": "stream",
     "text": [
      "\u001b[A"
     ]
    },
    {
     "name": "stderr",
     "output_type": "stream",
     "text": [
      "\n"
     ]
    },
    {
     "name": "stderr",
     "output_type": "stream",
     "text": [
      "\r",
      "LP: -88565.8:   0%|                                                                                                | 0/25 [00:00<?, ?it/s]"
     ]
    },
    {
     "name": "stderr",
     "output_type": "stream",
     "text": [
      "\u001b[A"
     ]
    },
    {
     "name": "stderr",
     "output_type": "stream",
     "text": [
      "\n"
     ]
    },
    {
     "name": "stderr",
     "output_type": "stream",
     "text": [
      "\r",
      "LP: -88415.3:   0%|                                                                                                | 0/25 [00:00<?, ?it/s]"
     ]
    },
    {
     "name": "stderr",
     "output_type": "stream",
     "text": [
      "\u001b[A"
     ]
    },
    {
     "name": "stderr",
     "output_type": "stream",
     "text": [
      "\n"
     ]
    },
    {
     "name": "stderr",
     "output_type": "stream",
     "text": [
      "\r",
      "LP: -88211.4:   0%|                                                                                                | 0/25 [00:00<?, ?it/s]"
     ]
    },
    {
     "name": "stderr",
     "output_type": "stream",
     "text": [
      "\u001b[A"
     ]
    },
    {
     "name": "stderr",
     "output_type": "stream",
     "text": [
      "\n"
     ]
    },
    {
     "name": "stderr",
     "output_type": "stream",
     "text": [
      "\r",
      "LP: -88211.4:  12%|██████████▌                                                                             | 3/25 [00:00<00:00, 27.68it/s]"
     ]
    },
    {
     "name": "stderr",
     "output_type": "stream",
     "text": [
      "\u001b[A"
     ]
    },
    {
     "name": "stderr",
     "output_type": "stream",
     "text": [
      "\n"
     ]
    },
    {
     "name": "stderr",
     "output_type": "stream",
     "text": [
      "\r",
      "LP: -87988.9:  12%|██████████▌                                                                             | 3/25 [00:00<00:00, 27.68it/s]"
     ]
    },
    {
     "name": "stderr",
     "output_type": "stream",
     "text": [
      "\u001b[A"
     ]
    },
    {
     "name": "stderr",
     "output_type": "stream",
     "text": [
      "\n"
     ]
    },
    {
     "name": "stderr",
     "output_type": "stream",
     "text": [
      "\r",
      "LP: -87765.8:  12%|██████████▌                                                                             | 3/25 [00:00<00:00, 27.68it/s]"
     ]
    },
    {
     "name": "stderr",
     "output_type": "stream",
     "text": [
      "\u001b[A"
     ]
    },
    {
     "name": "stderr",
     "output_type": "stream",
     "text": [
      "\n"
     ]
    },
    {
     "name": "stderr",
     "output_type": "stream",
     "text": [
      "\r",
      "LP: -87522.8:  12%|██████████▌                                                                             | 3/25 [00:00<00:00, 27.68it/s]"
     ]
    },
    {
     "name": "stderr",
     "output_type": "stream",
     "text": [
      "\u001b[A"
     ]
    },
    {
     "name": "stderr",
     "output_type": "stream",
     "text": [
      "\n"
     ]
    },
    {
     "name": "stderr",
     "output_type": "stream",
     "text": [
      "\r",
      "LP: -87522.8:  24%|█████████████████████                                                                   | 6/25 [00:00<00:00, 23.93it/s]"
     ]
    },
    {
     "name": "stderr",
     "output_type": "stream",
     "text": [
      "\u001b[A"
     ]
    },
    {
     "name": "stderr",
     "output_type": "stream",
     "text": [
      "\n"
     ]
    },
    {
     "name": "stderr",
     "output_type": "stream",
     "text": [
      "\r",
      "LP: -87245.8:  24%|█████████████████████                                                                   | 6/25 [00:00<00:00, 23.93it/s]"
     ]
    },
    {
     "name": "stderr",
     "output_type": "stream",
     "text": [
      "\u001b[A"
     ]
    },
    {
     "name": "stderr",
     "output_type": "stream",
     "text": [
      "\n"
     ]
    },
    {
     "name": "stderr",
     "output_type": "stream",
     "text": [
      "\r",
      "LP: -86996.6:  24%|█████████████████████                                                                   | 6/25 [00:00<00:00, 23.93it/s]"
     ]
    },
    {
     "name": "stderr",
     "output_type": "stream",
     "text": [
      "\u001b[A"
     ]
    },
    {
     "name": "stderr",
     "output_type": "stream",
     "text": [
      "\n"
     ]
    },
    {
     "name": "stderr",
     "output_type": "stream",
     "text": [
      "\r",
      "LP: -86810.2:  24%|█████████████████████                                                                   | 6/25 [00:00<00:00, 23.93it/s]"
     ]
    },
    {
     "name": "stderr",
     "output_type": "stream",
     "text": [
      "\u001b[A"
     ]
    },
    {
     "name": "stderr",
     "output_type": "stream",
     "text": [
      "\n"
     ]
    },
    {
     "name": "stderr",
     "output_type": "stream",
     "text": [
      "\r",
      "LP: -86810.2:  36%|███████████████████████████████▋                                                        | 9/25 [00:00<00:00, 24.01it/s]"
     ]
    },
    {
     "name": "stderr",
     "output_type": "stream",
     "text": [
      "\u001b[A"
     ]
    },
    {
     "name": "stderr",
     "output_type": "stream",
     "text": [
      "\n"
     ]
    },
    {
     "name": "stderr",
     "output_type": "stream",
     "text": [
      "\r",
      "LP: -86680.2:  36%|███████████████████████████████▋                                                        | 9/25 [00:00<00:00, 24.01it/s]"
     ]
    },
    {
     "name": "stderr",
     "output_type": "stream",
     "text": [
      "\u001b[A"
     ]
    },
    {
     "name": "stderr",
     "output_type": "stream",
     "text": [
      "\n"
     ]
    },
    {
     "name": "stderr",
     "output_type": "stream",
     "text": [
      "\r",
      "LP: -86585.3:  36%|███████████████████████████████▋                                                        | 9/25 [00:00<00:00, 24.01it/s]"
     ]
    },
    {
     "name": "stderr",
     "output_type": "stream",
     "text": [
      "\u001b[A"
     ]
    },
    {
     "name": "stderr",
     "output_type": "stream",
     "text": [
      "\n"
     ]
    },
    {
     "name": "stderr",
     "output_type": "stream",
     "text": [
      "\r",
      "LP: -86507.5:  36%|███████████████████████████████▋                                                        | 9/25 [00:00<00:00, 24.01it/s]"
     ]
    },
    {
     "name": "stderr",
     "output_type": "stream",
     "text": [
      "\u001b[A"
     ]
    },
    {
     "name": "stderr",
     "output_type": "stream",
     "text": [
      "\n"
     ]
    },
    {
     "name": "stderr",
     "output_type": "stream",
     "text": [
      "\r",
      "LP: -86507.5:  48%|█████████████████████████████████████████▊                                             | 12/25 [00:00<00:00, 23.34it/s]"
     ]
    },
    {
     "name": "stderr",
     "output_type": "stream",
     "text": [
      "\u001b[A"
     ]
    },
    {
     "name": "stderr",
     "output_type": "stream",
     "text": [
      "\n"
     ]
    },
    {
     "name": "stderr",
     "output_type": "stream",
     "text": [
      "\r",
      "LP: -86446.2:  48%|█████████████████████████████████████████▊                                             | 12/25 [00:00<00:00, 23.34it/s]"
     ]
    },
    {
     "name": "stderr",
     "output_type": "stream",
     "text": [
      "\u001b[A"
     ]
    },
    {
     "name": "stderr",
     "output_type": "stream",
     "text": [
      "\n"
     ]
    },
    {
     "name": "stderr",
     "output_type": "stream",
     "text": [
      "\r",
      "LP: -86405.9:  48%|█████████████████████████████████████████▊                                             | 12/25 [00:00<00:00, 23.34it/s]"
     ]
    },
    {
     "name": "stderr",
     "output_type": "stream",
     "text": [
      "\u001b[A"
     ]
    },
    {
     "name": "stderr",
     "output_type": "stream",
     "text": [
      "\n"
     ]
    },
    {
     "name": "stderr",
     "output_type": "stream",
     "text": [
      "\r",
      "LP: -86372.4:  48%|█████████████████████████████████████████▊                                             | 12/25 [00:00<00:00, 23.34it/s]"
     ]
    },
    {
     "name": "stderr",
     "output_type": "stream",
     "text": [
      "\u001b[A"
     ]
    },
    {
     "name": "stderr",
     "output_type": "stream",
     "text": [
      "\n"
     ]
    },
    {
     "name": "stderr",
     "output_type": "stream",
     "text": [
      "\r",
      "LP: -86372.4:  60%|████████████████████████████████████████████████████▏                                  | 15/25 [00:00<00:00, 23.87it/s]"
     ]
    },
    {
     "name": "stderr",
     "output_type": "stream",
     "text": [
      "\u001b[A"
     ]
    },
    {
     "name": "stderr",
     "output_type": "stream",
     "text": [
      "\n"
     ]
    },
    {
     "name": "stderr",
     "output_type": "stream",
     "text": [
      "\r",
      "LP: -86338.4:  60%|████████████████████████████████████████████████████▏                                  | 15/25 [00:00<00:00, 23.87it/s]"
     ]
    },
    {
     "name": "stderr",
     "output_type": "stream",
     "text": [
      "\u001b[A"
     ]
    },
    {
     "name": "stderr",
     "output_type": "stream",
     "text": [
      "\n"
     ]
    },
    {
     "name": "stderr",
     "output_type": "stream",
     "text": [
      "\r",
      "LP: -86310.8:  60%|████████████████████████████████████████████████████▏                                  | 15/25 [00:00<00:00, 23.87it/s]"
     ]
    },
    {
     "name": "stderr",
     "output_type": "stream",
     "text": [
      "\u001b[A"
     ]
    },
    {
     "name": "stderr",
     "output_type": "stream",
     "text": [
      "\n"
     ]
    },
    {
     "name": "stderr",
     "output_type": "stream",
     "text": [
      "\r",
      "LP: -86280.0:  60%|████████████████████████████████████████████████████▏                                  | 15/25 [00:00<00:00, 23.87it/s]"
     ]
    },
    {
     "name": "stderr",
     "output_type": "stream",
     "text": [
      "\u001b[A"
     ]
    },
    {
     "name": "stderr",
     "output_type": "stream",
     "text": [
      "\n"
     ]
    },
    {
     "name": "stderr",
     "output_type": "stream",
     "text": [
      "\r",
      "LP: -86280.0:  72%|██████████████████████████████████████████████████████████████▋                        | 18/25 [00:00<00:00, 24.41it/s]"
     ]
    },
    {
     "name": "stderr",
     "output_type": "stream",
     "text": [
      "\u001b[A"
     ]
    },
    {
     "name": "stderr",
     "output_type": "stream",
     "text": [
      "\n"
     ]
    },
    {
     "name": "stderr",
     "output_type": "stream",
     "text": [
      "\r",
      "LP: -86247.6:  72%|██████████████████████████████████████████████████████████████▋                        | 18/25 [00:00<00:00, 24.41it/s]"
     ]
    },
    {
     "name": "stderr",
     "output_type": "stream",
     "text": [
      "\u001b[A"
     ]
    },
    {
     "name": "stderr",
     "output_type": "stream",
     "text": [
      "\n"
     ]
    },
    {
     "name": "stderr",
     "output_type": "stream",
     "text": [
      "\r",
      "LP: -86218.4:  72%|██████████████████████████████████████████████████████████████▋                        | 18/25 [00:00<00:00, 24.41it/s]"
     ]
    },
    {
     "name": "stderr",
     "output_type": "stream",
     "text": [
      "\u001b[A"
     ]
    },
    {
     "name": "stderr",
     "output_type": "stream",
     "text": [
      "\n"
     ]
    },
    {
     "name": "stderr",
     "output_type": "stream",
     "text": [
      "\r",
      "LP: -86181.1:  72%|██████████████████████████████████████████████████████████████▋                        | 18/25 [00:00<00:00, 24.41it/s]"
     ]
    },
    {
     "name": "stderr",
     "output_type": "stream",
     "text": [
      "\u001b[A"
     ]
    },
    {
     "name": "stderr",
     "output_type": "stream",
     "text": [
      "\n"
     ]
    },
    {
     "name": "stderr",
     "output_type": "stream",
     "text": [
      "\r",
      "LP: -86181.1:  84%|█████████████████████████████████████████████████████████████████████████              | 21/25 [00:00<00:00, 24.25it/s]"
     ]
    },
    {
     "name": "stderr",
     "output_type": "stream",
     "text": [
      "\u001b[A"
     ]
    },
    {
     "name": "stderr",
     "output_type": "stream",
     "text": [
      "\n"
     ]
    },
    {
     "name": "stderr",
     "output_type": "stream",
     "text": [
      "\r",
      "LP: -86149.1:  84%|█████████████████████████████████████████████████████████████████████████              | 21/25 [00:00<00:00, 24.25it/s]"
     ]
    },
    {
     "name": "stderr",
     "output_type": "stream",
     "text": [
      "\u001b[A"
     ]
    },
    {
     "name": "stderr",
     "output_type": "stream",
     "text": [
      "\n"
     ]
    },
    {
     "name": "stderr",
     "output_type": "stream",
     "text": [
      "\r",
      "LP: -86110.1:  84%|█████████████████████████████████████████████████████████████████████████              | 21/25 [00:00<00:00, 24.25it/s]"
     ]
    },
    {
     "name": "stderr",
     "output_type": "stream",
     "text": [
      "\u001b[A"
     ]
    },
    {
     "name": "stderr",
     "output_type": "stream",
     "text": [
      "\n"
     ]
    },
    {
     "name": "stderr",
     "output_type": "stream",
     "text": [
      "\r",
      "LP: -86062.6:  84%|█████████████████████████████████████████████████████████████████████████              | 21/25 [00:01<00:00, 24.25it/s]"
     ]
    },
    {
     "name": "stderr",
     "output_type": "stream",
     "text": [
      "\u001b[A"
     ]
    },
    {
     "name": "stderr",
     "output_type": "stream",
     "text": [
      "\n"
     ]
    },
    {
     "name": "stderr",
     "output_type": "stream",
     "text": [
      "\r",
      "LP: -86062.6:  96%|███████████████████████████████████████████████████████████████████████████████████▌   | 24/25 [00:01<00:00, 22.48it/s]"
     ]
    },
    {
     "name": "stderr",
     "output_type": "stream",
     "text": [
      "\u001b[A"
     ]
    },
    {
     "name": "stderr",
     "output_type": "stream",
     "text": [
      "\n"
     ]
    },
    {
     "name": "stderr",
     "output_type": "stream",
     "text": [
      "\r",
      "LP: -86011.9:  96%|███████████████████████████████████████████████████████████████████████████████████▌   | 24/25 [00:01<00:00, 22.48it/s]"
     ]
    },
    {
     "name": "stderr",
     "output_type": "stream",
     "text": [
      "\u001b[A"
     ]
    },
    {
     "name": "stderr",
     "output_type": "stream",
     "text": [
      "\r",
      "LP: -86011.9: 100%|███████████████████████████████████████████████████████████████████████████████████████| 25/25 [00:01<00:00, 23.14it/s]"
     ]
    },
    {
     "name": "stderr",
     "output_type": "stream",
     "text": [
      "\n",
      "\r",
      "ARHMM Initialization restarts:  50%|███████████████████████████████████▌                                   | 5/10 [00:05<00:05,  1.17s/it]"
     ]
    },
    {
     "name": "stdout",
     "output_type": "stream",
     "text": [
      "Initializing with an ARHMM using 25 steps of EM.\n"
     ]
    },
    {
     "name": "stderr",
     "output_type": "stream",
     "text": [
      "\n"
     ]
    },
    {
     "name": "stderr",
     "output_type": "stream",
     "text": [
      "\r",
      "  0%|                                                                                                              | 0/25 [00:00<?, ?it/s]"
     ]
    },
    {
     "name": "stderr",
     "output_type": "stream",
     "text": [
      "\u001b[A"
     ]
    },
    {
     "name": "stderr",
     "output_type": "stream",
     "text": [
      "\n"
     ]
    },
    {
     "name": "stderr",
     "output_type": "stream",
     "text": [
      "\r",
      "LP: -88560.5:   0%|                                                                                                | 0/25 [00:00<?, ?it/s]"
     ]
    },
    {
     "name": "stderr",
     "output_type": "stream",
     "text": [
      "\u001b[A"
     ]
    },
    {
     "name": "stderr",
     "output_type": "stream",
     "text": [
      "\n"
     ]
    },
    {
     "name": "stderr",
     "output_type": "stream",
     "text": [
      "\r",
      "LP: -88562.2:   0%|                                                                                                | 0/25 [00:00<?, ?it/s]"
     ]
    },
    {
     "name": "stderr",
     "output_type": "stream",
     "text": [
      "\u001b[A"
     ]
    },
    {
     "name": "stderr",
     "output_type": "stream",
     "text": [
      "\n"
     ]
    },
    {
     "name": "stderr",
     "output_type": "stream",
     "text": [
      "\r",
      "LP: -88412.2:   0%|                                                                                                | 0/25 [00:00<?, ?it/s]"
     ]
    },
    {
     "name": "stderr",
     "output_type": "stream",
     "text": [
      "\u001b[A"
     ]
    },
    {
     "name": "stderr",
     "output_type": "stream",
     "text": [
      "\n"
     ]
    },
    {
     "name": "stderr",
     "output_type": "stream",
     "text": [
      "\r",
      "LP: -88212.4:   0%|                                                                                                | 0/25 [00:00<?, ?it/s]"
     ]
    },
    {
     "name": "stderr",
     "output_type": "stream",
     "text": [
      "\u001b[A"
     ]
    },
    {
     "name": "stderr",
     "output_type": "stream",
     "text": [
      "\n"
     ]
    },
    {
     "name": "stderr",
     "output_type": "stream",
     "text": [
      "\r",
      "LP: -88212.4:  12%|██████████▌                                                                             | 3/25 [00:00<00:00, 29.45it/s]"
     ]
    },
    {
     "name": "stderr",
     "output_type": "stream",
     "text": [
      "\u001b[A"
     ]
    },
    {
     "name": "stderr",
     "output_type": "stream",
     "text": [
      "\n"
     ]
    },
    {
     "name": "stderr",
     "output_type": "stream",
     "text": [
      "\r",
      "LP: -87975.0:  12%|██████████▌                                                                             | 3/25 [00:00<00:00, 29.45it/s]"
     ]
    },
    {
     "name": "stderr",
     "output_type": "stream",
     "text": [
      "\u001b[A"
     ]
    },
    {
     "name": "stderr",
     "output_type": "stream",
     "text": [
      "\n"
     ]
    },
    {
     "name": "stderr",
     "output_type": "stream",
     "text": [
      "\r",
      "LP: -87693.5:  12%|██████████▌                                                                             | 3/25 [00:00<00:00, 29.45it/s]"
     ]
    },
    {
     "name": "stderr",
     "output_type": "stream",
     "text": [
      "\u001b[A"
     ]
    },
    {
     "name": "stderr",
     "output_type": "stream",
     "text": [
      "\n"
     ]
    },
    {
     "name": "stderr",
     "output_type": "stream",
     "text": [
      "\r",
      "LP: -87390.3:  12%|██████████▌                                                                             | 3/25 [00:00<00:00, 29.45it/s]"
     ]
    },
    {
     "name": "stderr",
     "output_type": "stream",
     "text": [
      "\u001b[A"
     ]
    },
    {
     "name": "stderr",
     "output_type": "stream",
     "text": [
      "\n"
     ]
    },
    {
     "name": "stderr",
     "output_type": "stream",
     "text": [
      "\r",
      "LP: -87390.3:  24%|█████████████████████                                                                   | 6/25 [00:00<00:00, 23.75it/s]"
     ]
    },
    {
     "name": "stderr",
     "output_type": "stream",
     "text": [
      "\u001b[A"
     ]
    },
    {
     "name": "stderr",
     "output_type": "stream",
     "text": [
      "\n"
     ]
    },
    {
     "name": "stderr",
     "output_type": "stream",
     "text": [
      "\r",
      "LP: -87118.9:  24%|█████████████████████                                                                   | 6/25 [00:00<00:00, 23.75it/s]"
     ]
    },
    {
     "name": "stderr",
     "output_type": "stream",
     "text": [
      "\u001b[A"
     ]
    },
    {
     "name": "stderr",
     "output_type": "stream",
     "text": [
      "\n"
     ]
    },
    {
     "name": "stderr",
     "output_type": "stream",
     "text": [
      "\r",
      "LP: -86881.5:  24%|█████████████████████                                                                   | 6/25 [00:00<00:00, 23.75it/s]"
     ]
    },
    {
     "name": "stderr",
     "output_type": "stream",
     "text": [
      "\u001b[A"
     ]
    },
    {
     "name": "stderr",
     "output_type": "stream",
     "text": [
      "\n"
     ]
    },
    {
     "name": "stderr",
     "output_type": "stream",
     "text": [
      "\r",
      "LP: -86666.9:  24%|█████████████████████                                                                   | 6/25 [00:00<00:00, 23.75it/s]"
     ]
    },
    {
     "name": "stderr",
     "output_type": "stream",
     "text": [
      "\u001b[A"
     ]
    },
    {
     "name": "stderr",
     "output_type": "stream",
     "text": [
      "\n"
     ]
    },
    {
     "name": "stderr",
     "output_type": "stream",
     "text": [
      "\r",
      "LP: -86666.9:  36%|███████████████████████████████▋                                                        | 9/25 [00:00<00:00, 21.54it/s]"
     ]
    },
    {
     "name": "stderr",
     "output_type": "stream",
     "text": [
      "\u001b[A"
     ]
    },
    {
     "name": "stderr",
     "output_type": "stream",
     "text": [
      "\n"
     ]
    },
    {
     "name": "stderr",
     "output_type": "stream",
     "text": [
      "\r",
      "LP: -86471.1:  36%|███████████████████████████████▋                                                        | 9/25 [00:00<00:00, 21.54it/s]"
     ]
    },
    {
     "name": "stderr",
     "output_type": "stream",
     "text": [
      "\u001b[A"
     ]
    },
    {
     "name": "stderr",
     "output_type": "stream",
     "text": [
      "\n"
     ]
    },
    {
     "name": "stderr",
     "output_type": "stream",
     "text": [
      "\r",
      "LP: -86320.8:  36%|███████████████████████████████▋                                                        | 9/25 [00:00<00:00, 21.54it/s]"
     ]
    },
    {
     "name": "stderr",
     "output_type": "stream",
     "text": [
      "\u001b[A"
     ]
    },
    {
     "name": "stderr",
     "output_type": "stream",
     "text": [
      "\n"
     ]
    },
    {
     "name": "stderr",
     "output_type": "stream",
     "text": [
      "\r",
      "LP: -86211.7:  36%|███████████████████████████████▋                                                        | 9/25 [00:00<00:00, 21.54it/s]"
     ]
    },
    {
     "name": "stderr",
     "output_type": "stream",
     "text": [
      "\u001b[A"
     ]
    },
    {
     "name": "stderr",
     "output_type": "stream",
     "text": [
      "\n"
     ]
    },
    {
     "name": "stderr",
     "output_type": "stream",
     "text": [
      "\r",
      "LP: -86211.7:  48%|█████████████████████████████████████████▊                                             | 12/25 [00:00<00:00, 19.76it/s]"
     ]
    },
    {
     "name": "stderr",
     "output_type": "stream",
     "text": [
      "\u001b[A"
     ]
    },
    {
     "name": "stderr",
     "output_type": "stream",
     "text": [
      "\n"
     ]
    },
    {
     "name": "stderr",
     "output_type": "stream",
     "text": [
      "\r",
      "LP: -86121.5:  48%|█████████████████████████████████████████▊                                             | 12/25 [00:00<00:00, 19.76it/s]"
     ]
    },
    {
     "name": "stderr",
     "output_type": "stream",
     "text": [
      "\u001b[A"
     ]
    },
    {
     "name": "stderr",
     "output_type": "stream",
     "text": [
      "\n"
     ]
    },
    {
     "name": "stderr",
     "output_type": "stream",
     "text": [
      "\r",
      "LP: -86034.0:  48%|█████████████████████████████████████████▊                                             | 12/25 [00:00<00:00, 19.76it/s]"
     ]
    },
    {
     "name": "stderr",
     "output_type": "stream",
     "text": [
      "\u001b[A"
     ]
    },
    {
     "name": "stderr",
     "output_type": "stream",
     "text": [
      "\n"
     ]
    },
    {
     "name": "stderr",
     "output_type": "stream",
     "text": [
      "\r",
      "LP: -85977.4:  48%|█████████████████████████████████████████▊                                             | 12/25 [00:00<00:00, 19.76it/s]"
     ]
    },
    {
     "name": "stderr",
     "output_type": "stream",
     "text": [
      "\u001b[A"
     ]
    },
    {
     "name": "stderr",
     "output_type": "stream",
     "text": [
      "\n"
     ]
    },
    {
     "name": "stderr",
     "output_type": "stream",
     "text": [
      "\r",
      "LP: -85977.4:  60%|████████████████████████████████████████████████████▏                                  | 15/25 [00:00<00:00, 17.96it/s]"
     ]
    },
    {
     "name": "stderr",
     "output_type": "stream",
     "text": [
      "\u001b[A"
     ]
    },
    {
     "name": "stderr",
     "output_type": "stream",
     "text": [
      "\n"
     ]
    },
    {
     "name": "stderr",
     "output_type": "stream",
     "text": [
      "\r",
      "LP: -85942.5:  60%|████████████████████████████████████████████████████▏                                  | 15/25 [00:00<00:00, 17.96it/s]"
     ]
    },
    {
     "name": "stderr",
     "output_type": "stream",
     "text": [
      "\u001b[A"
     ]
    },
    {
     "name": "stderr",
     "output_type": "stream",
     "text": [
      "\n"
     ]
    },
    {
     "name": "stderr",
     "output_type": "stream",
     "text": [
      "\r",
      "LP: -85926.8:  60%|████████████████████████████████████████████████████▏                                  | 15/25 [00:00<00:00, 17.96it/s]"
     ]
    },
    {
     "name": "stderr",
     "output_type": "stream",
     "text": [
      "\u001b[A"
     ]
    },
    {
     "name": "stderr",
     "output_type": "stream",
     "text": [
      "\n"
     ]
    },
    {
     "name": "stderr",
     "output_type": "stream",
     "text": [
      "\r",
      "LP: -85916.4:  60%|████████████████████████████████████████████████████▏                                  | 15/25 [00:00<00:00, 17.96it/s]"
     ]
    },
    {
     "name": "stderr",
     "output_type": "stream",
     "text": [
      "\u001b[A"
     ]
    },
    {
     "name": "stderr",
     "output_type": "stream",
     "text": [
      "\n"
     ]
    },
    {
     "name": "stderr",
     "output_type": "stream",
     "text": [
      "\r",
      "LP: -85916.4:  72%|██████████████████████████████████████████████████████████████▋                        | 18/25 [00:00<00:00, 20.27it/s]"
     ]
    },
    {
     "name": "stderr",
     "output_type": "stream",
     "text": [
      "\u001b[A"
     ]
    },
    {
     "name": "stderr",
     "output_type": "stream",
     "text": [
      "\n"
     ]
    },
    {
     "name": "stderr",
     "output_type": "stream",
     "text": [
      "\r",
      "LP: -85903.2:  72%|██████████████████████████████████████████████████████████████▋                        | 18/25 [00:00<00:00, 20.27it/s]"
     ]
    },
    {
     "name": "stderr",
     "output_type": "stream",
     "text": [
      "\u001b[A"
     ]
    },
    {
     "name": "stderr",
     "output_type": "stream",
     "text": [
      "\n"
     ]
    },
    {
     "name": "stderr",
     "output_type": "stream",
     "text": [
      "\r",
      "LP: -85891.4:  72%|██████████████████████████████████████████████████████████████▋                        | 18/25 [00:00<00:00, 20.27it/s]"
     ]
    },
    {
     "name": "stderr",
     "output_type": "stream",
     "text": [
      "\u001b[A"
     ]
    },
    {
     "name": "stderr",
     "output_type": "stream",
     "text": [
      "\n"
     ]
    },
    {
     "name": "stderr",
     "output_type": "stream",
     "text": [
      "\r",
      "LP: -85879.8:  72%|██████████████████████████████████████████████████████████████▋                        | 18/25 [00:00<00:00, 20.27it/s]"
     ]
    },
    {
     "name": "stderr",
     "output_type": "stream",
     "text": [
      "\u001b[A"
     ]
    },
    {
     "name": "stderr",
     "output_type": "stream",
     "text": [
      "\n"
     ]
    },
    {
     "name": "stderr",
     "output_type": "stream",
     "text": [
      "\r",
      "LP: -85869.2:  72%|██████████████████████████████████████████████████████████████▋                        | 18/25 [00:01<00:00, 20.27it/s]"
     ]
    },
    {
     "name": "stderr",
     "output_type": "stream",
     "text": [
      "\u001b[A"
     ]
    },
    {
     "name": "stderr",
     "output_type": "stream",
     "text": [
      "\n"
     ]
    },
    {
     "name": "stderr",
     "output_type": "stream",
     "text": [
      "\r",
      "LP: -85869.2:  88%|████████████████████████████████████████████████████████████████████████████▌          | 22/25 [00:01<00:00, 23.39it/s]"
     ]
    },
    {
     "name": "stderr",
     "output_type": "stream",
     "text": [
      "\u001b[A"
     ]
    },
    {
     "name": "stderr",
     "output_type": "stream",
     "text": [
      "\n"
     ]
    },
    {
     "name": "stderr",
     "output_type": "stream",
     "text": [
      "\r",
      "LP: -85859.8:  88%|████████████████████████████████████████████████████████████████████████████▌          | 22/25 [00:01<00:00, 23.39it/s]"
     ]
    },
    {
     "name": "stderr",
     "output_type": "stream",
     "text": [
      "\u001b[A"
     ]
    },
    {
     "name": "stderr",
     "output_type": "stream",
     "text": [
      "\n"
     ]
    },
    {
     "name": "stderr",
     "output_type": "stream",
     "text": [
      "\r",
      "LP: -85850.2:  88%|████████████████████████████████████████████████████████████████████████████▌          | 22/25 [00:01<00:00, 23.39it/s]"
     ]
    },
    {
     "name": "stderr",
     "output_type": "stream",
     "text": [
      "\u001b[A"
     ]
    },
    {
     "name": "stderr",
     "output_type": "stream",
     "text": [
      "\n"
     ]
    },
    {
     "name": "stderr",
     "output_type": "stream",
     "text": [
      "\r",
      "LP: -85838.7:  88%|████████████████████████████████████████████████████████████████████████████▌          | 22/25 [00:01<00:00, 23.39it/s]"
     ]
    },
    {
     "name": "stderr",
     "output_type": "stream",
     "text": [
      "\u001b[A"
     ]
    },
    {
     "name": "stderr",
     "output_type": "stream",
     "text": [
      "\r",
      "LP: -85838.7: 100%|███████████████████████████████████████████████████████████████████████████████████████| 25/25 [00:01<00:00, 22.64it/s]"
     ]
    },
    {
     "name": "stderr",
     "output_type": "stream",
     "text": [
      "\n",
      "\r",
      "ARHMM Initialization restarts:  60%|██████████████████████████████████████████▌                            | 6/10 [00:06<00:04,  1.15s/it]"
     ]
    },
    {
     "name": "stdout",
     "output_type": "stream",
     "text": [
      "Initializing with an ARHMM using 25 steps of EM.\n"
     ]
    },
    {
     "name": "stderr",
     "output_type": "stream",
     "text": [
      "\n"
     ]
    },
    {
     "name": "stderr",
     "output_type": "stream",
     "text": [
      "\r",
      "  0%|                                                                                                              | 0/25 [00:00<?, ?it/s]"
     ]
    },
    {
     "name": "stderr",
     "output_type": "stream",
     "text": [
      "\u001b[A"
     ]
    },
    {
     "name": "stderr",
     "output_type": "stream",
     "text": [
      "\n"
     ]
    },
    {
     "name": "stderr",
     "output_type": "stream",
     "text": [
      "\r",
      "LP: -88544.4:   0%|                                                                                                | 0/25 [00:00<?, ?it/s]"
     ]
    },
    {
     "name": "stderr",
     "output_type": "stream",
     "text": [
      "\u001b[A"
     ]
    },
    {
     "name": "stderr",
     "output_type": "stream",
     "text": [
      "\n"
     ]
    },
    {
     "name": "stderr",
     "output_type": "stream",
     "text": [
      "\r",
      "LP: -88547.0:   0%|                                                                                                | 0/25 [00:00<?, ?it/s]"
     ]
    },
    {
     "name": "stderr",
     "output_type": "stream",
     "text": [
      "\u001b[A"
     ]
    },
    {
     "name": "stderr",
     "output_type": "stream",
     "text": [
      "\n"
     ]
    },
    {
     "name": "stderr",
     "output_type": "stream",
     "text": [
      "\r",
      "LP: -88350.3:   0%|                                                                                                | 0/25 [00:00<?, ?it/s]"
     ]
    },
    {
     "name": "stderr",
     "output_type": "stream",
     "text": [
      "\u001b[A"
     ]
    },
    {
     "name": "stderr",
     "output_type": "stream",
     "text": [
      "\n"
     ]
    },
    {
     "name": "stderr",
     "output_type": "stream",
     "text": [
      "\r",
      "LP: -88063.9:   0%|                                                                                                | 0/25 [00:00<?, ?it/s]"
     ]
    },
    {
     "name": "stderr",
     "output_type": "stream",
     "text": [
      "\u001b[A"
     ]
    },
    {
     "name": "stderr",
     "output_type": "stream",
     "text": [
      "\n"
     ]
    },
    {
     "name": "stderr",
     "output_type": "stream",
     "text": [
      "\r",
      "LP: -88063.9:  12%|██████████▌                                                                             | 3/25 [00:00<00:00, 27.09it/s]"
     ]
    },
    {
     "name": "stderr",
     "output_type": "stream",
     "text": [
      "\u001b[A"
     ]
    },
    {
     "name": "stderr",
     "output_type": "stream",
     "text": [
      "\n"
     ]
    },
    {
     "name": "stderr",
     "output_type": "stream",
     "text": [
      "\r",
      "LP: -87746.8:  12%|██████████▌                                                                             | 3/25 [00:00<00:00, 27.09it/s]"
     ]
    },
    {
     "name": "stderr",
     "output_type": "stream",
     "text": [
      "\u001b[A"
     ]
    },
    {
     "name": "stderr",
     "output_type": "stream",
     "text": [
      "\n"
     ]
    },
    {
     "name": "stderr",
     "output_type": "stream",
     "text": [
      "\r",
      "LP: -87458.9:  12%|██████████▌                                                                             | 3/25 [00:00<00:00, 27.09it/s]"
     ]
    },
    {
     "name": "stderr",
     "output_type": "stream",
     "text": [
      "\u001b[A"
     ]
    },
    {
     "name": "stderr",
     "output_type": "stream",
     "text": [
      "\n"
     ]
    },
    {
     "name": "stderr",
     "output_type": "stream",
     "text": [
      "\r",
      "LP: -87208.1:  12%|██████████▌                                                                             | 3/25 [00:00<00:00, 27.09it/s]"
     ]
    },
    {
     "name": "stderr",
     "output_type": "stream",
     "text": [
      "\u001b[A"
     ]
    },
    {
     "name": "stderr",
     "output_type": "stream",
     "text": [
      "\n"
     ]
    },
    {
     "name": "stderr",
     "output_type": "stream",
     "text": [
      "\r",
      "LP: -87208.1:  24%|█████████████████████                                                                   | 6/25 [00:00<00:00, 23.90it/s]"
     ]
    },
    {
     "name": "stderr",
     "output_type": "stream",
     "text": [
      "\u001b[A"
     ]
    },
    {
     "name": "stderr",
     "output_type": "stream",
     "text": [
      "\n"
     ]
    },
    {
     "name": "stderr",
     "output_type": "stream",
     "text": [
      "\r",
      "LP: -87006.6:  24%|█████████████████████                                                                   | 6/25 [00:00<00:00, 23.90it/s]"
     ]
    },
    {
     "name": "stderr",
     "output_type": "stream",
     "text": [
      "\u001b[A"
     ]
    },
    {
     "name": "stderr",
     "output_type": "stream",
     "text": [
      "\n"
     ]
    },
    {
     "name": "stderr",
     "output_type": "stream",
     "text": [
      "\r",
      "LP: -86849.3:  24%|█████████████████████                                                                   | 6/25 [00:00<00:00, 23.90it/s]"
     ]
    },
    {
     "name": "stderr",
     "output_type": "stream",
     "text": [
      "\u001b[A"
     ]
    },
    {
     "name": "stderr",
     "output_type": "stream",
     "text": [
      "\n"
     ]
    },
    {
     "name": "stderr",
     "output_type": "stream",
     "text": [
      "\r",
      "LP: -86703.1:  24%|█████████████████████                                                                   | 6/25 [00:00<00:00, 23.90it/s]"
     ]
    },
    {
     "name": "stderr",
     "output_type": "stream",
     "text": [
      "\u001b[A"
     ]
    },
    {
     "name": "stderr",
     "output_type": "stream",
     "text": [
      "\n"
     ]
    },
    {
     "name": "stderr",
     "output_type": "stream",
     "text": [
      "\r",
      "LP: -86703.1:  36%|███████████████████████████████▋                                                        | 9/25 [00:00<00:00, 20.59it/s]"
     ]
    },
    {
     "name": "stderr",
     "output_type": "stream",
     "text": [
      "\u001b[A"
     ]
    },
    {
     "name": "stderr",
     "output_type": "stream",
     "text": [
      "\n"
     ]
    },
    {
     "name": "stderr",
     "output_type": "stream",
     "text": [
      "\r",
      "LP: -86553.2:  36%|███████████████████████████████▋                                                        | 9/25 [00:00<00:00, 20.59it/s]"
     ]
    },
    {
     "name": "stderr",
     "output_type": "stream",
     "text": [
      "\u001b[A"
     ]
    },
    {
     "name": "stderr",
     "output_type": "stream",
     "text": [
      "\n"
     ]
    },
    {
     "name": "stderr",
     "output_type": "stream",
     "text": [
      "\r",
      "LP: -86412.4:  36%|███████████████████████████████▋                                                        | 9/25 [00:00<00:00, 20.59it/s]"
     ]
    },
    {
     "name": "stderr",
     "output_type": "stream",
     "text": [
      "\u001b[A"
     ]
    },
    {
     "name": "stderr",
     "output_type": "stream",
     "text": [
      "\n"
     ]
    },
    {
     "name": "stderr",
     "output_type": "stream",
     "text": [
      "\r",
      "LP: -86281.9:  36%|███████████████████████████████▋                                                        | 9/25 [00:00<00:00, 20.59it/s]"
     ]
    },
    {
     "name": "stderr",
     "output_type": "stream",
     "text": [
      "\u001b[A"
     ]
    },
    {
     "name": "stderr",
     "output_type": "stream",
     "text": [
      "\n"
     ]
    },
    {
     "name": "stderr",
     "output_type": "stream",
     "text": [
      "\r",
      "LP: -86281.9:  48%|█████████████████████████████████████████▊                                             | 12/25 [00:00<00:00, 21.43it/s]"
     ]
    },
    {
     "name": "stderr",
     "output_type": "stream",
     "text": [
      "\u001b[A"
     ]
    },
    {
     "name": "stderr",
     "output_type": "stream",
     "text": [
      "\n"
     ]
    },
    {
     "name": "stderr",
     "output_type": "stream",
     "text": [
      "\r",
      "LP: -86180.1:  48%|█████████████████████████████████████████▊                                             | 12/25 [00:00<00:00, 21.43it/s]"
     ]
    },
    {
     "name": "stderr",
     "output_type": "stream",
     "text": [
      "\u001b[A"
     ]
    },
    {
     "name": "stderr",
     "output_type": "stream",
     "text": [
      "\n"
     ]
    },
    {
     "name": "stderr",
     "output_type": "stream",
     "text": [
      "\r",
      "LP: -86095.5:  48%|█████████████████████████████████████████▊                                             | 12/25 [00:00<00:00, 21.43it/s]"
     ]
    },
    {
     "name": "stderr",
     "output_type": "stream",
     "text": [
      "\u001b[A"
     ]
    },
    {
     "name": "stderr",
     "output_type": "stream",
     "text": [
      "\n"
     ]
    },
    {
     "name": "stderr",
     "output_type": "stream",
     "text": [
      "\r",
      "LP: -86024.2:  48%|█████████████████████████████████████████▊                                             | 12/25 [00:00<00:00, 21.43it/s]"
     ]
    },
    {
     "name": "stderr",
     "output_type": "stream",
     "text": [
      "\u001b[A"
     ]
    },
    {
     "name": "stderr",
     "output_type": "stream",
     "text": [
      "\n"
     ]
    },
    {
     "name": "stderr",
     "output_type": "stream",
     "text": [
      "\r",
      "LP: -86024.2:  60%|████████████████████████████████████████████████████▏                                  | 15/25 [00:00<00:00, 21.24it/s]"
     ]
    },
    {
     "name": "stderr",
     "output_type": "stream",
     "text": [
      "\u001b[A"
     ]
    },
    {
     "name": "stderr",
     "output_type": "stream",
     "text": [
      "\n"
     ]
    },
    {
     "name": "stderr",
     "output_type": "stream",
     "text": [
      "\r",
      "LP: -85961.5:  60%|████████████████████████████████████████████████████▏                                  | 15/25 [00:00<00:00, 21.24it/s]"
     ]
    },
    {
     "name": "stderr",
     "output_type": "stream",
     "text": [
      "\u001b[A"
     ]
    },
    {
     "name": "stderr",
     "output_type": "stream",
     "text": [
      "\n"
     ]
    },
    {
     "name": "stderr",
     "output_type": "stream",
     "text": [
      "\r",
      "LP: -85893.3:  60%|████████████████████████████████████████████████████▏                                  | 15/25 [00:00<00:00, 21.24it/s]"
     ]
    },
    {
     "name": "stderr",
     "output_type": "stream",
     "text": [
      "\u001b[A"
     ]
    },
    {
     "name": "stderr",
     "output_type": "stream",
     "text": [
      "\n"
     ]
    },
    {
     "name": "stderr",
     "output_type": "stream",
     "text": [
      "\r",
      "LP: -85817.9:  60%|████████████████████████████████████████████████████▏                                  | 15/25 [00:00<00:00, 21.24it/s]"
     ]
    },
    {
     "name": "stderr",
     "output_type": "stream",
     "text": [
      "\u001b[A"
     ]
    },
    {
     "name": "stderr",
     "output_type": "stream",
     "text": [
      "\n"
     ]
    },
    {
     "name": "stderr",
     "output_type": "stream",
     "text": [
      "\r",
      "LP: -85817.9:  72%|██████████████████████████████████████████████████████████████▋                        | 18/25 [00:00<00:00, 19.63it/s]"
     ]
    },
    {
     "name": "stderr",
     "output_type": "stream",
     "text": [
      "\u001b[A"
     ]
    },
    {
     "name": "stderr",
     "output_type": "stream",
     "text": [
      "\n"
     ]
    },
    {
     "name": "stderr",
     "output_type": "stream",
     "text": [
      "\r",
      "LP: -85733.9:  72%|██████████████████████████████████████████████████████████████▋                        | 18/25 [00:00<00:00, 19.63it/s]"
     ]
    },
    {
     "name": "stderr",
     "output_type": "stream",
     "text": [
      "\u001b[A"
     ]
    },
    {
     "name": "stderr",
     "output_type": "stream",
     "text": [
      "\n"
     ]
    },
    {
     "name": "stderr",
     "output_type": "stream",
     "text": [
      "\r",
      "LP: -85643.0:  72%|██████████████████████████████████████████████████████████████▋                        | 18/25 [00:00<00:00, 19.63it/s]"
     ]
    },
    {
     "name": "stderr",
     "output_type": "stream",
     "text": [
      "\u001b[A"
     ]
    },
    {
     "name": "stderr",
     "output_type": "stream",
     "text": [
      "\n"
     ]
    },
    {
     "name": "stderr",
     "output_type": "stream",
     "text": [
      "\r",
      "LP: -85549.4:  72%|██████████████████████████████████████████████████████████████▋                        | 18/25 [00:01<00:00, 19.63it/s]"
     ]
    },
    {
     "name": "stderr",
     "output_type": "stream",
     "text": [
      "\u001b[A"
     ]
    },
    {
     "name": "stderr",
     "output_type": "stream",
     "text": [
      "\n"
     ]
    },
    {
     "name": "stderr",
     "output_type": "stream",
     "text": [
      "\r",
      "LP: -85549.4:  84%|█████████████████████████████████████████████████████████████████████████              | 21/25 [00:01<00:00, 18.45it/s]"
     ]
    },
    {
     "name": "stderr",
     "output_type": "stream",
     "text": [
      "\u001b[A"
     ]
    },
    {
     "name": "stderr",
     "output_type": "stream",
     "text": [
      "\n"
     ]
    },
    {
     "name": "stderr",
     "output_type": "stream",
     "text": [
      "\r",
      "LP: -85460.6:  84%|█████████████████████████████████████████████████████████████████████████              | 21/25 [00:01<00:00, 18.45it/s]"
     ]
    },
    {
     "name": "stderr",
     "output_type": "stream",
     "text": [
      "\u001b[A"
     ]
    },
    {
     "name": "stderr",
     "output_type": "stream",
     "text": [
      "\n"
     ]
    },
    {
     "name": "stderr",
     "output_type": "stream",
     "text": [
      "\r",
      "LP: -85379.9:  84%|█████████████████████████████████████████████████████████████████████████              | 21/25 [00:01<00:00, 18.45it/s]"
     ]
    },
    {
     "name": "stderr",
     "output_type": "stream",
     "text": [
      "\u001b[A"
     ]
    },
    {
     "name": "stderr",
     "output_type": "stream",
     "text": [
      "\n"
     ]
    },
    {
     "name": "stderr",
     "output_type": "stream",
     "text": [
      "\r",
      "LP: -85379.9:  92%|████████████████████████████████████████████████████████████████████████████████       | 23/25 [00:01<00:00, 17.51it/s]"
     ]
    },
    {
     "name": "stderr",
     "output_type": "stream",
     "text": [
      "\u001b[A"
     ]
    },
    {
     "name": "stderr",
     "output_type": "stream",
     "text": [
      "\n"
     ]
    },
    {
     "name": "stderr",
     "output_type": "stream",
     "text": [
      "\r",
      "LP: -85320.4:  92%|████████████████████████████████████████████████████████████████████████████████       | 23/25 [00:01<00:00, 17.51it/s]"
     ]
    },
    {
     "name": "stderr",
     "output_type": "stream",
     "text": [
      "\u001b[A"
     ]
    },
    {
     "name": "stderr",
     "output_type": "stream",
     "text": [
      "\n"
     ]
    },
    {
     "name": "stderr",
     "output_type": "stream",
     "text": [
      "\r",
      "LP: -85282.0:  92%|████████████████████████████████████████████████████████████████████████████████       | 23/25 [00:01<00:00, 17.51it/s]"
     ]
    },
    {
     "name": "stderr",
     "output_type": "stream",
     "text": [
      "\u001b[A"
     ]
    },
    {
     "name": "stderr",
     "output_type": "stream",
     "text": [
      "\r",
      "LP: -85282.0: 100%|███████████████████████████████████████████████████████████████████████████████████████| 25/25 [00:01<00:00, 19.54it/s]"
     ]
    },
    {
     "name": "stderr",
     "output_type": "stream",
     "text": [
      "\n",
      "\r",
      "ARHMM Initialization restarts:  70%|█████████████████████████████████████████████████▋                     | 7/10 [00:08<00:03,  1.20s/it]"
     ]
    },
    {
     "name": "stdout",
     "output_type": "stream",
     "text": [
      "Initializing with an ARHMM using 25 steps of EM.\n"
     ]
    },
    {
     "name": "stderr",
     "output_type": "stream",
     "text": [
      "\n"
     ]
    },
    {
     "name": "stderr",
     "output_type": "stream",
     "text": [
      "\r",
      "  0%|                                                                                                              | 0/25 [00:00<?, ?it/s]"
     ]
    },
    {
     "name": "stderr",
     "output_type": "stream",
     "text": [
      "\u001b[A"
     ]
    },
    {
     "name": "stderr",
     "output_type": "stream",
     "text": [
      "\n"
     ]
    },
    {
     "name": "stderr",
     "output_type": "stream",
     "text": [
      "\r",
      "LP: -88560.7:   0%|                                                                                                | 0/25 [00:00<?, ?it/s]"
     ]
    },
    {
     "name": "stderr",
     "output_type": "stream",
     "text": [
      "\u001b[A"
     ]
    },
    {
     "name": "stderr",
     "output_type": "stream",
     "text": [
      "\n"
     ]
    },
    {
     "name": "stderr",
     "output_type": "stream",
     "text": [
      "\r",
      "LP: -88562.7:   0%|                                                                                                | 0/25 [00:00<?, ?it/s]"
     ]
    },
    {
     "name": "stderr",
     "output_type": "stream",
     "text": [
      "\u001b[A"
     ]
    },
    {
     "name": "stderr",
     "output_type": "stream",
     "text": [
      "\n"
     ]
    },
    {
     "name": "stderr",
     "output_type": "stream",
     "text": [
      "\r",
      "LP: -88398.9:   0%|                                                                                                | 0/25 [00:00<?, ?it/s]"
     ]
    },
    {
     "name": "stderr",
     "output_type": "stream",
     "text": [
      "\u001b[A"
     ]
    },
    {
     "name": "stderr",
     "output_type": "stream",
     "text": [
      "\n"
     ]
    },
    {
     "name": "stderr",
     "output_type": "stream",
     "text": [
      "\r",
      "LP: -88167.0:   0%|                                                                                                | 0/25 [00:00<?, ?it/s]"
     ]
    },
    {
     "name": "stderr",
     "output_type": "stream",
     "text": [
      "\u001b[A"
     ]
    },
    {
     "name": "stderr",
     "output_type": "stream",
     "text": [
      "\n"
     ]
    },
    {
     "name": "stderr",
     "output_type": "stream",
     "text": [
      "\r",
      "LP: -88167.0:  12%|██████████▌                                                                             | 3/25 [00:00<00:00, 29.32it/s]"
     ]
    },
    {
     "name": "stderr",
     "output_type": "stream",
     "text": [
      "\u001b[A"
     ]
    },
    {
     "name": "stderr",
     "output_type": "stream",
     "text": [
      "\n"
     ]
    },
    {
     "name": "stderr",
     "output_type": "stream",
     "text": [
      "\r",
      "LP: -87870.5:  12%|██████████▌                                                                             | 3/25 [00:00<00:00, 29.32it/s]"
     ]
    },
    {
     "name": "stderr",
     "output_type": "stream",
     "text": [
      "\u001b[A"
     ]
    },
    {
     "name": "stderr",
     "output_type": "stream",
     "text": [
      "\n"
     ]
    },
    {
     "name": "stderr",
     "output_type": "stream",
     "text": [
      "\r",
      "LP: -87526.6:  12%|██████████▌                                                                             | 3/25 [00:00<00:00, 29.32it/s]"
     ]
    },
    {
     "name": "stderr",
     "output_type": "stream",
     "text": [
      "\u001b[A"
     ]
    },
    {
     "name": "stderr",
     "output_type": "stream",
     "text": [
      "\n"
     ]
    },
    {
     "name": "stderr",
     "output_type": "stream",
     "text": [
      "\r",
      "LP: -87179.8:  12%|██████████▌                                                                             | 3/25 [00:00<00:00, 29.32it/s]"
     ]
    },
    {
     "name": "stderr",
     "output_type": "stream",
     "text": [
      "\u001b[A"
     ]
    },
    {
     "name": "stderr",
     "output_type": "stream",
     "text": [
      "\n"
     ]
    },
    {
     "name": "stderr",
     "output_type": "stream",
     "text": [
      "\r",
      "LP: -87179.8:  24%|█████████████████████                                                                   | 6/25 [00:00<00:00, 22.71it/s]"
     ]
    },
    {
     "name": "stderr",
     "output_type": "stream",
     "text": [
      "\u001b[A"
     ]
    },
    {
     "name": "stderr",
     "output_type": "stream",
     "text": [
      "\n"
     ]
    },
    {
     "name": "stderr",
     "output_type": "stream",
     "text": [
      "\r",
      "LP: -86899.6:  24%|█████████████████████                                                                   | 6/25 [00:00<00:00, 22.71it/s]"
     ]
    },
    {
     "name": "stderr",
     "output_type": "stream",
     "text": [
      "\u001b[A"
     ]
    },
    {
     "name": "stderr",
     "output_type": "stream",
     "text": [
      "\n"
     ]
    },
    {
     "name": "stderr",
     "output_type": "stream",
     "text": [
      "\r",
      "LP: -86678.3:  24%|█████████████████████                                                                   | 6/25 [00:00<00:00, 22.71it/s]"
     ]
    },
    {
     "name": "stderr",
     "output_type": "stream",
     "text": [
      "\u001b[A"
     ]
    },
    {
     "name": "stderr",
     "output_type": "stream",
     "text": [
      "\n"
     ]
    },
    {
     "name": "stderr",
     "output_type": "stream",
     "text": [
      "\r",
      "LP: -86472.0:  24%|█████████████████████                                                                   | 6/25 [00:00<00:00, 22.71it/s]"
     ]
    },
    {
     "name": "stderr",
     "output_type": "stream",
     "text": [
      "\u001b[A"
     ]
    },
    {
     "name": "stderr",
     "output_type": "stream",
     "text": [
      "\n"
     ]
    },
    {
     "name": "stderr",
     "output_type": "stream",
     "text": [
      "\r",
      "LP: -86472.0:  36%|███████████████████████████████▋                                                        | 9/25 [00:00<00:00, 19.52it/s]"
     ]
    },
    {
     "name": "stderr",
     "output_type": "stream",
     "text": [
      "\u001b[A"
     ]
    },
    {
     "name": "stderr",
     "output_type": "stream",
     "text": [
      "\n"
     ]
    },
    {
     "name": "stderr",
     "output_type": "stream",
     "text": [
      "\r",
      "LP: -86277.4:  36%|███████████████████████████████▋                                                        | 9/25 [00:00<00:00, 19.52it/s]"
     ]
    },
    {
     "name": "stderr",
     "output_type": "stream",
     "text": [
      "\u001b[A"
     ]
    },
    {
     "name": "stderr",
     "output_type": "stream",
     "text": [
      "\n"
     ]
    },
    {
     "name": "stderr",
     "output_type": "stream",
     "text": [
      "\r",
      "LP: -86134.2:  36%|███████████████████████████████▋                                                        | 9/25 [00:00<00:00, 19.52it/s]"
     ]
    },
    {
     "name": "stderr",
     "output_type": "stream",
     "text": [
      "\u001b[A"
     ]
    },
    {
     "name": "stderr",
     "output_type": "stream",
     "text": [
      "\n"
     ]
    },
    {
     "name": "stderr",
     "output_type": "stream",
     "text": [
      "\r",
      "LP: -86035.3:  36%|███████████████████████████████▋                                                        | 9/25 [00:00<00:00, 19.52it/s]"
     ]
    },
    {
     "name": "stderr",
     "output_type": "stream",
     "text": [
      "\u001b[A"
     ]
    },
    {
     "name": "stderr",
     "output_type": "stream",
     "text": [
      "\n"
     ]
    },
    {
     "name": "stderr",
     "output_type": "stream",
     "text": [
      "\r",
      "LP: -86035.3:  48%|█████████████████████████████████████████▊                                             | 12/25 [00:00<00:00, 17.67it/s]"
     ]
    },
    {
     "name": "stderr",
     "output_type": "stream",
     "text": [
      "\u001b[A"
     ]
    },
    {
     "name": "stderr",
     "output_type": "stream",
     "text": [
      "\n"
     ]
    },
    {
     "name": "stderr",
     "output_type": "stream",
     "text": [
      "\r",
      "LP: -85939.7:  48%|█████████████████████████████████████████▊                                             | 12/25 [00:00<00:00, 17.67it/s]"
     ]
    },
    {
     "name": "stderr",
     "output_type": "stream",
     "text": [
      "\u001b[A"
     ]
    },
    {
     "name": "stderr",
     "output_type": "stream",
     "text": [
      "\n"
     ]
    },
    {
     "name": "stderr",
     "output_type": "stream",
     "text": [
      "\r",
      "LP: -85840.8:  48%|█████████████████████████████████████████▊                                             | 12/25 [00:00<00:00, 17.67it/s]"
     ]
    },
    {
     "name": "stderr",
     "output_type": "stream",
     "text": [
      "\u001b[A"
     ]
    },
    {
     "name": "stderr",
     "output_type": "stream",
     "text": [
      "\n"
     ]
    },
    {
     "name": "stderr",
     "output_type": "stream",
     "text": [
      "\r",
      "LP: -85840.8:  56%|████████████████████████████████████████████████▋                                      | 14/25 [00:00<00:00, 17.78it/s]"
     ]
    },
    {
     "name": "stderr",
     "output_type": "stream",
     "text": [
      "\u001b[A"
     ]
    },
    {
     "name": "stderr",
     "output_type": "stream",
     "text": [
      "\n"
     ]
    },
    {
     "name": "stderr",
     "output_type": "stream",
     "text": [
      "\r",
      "LP: -85735.6:  56%|████████████████████████████████████████████████▋                                      | 14/25 [00:00<00:00, 17.78it/s]"
     ]
    },
    {
     "name": "stderr",
     "output_type": "stream",
     "text": [
      "\u001b[A"
     ]
    },
    {
     "name": "stderr",
     "output_type": "stream",
     "text": [
      "\n"
     ]
    },
    {
     "name": "stderr",
     "output_type": "stream",
     "text": [
      "\r",
      "LP: -85622.8:  56%|████████████████████████████████████████████████▋                                      | 14/25 [00:00<00:00, 17.78it/s]"
     ]
    },
    {
     "name": "stderr",
     "output_type": "stream",
     "text": [
      "\u001b[A"
     ]
    },
    {
     "name": "stderr",
     "output_type": "stream",
     "text": [
      "\n"
     ]
    },
    {
     "name": "stderr",
     "output_type": "stream",
     "text": [
      "\r",
      "LP: -85622.8:  64%|███████████████████████████████████████████████████████▋                               | 16/25 [00:00<00:00, 17.59it/s]"
     ]
    },
    {
     "name": "stderr",
     "output_type": "stream",
     "text": [
      "\u001b[A"
     ]
    },
    {
     "name": "stderr",
     "output_type": "stream",
     "text": [
      "\n"
     ]
    },
    {
     "name": "stderr",
     "output_type": "stream",
     "text": [
      "\r",
      "LP: -85520.5:  64%|███████████████████████████████████████████████████████▋                               | 16/25 [00:00<00:00, 17.59it/s]"
     ]
    },
    {
     "name": "stderr",
     "output_type": "stream",
     "text": [
      "\u001b[A"
     ]
    },
    {
     "name": "stderr",
     "output_type": "stream",
     "text": [
      "\n"
     ]
    },
    {
     "name": "stderr",
     "output_type": "stream",
     "text": [
      "\r",
      "LP: -85426.0:  64%|███████████████████████████████████████████████████████▋                               | 16/25 [00:00<00:00, 17.59it/s]"
     ]
    },
    {
     "name": "stderr",
     "output_type": "stream",
     "text": [
      "\u001b[A"
     ]
    },
    {
     "name": "stderr",
     "output_type": "stream",
     "text": [
      "\n"
     ]
    },
    {
     "name": "stderr",
     "output_type": "stream",
     "text": [
      "\r",
      "LP: -85426.0:  72%|██████████████████████████████████████████████████████████████▋                        | 18/25 [00:00<00:00, 16.92it/s]"
     ]
    },
    {
     "name": "stderr",
     "output_type": "stream",
     "text": [
      "\u001b[A"
     ]
    },
    {
     "name": "stderr",
     "output_type": "stream",
     "text": [
      "\n"
     ]
    },
    {
     "name": "stderr",
     "output_type": "stream",
     "text": [
      "\r",
      "LP: -85350.5:  72%|██████████████████████████████████████████████████████████████▋                        | 18/25 [00:01<00:00, 16.92it/s]"
     ]
    },
    {
     "name": "stderr",
     "output_type": "stream",
     "text": [
      "\u001b[A"
     ]
    },
    {
     "name": "stderr",
     "output_type": "stream",
     "text": [
      "\n"
     ]
    },
    {
     "name": "stderr",
     "output_type": "stream",
     "text": [
      "\r",
      "LP: -85295.8:  72%|██████████████████████████████████████████████████████████████▋                        | 18/25 [00:01<00:00, 16.92it/s]"
     ]
    },
    {
     "name": "stderr",
     "output_type": "stream",
     "text": [
      "\u001b[A"
     ]
    },
    {
     "name": "stderr",
     "output_type": "stream",
     "text": [
      "\n"
     ]
    },
    {
     "name": "stderr",
     "output_type": "stream",
     "text": [
      "\r",
      "LP: -85295.8:  80%|█████████████████████████████████████████████████████████████████████▌                 | 20/25 [00:01<00:00, 16.59it/s]"
     ]
    },
    {
     "name": "stderr",
     "output_type": "stream",
     "text": [
      "\u001b[A"
     ]
    },
    {
     "name": "stderr",
     "output_type": "stream",
     "text": [
      "\n"
     ]
    },
    {
     "name": "stderr",
     "output_type": "stream",
     "text": [
      "\r",
      "LP: -85261.0:  80%|█████████████████████████████████████████████████████████████████████▌                 | 20/25 [00:01<00:00, 16.59it/s]"
     ]
    },
    {
     "name": "stderr",
     "output_type": "stream",
     "text": [
      "\u001b[A"
     ]
    },
    {
     "name": "stderr",
     "output_type": "stream",
     "text": [
      "\n"
     ]
    },
    {
     "name": "stderr",
     "output_type": "stream",
     "text": [
      "\r",
      "LP: -85244.3:  80%|█████████████████████████████████████████████████████████████████████▌                 | 20/25 [00:01<00:00, 16.59it/s]"
     ]
    },
    {
     "name": "stderr",
     "output_type": "stream",
     "text": [
      "\u001b[A"
     ]
    },
    {
     "name": "stderr",
     "output_type": "stream",
     "text": [
      "\n"
     ]
    },
    {
     "name": "stderr",
     "output_type": "stream",
     "text": [
      "\r",
      "LP: -85229.6:  80%|█████████████████████████████████████████████████████████████████████▌                 | 20/25 [00:01<00:00, 16.59it/s]"
     ]
    },
    {
     "name": "stderr",
     "output_type": "stream",
     "text": [
      "\u001b[A"
     ]
    },
    {
     "name": "stderr",
     "output_type": "stream",
     "text": [
      "\n"
     ]
    },
    {
     "name": "stderr",
     "output_type": "stream",
     "text": [
      "\r",
      "LP: -85229.6:  92%|████████████████████████████████████████████████████████████████████████████████       | 23/25 [00:01<00:00, 18.61it/s]"
     ]
    },
    {
     "name": "stderr",
     "output_type": "stream",
     "text": [
      "\u001b[A"
     ]
    },
    {
     "name": "stderr",
     "output_type": "stream",
     "text": [
      "\n"
     ]
    },
    {
     "name": "stderr",
     "output_type": "stream",
     "text": [
      "\r",
      "LP: -85223.3:  92%|████████████████████████████████████████████████████████████████████████████████       | 23/25 [00:01<00:00, 18.61it/s]"
     ]
    },
    {
     "name": "stderr",
     "output_type": "stream",
     "text": [
      "\u001b[A"
     ]
    },
    {
     "name": "stderr",
     "output_type": "stream",
     "text": [
      "\n"
     ]
    },
    {
     "name": "stderr",
     "output_type": "stream",
     "text": [
      "\r",
      "LP: -85218.0:  92%|████████████████████████████████████████████████████████████████████████████████       | 23/25 [00:01<00:00, 18.61it/s]"
     ]
    },
    {
     "name": "stderr",
     "output_type": "stream",
     "text": [
      "\u001b[A"
     ]
    },
    {
     "name": "stderr",
     "output_type": "stream",
     "text": [
      "\r",
      "LP: -85218.0: 100%|███████████████████████████████████████████████████████████████████████████████████████| 25/25 [00:01<00:00, 19.07it/s]"
     ]
    },
    {
     "name": "stderr",
     "output_type": "stream",
     "text": [
      "\n"
     ]
    },
    {
     "name": "stderr",
     "output_type": "stream",
     "text": [
      "\r",
      "ARHMM Initialization restarts:  80%|████████████████████████████████████████████████████████▊              | 8/10 [00:09<00:02,  1.24s/it]"
     ]
    },
    {
     "name": "stdout",
     "output_type": "stream",
     "text": [
      "Initializing with an ARHMM using 25 steps of EM.\n"
     ]
    },
    {
     "name": "stderr",
     "output_type": "stream",
     "text": [
      "\n"
     ]
    },
    {
     "name": "stderr",
     "output_type": "stream",
     "text": [
      "\r",
      "  0%|                                                                                                              | 0/25 [00:00<?, ?it/s]"
     ]
    },
    {
     "name": "stderr",
     "output_type": "stream",
     "text": [
      "\u001b[A"
     ]
    },
    {
     "name": "stderr",
     "output_type": "stream",
     "text": [
      "\n"
     ]
    },
    {
     "name": "stderr",
     "output_type": "stream",
     "text": [
      "\r",
      "LP: -88549.6:   0%|                                                                                                | 0/25 [00:00<?, ?it/s]"
     ]
    },
    {
     "name": "stderr",
     "output_type": "stream",
     "text": [
      "\u001b[A"
     ]
    },
    {
     "name": "stderr",
     "output_type": "stream",
     "text": [
      "\n"
     ]
    },
    {
     "name": "stderr",
     "output_type": "stream",
     "text": [
      "\r",
      "LP: -88552.3:   0%|                                                                                                | 0/25 [00:00<?, ?it/s]"
     ]
    },
    {
     "name": "stderr",
     "output_type": "stream",
     "text": [
      "\u001b[A"
     ]
    },
    {
     "name": "stderr",
     "output_type": "stream",
     "text": [
      "\n"
     ]
    },
    {
     "name": "stderr",
     "output_type": "stream",
     "text": [
      "\r",
      "LP: -88405.6:   0%|                                                                                                | 0/25 [00:00<?, ?it/s]"
     ]
    },
    {
     "name": "stderr",
     "output_type": "stream",
     "text": [
      "\u001b[A"
     ]
    },
    {
     "name": "stderr",
     "output_type": "stream",
     "text": [
      "\n"
     ]
    },
    {
     "name": "stderr",
     "output_type": "stream",
     "text": [
      "\r",
      "LP: -88235.5:   0%|                                                                                                | 0/25 [00:00<?, ?it/s]"
     ]
    },
    {
     "name": "stderr",
     "output_type": "stream",
     "text": [
      "\u001b[A"
     ]
    },
    {
     "name": "stderr",
     "output_type": "stream",
     "text": [
      "\n"
     ]
    },
    {
     "name": "stderr",
     "output_type": "stream",
     "text": [
      "\r",
      "LP: -88235.5:  12%|██████████▌                                                                             | 3/25 [00:00<00:00, 28.93it/s]"
     ]
    },
    {
     "name": "stderr",
     "output_type": "stream",
     "text": [
      "\u001b[A"
     ]
    },
    {
     "name": "stderr",
     "output_type": "stream",
     "text": [
      "\n"
     ]
    },
    {
     "name": "stderr",
     "output_type": "stream",
     "text": [
      "\r",
      "LP: -88062.3:  12%|██████████▌                                                                             | 3/25 [00:00<00:00, 28.93it/s]"
     ]
    },
    {
     "name": "stderr",
     "output_type": "stream",
     "text": [
      "\u001b[A"
     ]
    },
    {
     "name": "stderr",
     "output_type": "stream",
     "text": [
      "\n"
     ]
    },
    {
     "name": "stderr",
     "output_type": "stream",
     "text": [
      "\r",
      "LP: -87890.7:  12%|██████████▌                                                                             | 3/25 [00:00<00:00, 28.93it/s]"
     ]
    },
    {
     "name": "stderr",
     "output_type": "stream",
     "text": [
      "\u001b[A"
     ]
    },
    {
     "name": "stderr",
     "output_type": "stream",
     "text": [
      "\n"
     ]
    },
    {
     "name": "stderr",
     "output_type": "stream",
     "text": [
      "\r",
      "LP: -87722.7:  12%|██████████▌                                                                             | 3/25 [00:00<00:00, 28.93it/s]"
     ]
    },
    {
     "name": "stderr",
     "output_type": "stream",
     "text": [
      "\u001b[A"
     ]
    },
    {
     "name": "stderr",
     "output_type": "stream",
     "text": [
      "\n"
     ]
    },
    {
     "name": "stderr",
     "output_type": "stream",
     "text": [
      "\r",
      "LP: -87722.7:  24%|█████████████████████                                                                   | 6/25 [00:00<00:00, 23.66it/s]"
     ]
    },
    {
     "name": "stderr",
     "output_type": "stream",
     "text": [
      "\u001b[A"
     ]
    },
    {
     "name": "stderr",
     "output_type": "stream",
     "text": [
      "\n"
     ]
    },
    {
     "name": "stderr",
     "output_type": "stream",
     "text": [
      "\r",
      "LP: -87531.4:  24%|█████████████████████                                                                   | 6/25 [00:00<00:00, 23.66it/s]"
     ]
    },
    {
     "name": "stderr",
     "output_type": "stream",
     "text": [
      "\u001b[A"
     ]
    },
    {
     "name": "stderr",
     "output_type": "stream",
     "text": [
      "\n"
     ]
    },
    {
     "name": "stderr",
     "output_type": "stream",
     "text": [
      "\r",
      "LP: -87319.1:  24%|█████████████████████                                                                   | 6/25 [00:00<00:00, 23.66it/s]"
     ]
    },
    {
     "name": "stderr",
     "output_type": "stream",
     "text": [
      "\u001b[A"
     ]
    },
    {
     "name": "stderr",
     "output_type": "stream",
     "text": [
      "\n"
     ]
    },
    {
     "name": "stderr",
     "output_type": "stream",
     "text": [
      "\r",
      "LP: -87120.1:  24%|█████████████████████                                                                   | 6/25 [00:00<00:00, 23.66it/s]"
     ]
    },
    {
     "name": "stderr",
     "output_type": "stream",
     "text": [
      "\u001b[A"
     ]
    },
    {
     "name": "stderr",
     "output_type": "stream",
     "text": [
      "\n"
     ]
    },
    {
     "name": "stderr",
     "output_type": "stream",
     "text": [
      "\r",
      "LP: -87120.1:  36%|███████████████████████████████▋                                                        | 9/25 [00:00<00:00, 23.62it/s]"
     ]
    },
    {
     "name": "stderr",
     "output_type": "stream",
     "text": [
      "\u001b[A"
     ]
    },
    {
     "name": "stderr",
     "output_type": "stream",
     "text": [
      "\n"
     ]
    },
    {
     "name": "stderr",
     "output_type": "stream",
     "text": [
      "\r",
      "LP: -86918.3:  36%|███████████████████████████████▋                                                        | 9/25 [00:00<00:00, 23.62it/s]"
     ]
    },
    {
     "name": "stderr",
     "output_type": "stream",
     "text": [
      "\u001b[A"
     ]
    },
    {
     "name": "stderr",
     "output_type": "stream",
     "text": [
      "\n"
     ]
    },
    {
     "name": "stderr",
     "output_type": "stream",
     "text": [
      "\r",
      "LP: -86729.1:  36%|███████████████████████████████▋                                                        | 9/25 [00:00<00:00, 23.62it/s]"
     ]
    },
    {
     "name": "stderr",
     "output_type": "stream",
     "text": [
      "\u001b[A"
     ]
    },
    {
     "name": "stderr",
     "output_type": "stream",
     "text": [
      "\n"
     ]
    },
    {
     "name": "stderr",
     "output_type": "stream",
     "text": [
      "\r",
      "LP: -86584.5:  36%|███████████████████████████████▋                                                        | 9/25 [00:00<00:00, 23.62it/s]"
     ]
    },
    {
     "name": "stderr",
     "output_type": "stream",
     "text": [
      "\u001b[A"
     ]
    },
    {
     "name": "stderr",
     "output_type": "stream",
     "text": [
      "\n"
     ]
    },
    {
     "name": "stderr",
     "output_type": "stream",
     "text": [
      "\r",
      "LP: -86584.5:  48%|█████████████████████████████████████████▊                                             | 12/25 [00:00<00:00, 22.08it/s]"
     ]
    },
    {
     "name": "stderr",
     "output_type": "stream",
     "text": [
      "\u001b[A"
     ]
    },
    {
     "name": "stderr",
     "output_type": "stream",
     "text": [
      "\n"
     ]
    },
    {
     "name": "stderr",
     "output_type": "stream",
     "text": [
      "\r",
      "LP: -86487.4:  48%|█████████████████████████████████████████▊                                             | 12/25 [00:00<00:00, 22.08it/s]"
     ]
    },
    {
     "name": "stderr",
     "output_type": "stream",
     "text": [
      "\u001b[A"
     ]
    },
    {
     "name": "stderr",
     "output_type": "stream",
     "text": [
      "\n"
     ]
    },
    {
     "name": "stderr",
     "output_type": "stream",
     "text": [
      "\r",
      "LP: -86430.4:  48%|█████████████████████████████████████████▊                                             | 12/25 [00:00<00:00, 22.08it/s]"
     ]
    },
    {
     "name": "stderr",
     "output_type": "stream",
     "text": [
      "\u001b[A"
     ]
    },
    {
     "name": "stderr",
     "output_type": "stream",
     "text": [
      "\n"
     ]
    },
    {
     "name": "stderr",
     "output_type": "stream",
     "text": [
      "\r",
      "LP: -86390.5:  48%|█████████████████████████████████████████▊                                             | 12/25 [00:00<00:00, 22.08it/s]"
     ]
    },
    {
     "name": "stderr",
     "output_type": "stream",
     "text": [
      "\u001b[A"
     ]
    },
    {
     "name": "stderr",
     "output_type": "stream",
     "text": [
      "\n"
     ]
    },
    {
     "name": "stderr",
     "output_type": "stream",
     "text": [
      "\r",
      "LP: -86390.5:  60%|████████████████████████████████████████████████████▏                                  | 15/25 [00:00<00:00, 23.64it/s]"
     ]
    },
    {
     "name": "stderr",
     "output_type": "stream",
     "text": [
      "\u001b[A"
     ]
    },
    {
     "name": "stderr",
     "output_type": "stream",
     "text": [
      "\n"
     ]
    },
    {
     "name": "stderr",
     "output_type": "stream",
     "text": [
      "\r",
      "LP: -86365.0:  60%|████████████████████████████████████████████████████▏                                  | 15/25 [00:00<00:00, 23.64it/s]"
     ]
    },
    {
     "name": "stderr",
     "output_type": "stream",
     "text": [
      "\u001b[A"
     ]
    },
    {
     "name": "stderr",
     "output_type": "stream",
     "text": [
      "\n"
     ]
    },
    {
     "name": "stderr",
     "output_type": "stream",
     "text": [
      "\r",
      "LP: -86344.5:  60%|████████████████████████████████████████████████████▏                                  | 15/25 [00:00<00:00, 23.64it/s]"
     ]
    },
    {
     "name": "stderr",
     "output_type": "stream",
     "text": [
      "\u001b[A"
     ]
    },
    {
     "name": "stderr",
     "output_type": "stream",
     "text": [
      "\n"
     ]
    },
    {
     "name": "stderr",
     "output_type": "stream",
     "text": [
      "\r",
      "LP: -86328.2:  60%|████████████████████████████████████████████████████▏                                  | 15/25 [00:00<00:00, 23.64it/s]"
     ]
    },
    {
     "name": "stderr",
     "output_type": "stream",
     "text": [
      "\u001b[A"
     ]
    },
    {
     "name": "stderr",
     "output_type": "stream",
     "text": [
      "\n"
     ]
    },
    {
     "name": "stderr",
     "output_type": "stream",
     "text": [
      "\r",
      "LP: -86328.2:  72%|██████████████████████████████████████████████████████████████▋                        | 18/25 [00:00<00:00, 25.37it/s]"
     ]
    },
    {
     "name": "stderr",
     "output_type": "stream",
     "text": [
      "\u001b[A"
     ]
    },
    {
     "name": "stderr",
     "output_type": "stream",
     "text": [
      "\n"
     ]
    },
    {
     "name": "stderr",
     "output_type": "stream",
     "text": [
      "\r",
      "LP: -86313.2:  72%|██████████████████████████████████████████████████████████████▋                        | 18/25 [00:00<00:00, 25.37it/s]"
     ]
    },
    {
     "name": "stderr",
     "output_type": "stream",
     "text": [
      "\u001b[A"
     ]
    },
    {
     "name": "stderr",
     "output_type": "stream",
     "text": [
      "\n"
     ]
    },
    {
     "name": "stderr",
     "output_type": "stream",
     "text": [
      "\r",
      "LP: -86299.4:  72%|██████████████████████████████████████████████████████████████▋                        | 18/25 [00:00<00:00, 25.37it/s]"
     ]
    },
    {
     "name": "stderr",
     "output_type": "stream",
     "text": [
      "\u001b[A"
     ]
    },
    {
     "name": "stderr",
     "output_type": "stream",
     "text": [
      "\n"
     ]
    },
    {
     "name": "stderr",
     "output_type": "stream",
     "text": [
      "\r",
      "LP: -86285.6:  72%|██████████████████████████████████████████████████████████████▋                        | 18/25 [00:00<00:00, 25.37it/s]"
     ]
    },
    {
     "name": "stderr",
     "output_type": "stream",
     "text": [
      "\u001b[A"
     ]
    },
    {
     "name": "stderr",
     "output_type": "stream",
     "text": [
      "\n"
     ]
    },
    {
     "name": "stderr",
     "output_type": "stream",
     "text": [
      "\r",
      "LP: -86285.6:  84%|█████████████████████████████████████████████████████████████████████████              | 21/25 [00:00<00:00, 25.58it/s]"
     ]
    },
    {
     "name": "stderr",
     "output_type": "stream",
     "text": [
      "\u001b[A"
     ]
    },
    {
     "name": "stderr",
     "output_type": "stream",
     "text": [
      "\n"
     ]
    },
    {
     "name": "stderr",
     "output_type": "stream",
     "text": [
      "\r",
      "LP: -86274.3:  84%|█████████████████████████████████████████████████████████████████████████              | 21/25 [00:00<00:00, 25.58it/s]"
     ]
    },
    {
     "name": "stderr",
     "output_type": "stream",
     "text": [
      "\u001b[A"
     ]
    },
    {
     "name": "stderr",
     "output_type": "stream",
     "text": [
      "\n"
     ]
    },
    {
     "name": "stderr",
     "output_type": "stream",
     "text": [
      "\r",
      "LP: -86262.7:  84%|█████████████████████████████████████████████████████████████████████████              | 21/25 [00:00<00:00, 25.58it/s]"
     ]
    },
    {
     "name": "stderr",
     "output_type": "stream",
     "text": [
      "\u001b[A"
     ]
    },
    {
     "name": "stderr",
     "output_type": "stream",
     "text": [
      "\n"
     ]
    },
    {
     "name": "stderr",
     "output_type": "stream",
     "text": [
      "\r",
      "LP: -86250.4:  84%|█████████████████████████████████████████████████████████████████████████              | 21/25 [00:00<00:00, 25.58it/s]"
     ]
    },
    {
     "name": "stderr",
     "output_type": "stream",
     "text": [
      "\u001b[A"
     ]
    },
    {
     "name": "stderr",
     "output_type": "stream",
     "text": [
      "\n"
     ]
    },
    {
     "name": "stderr",
     "output_type": "stream",
     "text": [
      "\r",
      "LP: -86250.4:  96%|███████████████████████████████████████████████████████████████████████████████████▌   | 24/25 [00:00<00:00, 26.50it/s]"
     ]
    },
    {
     "name": "stderr",
     "output_type": "stream",
     "text": [
      "\u001b[A"
     ]
    },
    {
     "name": "stderr",
     "output_type": "stream",
     "text": [
      "\n"
     ]
    },
    {
     "name": "stderr",
     "output_type": "stream",
     "text": [
      "\r",
      "LP: -86239.3:  96%|███████████████████████████████████████████████████████████████████████████████████▌   | 24/25 [00:00<00:00, 26.50it/s]"
     ]
    },
    {
     "name": "stderr",
     "output_type": "stream",
     "text": [
      "\u001b[A"
     ]
    },
    {
     "name": "stderr",
     "output_type": "stream",
     "text": [
      "\r",
      "LP: -86239.3: 100%|███████████████████████████████████████████████████████████████████████████████████████| 25/25 [00:00<00:00, 25.03it/s]"
     ]
    },
    {
     "name": "stderr",
     "output_type": "stream",
     "text": [
      "\n",
      "\r",
      "ARHMM Initialization restarts:  90%|███████████████████████████████████████████████████████████████▉       | 9/10 [00:10<00:01,  1.17s/it]"
     ]
    },
    {
     "name": "stdout",
     "output_type": "stream",
     "text": [
      "Initializing with an ARHMM using 25 steps of EM.\n"
     ]
    },
    {
     "name": "stderr",
     "output_type": "stream",
     "text": [
      "\n"
     ]
    },
    {
     "name": "stderr",
     "output_type": "stream",
     "text": [
      "\r",
      "  0%|                                                                                                              | 0/25 [00:00<?, ?it/s]"
     ]
    },
    {
     "name": "stderr",
     "output_type": "stream",
     "text": [
      "\u001b[A"
     ]
    },
    {
     "name": "stderr",
     "output_type": "stream",
     "text": [
      "\n"
     ]
    },
    {
     "name": "stderr",
     "output_type": "stream",
     "text": [
      "\r",
      "LP: -88554.1:   0%|                                                                                                | 0/25 [00:00<?, ?it/s]"
     ]
    },
    {
     "name": "stderr",
     "output_type": "stream",
     "text": [
      "\u001b[A"
     ]
    },
    {
     "name": "stderr",
     "output_type": "stream",
     "text": [
      "\n"
     ]
    },
    {
     "name": "stderr",
     "output_type": "stream",
     "text": [
      "\r",
      "LP: -88556.8:   0%|                                                                                                | 0/25 [00:00<?, ?it/s]"
     ]
    },
    {
     "name": "stderr",
     "output_type": "stream",
     "text": [
      "\u001b[A"
     ]
    },
    {
     "name": "stderr",
     "output_type": "stream",
     "text": [
      "\n"
     ]
    },
    {
     "name": "stderr",
     "output_type": "stream",
     "text": [
      "\r",
      "LP: -88381.9:   0%|                                                                                                | 0/25 [00:00<?, ?it/s]"
     ]
    },
    {
     "name": "stderr",
     "output_type": "stream",
     "text": [
      "\u001b[A"
     ]
    },
    {
     "name": "stderr",
     "output_type": "stream",
     "text": [
      "\n"
     ]
    },
    {
     "name": "stderr",
     "output_type": "stream",
     "text": [
      "\r",
      "LP: -88134.9:   0%|                                                                                                | 0/25 [00:00<?, ?it/s]"
     ]
    },
    {
     "name": "stderr",
     "output_type": "stream",
     "text": [
      "\u001b[A"
     ]
    },
    {
     "name": "stderr",
     "output_type": "stream",
     "text": [
      "\n"
     ]
    },
    {
     "name": "stderr",
     "output_type": "stream",
     "text": [
      "\r",
      "LP: -88134.9:  12%|██████████▌                                                                             | 3/25 [00:00<00:00, 27.75it/s]"
     ]
    },
    {
     "name": "stderr",
     "output_type": "stream",
     "text": [
      "\u001b[A"
     ]
    },
    {
     "name": "stderr",
     "output_type": "stream",
     "text": [
      "\n"
     ]
    },
    {
     "name": "stderr",
     "output_type": "stream",
     "text": [
      "\r",
      "LP: -87867.2:  12%|██████████▌                                                                             | 3/25 [00:00<00:00, 27.75it/s]"
     ]
    },
    {
     "name": "stderr",
     "output_type": "stream",
     "text": [
      "\u001b[A"
     ]
    },
    {
     "name": "stderr",
     "output_type": "stream",
     "text": [
      "\n"
     ]
    },
    {
     "name": "stderr",
     "output_type": "stream",
     "text": [
      "\r",
      "LP: -87643.9:  12%|██████████▌                                                                             | 3/25 [00:00<00:00, 27.75it/s]"
     ]
    },
    {
     "name": "stderr",
     "output_type": "stream",
     "text": [
      "\u001b[A"
     ]
    },
    {
     "name": "stderr",
     "output_type": "stream",
     "text": [
      "\n"
     ]
    },
    {
     "name": "stderr",
     "output_type": "stream",
     "text": [
      "\r",
      "LP: -87471.3:  12%|██████████▌                                                                             | 3/25 [00:00<00:00, 27.75it/s]"
     ]
    },
    {
     "name": "stderr",
     "output_type": "stream",
     "text": [
      "\u001b[A"
     ]
    },
    {
     "name": "stderr",
     "output_type": "stream",
     "text": [
      "\n"
     ]
    },
    {
     "name": "stderr",
     "output_type": "stream",
     "text": [
      "\r",
      "LP: -87471.3:  24%|█████████████████████                                                                   | 6/25 [00:00<00:00, 24.86it/s]"
     ]
    },
    {
     "name": "stderr",
     "output_type": "stream",
     "text": [
      "\u001b[A"
     ]
    },
    {
     "name": "stderr",
     "output_type": "stream",
     "text": [
      "\n"
     ]
    },
    {
     "name": "stderr",
     "output_type": "stream",
     "text": [
      "\r",
      "LP: -87335.7:  24%|█████████████████████                                                                   | 6/25 [00:00<00:00, 24.86it/s]"
     ]
    },
    {
     "name": "stderr",
     "output_type": "stream",
     "text": [
      "\u001b[A"
     ]
    },
    {
     "name": "stderr",
     "output_type": "stream",
     "text": [
      "\n"
     ]
    },
    {
     "name": "stderr",
     "output_type": "stream",
     "text": [
      "\r",
      "LP: -87210.5:  24%|█████████████████████                                                                   | 6/25 [00:00<00:00, 24.86it/s]"
     ]
    },
    {
     "name": "stderr",
     "output_type": "stream",
     "text": [
      "\u001b[A"
     ]
    },
    {
     "name": "stderr",
     "output_type": "stream",
     "text": [
      "\n"
     ]
    },
    {
     "name": "stderr",
     "output_type": "stream",
     "text": [
      "\r",
      "LP: -87077.2:  24%|█████████████████████                                                                   | 6/25 [00:00<00:00, 24.86it/s]"
     ]
    },
    {
     "name": "stderr",
     "output_type": "stream",
     "text": [
      "\u001b[A"
     ]
    },
    {
     "name": "stderr",
     "output_type": "stream",
     "text": [
      "\n"
     ]
    },
    {
     "name": "stderr",
     "output_type": "stream",
     "text": [
      "\r",
      "LP: -87077.2:  36%|███████████████████████████████▋                                                        | 9/25 [00:00<00:00, 23.46it/s]"
     ]
    },
    {
     "name": "stderr",
     "output_type": "stream",
     "text": [
      "\u001b[A"
     ]
    },
    {
     "name": "stderr",
     "output_type": "stream",
     "text": [
      "\n"
     ]
    },
    {
     "name": "stderr",
     "output_type": "stream",
     "text": [
      "\r",
      "LP: -86936.6:  36%|███████████████████████████████▋                                                        | 9/25 [00:00<00:00, 23.46it/s]"
     ]
    },
    {
     "name": "stderr",
     "output_type": "stream",
     "text": [
      "\u001b[A"
     ]
    },
    {
     "name": "stderr",
     "output_type": "stream",
     "text": [
      "\n"
     ]
    },
    {
     "name": "stderr",
     "output_type": "stream",
     "text": [
      "\r",
      "LP: -86772.2:  36%|███████████████████████████████▋                                                        | 9/25 [00:00<00:00, 23.46it/s]"
     ]
    },
    {
     "name": "stderr",
     "output_type": "stream",
     "text": [
      "\u001b[A"
     ]
    },
    {
     "name": "stderr",
     "output_type": "stream",
     "text": [
      "\n"
     ]
    },
    {
     "name": "stderr",
     "output_type": "stream",
     "text": [
      "\r",
      "LP: -86591.4:  36%|███████████████████████████████▋                                                        | 9/25 [00:00<00:00, 23.46it/s]"
     ]
    },
    {
     "name": "stderr",
     "output_type": "stream",
     "text": [
      "\u001b[A"
     ]
    },
    {
     "name": "stderr",
     "output_type": "stream",
     "text": [
      "\n"
     ]
    },
    {
     "name": "stderr",
     "output_type": "stream",
     "text": [
      "\r",
      "LP: -86591.4:  48%|█████████████████████████████████████████▊                                             | 12/25 [00:00<00:00, 20.91it/s]"
     ]
    },
    {
     "name": "stderr",
     "output_type": "stream",
     "text": [
      "\u001b[A"
     ]
    },
    {
     "name": "stderr",
     "output_type": "stream",
     "text": [
      "\n"
     ]
    },
    {
     "name": "stderr",
     "output_type": "stream",
     "text": [
      "\r",
      "LP: -86405.8:  48%|█████████████████████████████████████████▊                                             | 12/25 [00:00<00:00, 20.91it/s]"
     ]
    },
    {
     "name": "stderr",
     "output_type": "stream",
     "text": [
      "\u001b[A"
     ]
    },
    {
     "name": "stderr",
     "output_type": "stream",
     "text": [
      "\n"
     ]
    },
    {
     "name": "stderr",
     "output_type": "stream",
     "text": [
      "\r",
      "LP: -86206.6:  48%|█████████████████████████████████████████▊                                             | 12/25 [00:00<00:00, 20.91it/s]"
     ]
    },
    {
     "name": "stderr",
     "output_type": "stream",
     "text": [
      "\u001b[A"
     ]
    },
    {
     "name": "stderr",
     "output_type": "stream",
     "text": [
      "\n"
     ]
    },
    {
     "name": "stderr",
     "output_type": "stream",
     "text": [
      "\r",
      "LP: -86008.2:  48%|█████████████████████████████████████████▊                                             | 12/25 [00:00<00:00, 20.91it/s]"
     ]
    },
    {
     "name": "stderr",
     "output_type": "stream",
     "text": [
      "\u001b[A"
     ]
    },
    {
     "name": "stderr",
     "output_type": "stream",
     "text": [
      "\n"
     ]
    },
    {
     "name": "stderr",
     "output_type": "stream",
     "text": [
      "\r",
      "LP: -86008.2:  60%|████████████████████████████████████████████████████▏                                  | 15/25 [00:00<00:00, 19.38it/s]"
     ]
    },
    {
     "name": "stderr",
     "output_type": "stream",
     "text": [
      "\u001b[A"
     ]
    },
    {
     "name": "stderr",
     "output_type": "stream",
     "text": [
      "\n"
     ]
    },
    {
     "name": "stderr",
     "output_type": "stream",
     "text": [
      "\r",
      "LP: -85809.3:  60%|████████████████████████████████████████████████████▏                                  | 15/25 [00:00<00:00, 19.38it/s]"
     ]
    },
    {
     "name": "stderr",
     "output_type": "stream",
     "text": [
      "\u001b[A"
     ]
    },
    {
     "name": "stderr",
     "output_type": "stream",
     "text": [
      "\n"
     ]
    },
    {
     "name": "stderr",
     "output_type": "stream",
     "text": [
      "\r",
      "LP: -85625.4:  60%|████████████████████████████████████████████████████▏                                  | 15/25 [00:00<00:00, 19.38it/s]"
     ]
    },
    {
     "name": "stderr",
     "output_type": "stream",
     "text": [
      "\u001b[A"
     ]
    },
    {
     "name": "stderr",
     "output_type": "stream",
     "text": [
      "\n"
     ]
    },
    {
     "name": "stderr",
     "output_type": "stream",
     "text": [
      "\r",
      "LP: -85625.4:  68%|███████████████████████████████████████████████████████████▏                           | 17/25 [00:00<00:00, 18.07it/s]"
     ]
    },
    {
     "name": "stderr",
     "output_type": "stream",
     "text": [
      "\u001b[A"
     ]
    },
    {
     "name": "stderr",
     "output_type": "stream",
     "text": [
      "\n"
     ]
    },
    {
     "name": "stderr",
     "output_type": "stream",
     "text": [
      "\r",
      "LP: -85458.3:  68%|███████████████████████████████████████████████████████████▏                           | 17/25 [00:00<00:00, 18.07it/s]"
     ]
    },
    {
     "name": "stderr",
     "output_type": "stream",
     "text": [
      "\u001b[A"
     ]
    },
    {
     "name": "stderr",
     "output_type": "stream",
     "text": [
      "\n"
     ]
    },
    {
     "name": "stderr",
     "output_type": "stream",
     "text": [
      "\r",
      "LP: -85344.3:  68%|███████████████████████████████████████████████████████████▏                           | 17/25 [00:00<00:00, 18.07it/s]"
     ]
    },
    {
     "name": "stderr",
     "output_type": "stream",
     "text": [
      "\u001b[A"
     ]
    },
    {
     "name": "stderr",
     "output_type": "stream",
     "text": [
      "\n"
     ]
    },
    {
     "name": "stderr",
     "output_type": "stream",
     "text": [
      "\r",
      "LP: -85344.3:  76%|██████████████████████████████████████████████████████████████████                     | 19/25 [00:00<00:00, 17.05it/s]"
     ]
    },
    {
     "name": "stderr",
     "output_type": "stream",
     "text": [
      "\u001b[A"
     ]
    },
    {
     "name": "stderr",
     "output_type": "stream",
     "text": [
      "\n"
     ]
    },
    {
     "name": "stderr",
     "output_type": "stream",
     "text": [
      "\r",
      "LP: -85286.3:  76%|██████████████████████████████████████████████████████████████████                     | 19/25 [00:01<00:00, 17.05it/s]"
     ]
    },
    {
     "name": "stderr",
     "output_type": "stream",
     "text": [
      "\u001b[A"
     ]
    },
    {
     "name": "stderr",
     "output_type": "stream",
     "text": [
      "\n"
     ]
    },
    {
     "name": "stderr",
     "output_type": "stream",
     "text": [
      "\r",
      "LP: -85245.4:  76%|██████████████████████████████████████████████████████████████████                     | 19/25 [00:01<00:00, 17.05it/s]"
     ]
    },
    {
     "name": "stderr",
     "output_type": "stream",
     "text": [
      "\u001b[A"
     ]
    },
    {
     "name": "stderr",
     "output_type": "stream",
     "text": [
      "\n"
     ]
    },
    {
     "name": "stderr",
     "output_type": "stream",
     "text": [
      "\r",
      "LP: -85245.4:  84%|█████████████████████████████████████████████████████████████████████████              | 21/25 [00:01<00:00, 16.93it/s]"
     ]
    },
    {
     "name": "stderr",
     "output_type": "stream",
     "text": [
      "\u001b[A"
     ]
    },
    {
     "name": "stderr",
     "output_type": "stream",
     "text": [
      "\n"
     ]
    },
    {
     "name": "stderr",
     "output_type": "stream",
     "text": [
      "\r",
      "LP: -85229.2:  84%|█████████████████████████████████████████████████████████████████████████              | 21/25 [00:01<00:00, 16.93it/s]"
     ]
    },
    {
     "name": "stderr",
     "output_type": "stream",
     "text": [
      "\u001b[A"
     ]
    },
    {
     "name": "stderr",
     "output_type": "stream",
     "text": [
      "\n"
     ]
    },
    {
     "name": "stderr",
     "output_type": "stream",
     "text": [
      "\r",
      "LP: -85224.2:  84%|█████████████████████████████████████████████████████████████████████████              | 21/25 [00:01<00:00, 16.93it/s]"
     ]
    },
    {
     "name": "stderr",
     "output_type": "stream",
     "text": [
      "\u001b[A"
     ]
    },
    {
     "name": "stderr",
     "output_type": "stream",
     "text": [
      "\n"
     ]
    },
    {
     "name": "stderr",
     "output_type": "stream",
     "text": [
      "\r",
      "LP: -85217.3:  84%|█████████████████████████████████████████████████████████████████████████              | 21/25 [00:01<00:00, 16.93it/s]"
     ]
    },
    {
     "name": "stderr",
     "output_type": "stream",
     "text": [
      "\u001b[A"
     ]
    },
    {
     "name": "stderr",
     "output_type": "stream",
     "text": [
      "\n"
     ]
    },
    {
     "name": "stderr",
     "output_type": "stream",
     "text": [
      "\r",
      "LP: -85217.3:  96%|███████████████████████████████████████████████████████████████████████████████████▌   | 24/25 [00:01<00:00, 19.38it/s]"
     ]
    },
    {
     "name": "stderr",
     "output_type": "stream",
     "text": [
      "\u001b[A"
     ]
    },
    {
     "name": "stderr",
     "output_type": "stream",
     "text": [
      "\n"
     ]
    },
    {
     "name": "stderr",
     "output_type": "stream",
     "text": [
      "\r",
      "LP: -85214.4:  96%|███████████████████████████████████████████████████████████████████████████████████▌   | 24/25 [00:01<00:00, 19.38it/s]"
     ]
    },
    {
     "name": "stderr",
     "output_type": "stream",
     "text": [
      "\u001b[A"
     ]
    },
    {
     "name": "stderr",
     "output_type": "stream",
     "text": [
      "\r",
      "LP: -85214.4: 100%|███████████████████████████████████████████████████████████████████████████████████████| 25/25 [00:01<00:00, 19.96it/s]"
     ]
    },
    {
     "name": "stderr",
     "output_type": "stream",
     "text": [
      "\n",
      "\r",
      "ARHMM Initialization restarts: 100%|██████████████████████████████████████████████████████████████████████| 10/10 [00:11<00:00,  1.20s/it]"
     ]
    },
    {
     "name": "stderr",
     "output_type": "stream",
     "text": [
      "\r",
      "ARHMM Initialization restarts: 100%|██████████████████████████████████████████████████████████████████████| 10/10 [00:11<00:00,  1.19s/it]"
     ]
    },
    {
     "name": "stderr",
     "output_type": "stream",
     "text": [
      "\n"
     ]
    },
    {
     "name": "stderr",
     "output_type": "stream",
     "text": [
      "\r",
      "  0%|                                                                                                              | 0/30 [00:00<?, ?it/s]"
     ]
    },
    {
     "name": "stderr",
     "output_type": "stream",
     "text": [
      "\r",
      "ELBO: -464532.6:   0%|                                                                                             | 0/30 [00:00<?, ?it/s]"
     ]
    },
    {
     "name": "stderr",
     "output_type": "stream",
     "text": [
      "\r",
      "ELBO: -310624.2:   0%|                                                                                             | 0/30 [00:09<?, ?it/s]"
     ]
    },
    {
     "name": "stderr",
     "output_type": "stream",
     "text": [
      "\r",
      "ELBO: -310624.2:   3%|██▊                                                                                  | 1/30 [00:09<04:21,  9.00s/it]"
     ]
    },
    {
     "name": "stderr",
     "output_type": "stream",
     "text": [
      "\r",
      "ELBO: -302823.3:   3%|██▊                                                                                  | 1/30 [00:16<04:21,  9.00s/it]"
     ]
    },
    {
     "name": "stderr",
     "output_type": "stream",
     "text": [
      "\r",
      "ELBO: -302823.3:   7%|█████▋                                                                               | 2/30 [00:16<03:46,  8.07s/it]"
     ]
    },
    {
     "name": "stderr",
     "output_type": "stream",
     "text": [
      "\r",
      "ELBO: -299983.3:   7%|█████▋                                                                               | 2/30 [00:23<03:46,  8.07s/it]"
     ]
    },
    {
     "name": "stderr",
     "output_type": "stream",
     "text": [
      "\r",
      "ELBO: -299983.3:  10%|████████▌                                                                            | 3/30 [00:23<03:23,  7.52s/it]"
     ]
    },
    {
     "name": "stderr",
     "output_type": "stream",
     "text": [
      "\r",
      "ELBO: -298108.0:  10%|████████▌                                                                            | 3/30 [00:30<03:23,  7.52s/it]"
     ]
    },
    {
     "name": "stderr",
     "output_type": "stream",
     "text": [
      "\r",
      "ELBO: -298108.0:  13%|███████████▎                                                                         | 4/30 [00:30<03:09,  7.30s/it]"
     ]
    },
    {
     "name": "stderr",
     "output_type": "stream",
     "text": [
      "\r",
      "ELBO: -297458.8:  13%|███████████▎                                                                         | 4/30 [00:36<03:09,  7.30s/it]"
     ]
    },
    {
     "name": "stderr",
     "output_type": "stream",
     "text": [
      "\r",
      "ELBO: -297458.8:  17%|██████████████▏                                                                      | 5/30 [00:36<02:50,  6.84s/it]"
     ]
    },
    {
     "name": "stderr",
     "output_type": "stream",
     "text": [
      "\r",
      "ELBO: -297252.5:  17%|██████████████▏                                                                      | 5/30 [00:42<02:50,  6.84s/it]"
     ]
    },
    {
     "name": "stderr",
     "output_type": "stream",
     "text": [
      "\r",
      "ELBO: -297252.5:  20%|█████████████████                                                                    | 6/30 [00:42<02:36,  6.51s/it]"
     ]
    },
    {
     "name": "stderr",
     "output_type": "stream",
     "text": [
      "\r",
      "ELBO: -296877.2:  20%|█████████████████                                                                    | 6/30 [00:47<02:36,  6.51s/it]"
     ]
    },
    {
     "name": "stderr",
     "output_type": "stream",
     "text": [
      "\r",
      "ELBO: -296877.2:  23%|███████████████████▊                                                                 | 7/30 [00:47<02:24,  6.29s/it]"
     ]
    },
    {
     "name": "stderr",
     "output_type": "stream",
     "text": [
      "\r",
      "ELBO: -297119.1:  23%|███████████████████▊                                                                 | 7/30 [00:53<02:24,  6.29s/it]"
     ]
    },
    {
     "name": "stderr",
     "output_type": "stream",
     "text": [
      "\r",
      "ELBO: -297119.1:  27%|██████████████████████▋                                                              | 8/30 [00:53<02:15,  6.17s/it]"
     ]
    },
    {
     "name": "stderr",
     "output_type": "stream",
     "text": [
      "\r",
      "ELBO: -296639.7:  27%|██████████████████████▋                                                              | 8/30 [00:59<02:15,  6.17s/it]"
     ]
    },
    {
     "name": "stderr",
     "output_type": "stream",
     "text": [
      "\r",
      "ELBO: -296639.7:  30%|█████████████████████████▌                                                           | 9/30 [00:59<02:08,  6.10s/it]"
     ]
    },
    {
     "name": "stderr",
     "output_type": "stream",
     "text": [
      "\r",
      "ELBO: -296420.9:  30%|█████████████████████████▌                                                           | 9/30 [01:05<02:08,  6.10s/it]"
     ]
    },
    {
     "name": "stderr",
     "output_type": "stream",
     "text": [
      "\r",
      "ELBO: -296420.9:  33%|████████████████████████████                                                        | 10/30 [01:05<02:01,  6.05s/it]"
     ]
    },
    {
     "name": "stderr",
     "output_type": "stream",
     "text": [
      "\r",
      "ELBO: -296467.9:  33%|████████████████████████████                                                        | 10/30 [01:11<02:01,  6.05s/it]"
     ]
    },
    {
     "name": "stderr",
     "output_type": "stream",
     "text": [
      "\r",
      "ELBO: -296467.9:  37%|██████████████████████████████▊                                                     | 11/30 [01:11<01:54,  6.00s/it]"
     ]
    },
    {
     "name": "stderr",
     "output_type": "stream",
     "text": [
      "\r",
      "ELBO: -296510.5:  37%|██████████████████████████████▊                                                     | 11/30 [01:17<01:54,  6.00s/it]"
     ]
    },
    {
     "name": "stderr",
     "output_type": "stream",
     "text": [
      "\r",
      "ELBO: -296510.5:  40%|█████████████████████████████████▌                                                  | 12/30 [01:17<01:47,  5.98s/it]"
     ]
    },
    {
     "name": "stderr",
     "output_type": "stream",
     "text": [
      "\r",
      "ELBO: -296649.0:  40%|█████████████████████████████████▌                                                  | 12/30 [01:23<01:47,  5.98s/it]"
     ]
    },
    {
     "name": "stderr",
     "output_type": "stream",
     "text": [
      "\r",
      "ELBO: -296649.0:  43%|████████████████████████████████████▍                                               | 13/30 [01:23<01:41,  5.96s/it]"
     ]
    },
    {
     "name": "stderr",
     "output_type": "stream",
     "text": [
      "\r",
      "ELBO: -296362.8:  43%|████████████████████████████████████▍                                               | 13/30 [01:29<01:41,  5.96s/it]"
     ]
    },
    {
     "name": "stderr",
     "output_type": "stream",
     "text": [
      "\r",
      "ELBO: -296362.8:  47%|███████████████████████████████████████▏                                            | 14/30 [01:29<01:35,  5.96s/it]"
     ]
    },
    {
     "name": "stderr",
     "output_type": "stream",
     "text": [
      "\r",
      "ELBO: -296321.8:  47%|███████████████████████████████████████▏                                            | 14/30 [01:35<01:35,  5.96s/it]"
     ]
    },
    {
     "name": "stderr",
     "output_type": "stream",
     "text": [
      "\r",
      "ELBO: -296321.8:  50%|██████████████████████████████████████████                                          | 15/30 [01:35<01:29,  5.95s/it]"
     ]
    },
    {
     "name": "stderr",
     "output_type": "stream",
     "text": [
      "\r",
      "ELBO: -296221.9:  50%|██████████████████████████████████████████                                          | 15/30 [01:41<01:29,  5.95s/it]"
     ]
    },
    {
     "name": "stderr",
     "output_type": "stream",
     "text": [
      "\r",
      "ELBO: -296221.9:  53%|████████████████████████████████████████████▊                                       | 16/30 [01:41<01:23,  5.95s/it]"
     ]
    },
    {
     "name": "stderr",
     "output_type": "stream",
     "text": [
      "\r",
      "ELBO: -296085.0:  53%|████████████████████████████████████████████▊                                       | 16/30 [01:47<01:23,  5.95s/it]"
     ]
    },
    {
     "name": "stderr",
     "output_type": "stream",
     "text": [
      "\r",
      "ELBO: -296085.0:  57%|███████████████████████████████████████████████▌                                    | 17/30 [01:47<01:17,  5.96s/it]"
     ]
    },
    {
     "name": "stderr",
     "output_type": "stream",
     "text": [
      "\r",
      "ELBO: -295992.1:  57%|███████████████████████████████████████████████▌                                    | 17/30 [01:53<01:17,  5.96s/it]"
     ]
    },
    {
     "name": "stderr",
     "output_type": "stream",
     "text": [
      "\r",
      "ELBO: -295992.1:  60%|██████████████████████████████████████████████████▍                                 | 18/30 [01:53<01:11,  5.97s/it]"
     ]
    },
    {
     "name": "stderr",
     "output_type": "stream",
     "text": [
      "\r",
      "ELBO: -296281.7:  60%|██████████████████████████████████████████████████▍                                 | 18/30 [01:59<01:11,  5.97s/it]"
     ]
    },
    {
     "name": "stderr",
     "output_type": "stream",
     "text": [
      "\r",
      "ELBO: -296281.7:  63%|█████████████████████████████████████████████████████▏                              | 19/30 [01:59<01:05,  5.95s/it]"
     ]
    },
    {
     "name": "stderr",
     "output_type": "stream",
     "text": [
      "\r",
      "ELBO: -295891.4:  63%|█████████████████████████████████████████████████████▏                              | 19/30 [02:05<01:05,  5.95s/it]"
     ]
    },
    {
     "name": "stderr",
     "output_type": "stream",
     "text": [
      "\r",
      "ELBO: -295891.4:  67%|████████████████████████████████████████████████████████                            | 20/30 [02:05<00:59,  5.94s/it]"
     ]
    },
    {
     "name": "stderr",
     "output_type": "stream",
     "text": [
      "\r",
      "ELBO: -296296.8:  67%|████████████████████████████████████████████████████████                            | 20/30 [02:11<00:59,  5.94s/it]"
     ]
    },
    {
     "name": "stderr",
     "output_type": "stream",
     "text": [
      "\r",
      "ELBO: -296296.8:  70%|██████████████████████████████████████████████████████████▊                         | 21/30 [02:11<00:53,  5.93s/it]"
     ]
    },
    {
     "name": "stderr",
     "output_type": "stream",
     "text": [
      "\r",
      "ELBO: -296196.2:  70%|██████████████████████████████████████████████████████████▊                         | 21/30 [02:16<00:53,  5.93s/it]"
     ]
    },
    {
     "name": "stderr",
     "output_type": "stream",
     "text": [
      "\r",
      "ELBO: -296196.2:  73%|█████████████████████████████████████████████████████████████▌                      | 22/30 [02:16<00:47,  5.92s/it]"
     ]
    },
    {
     "name": "stderr",
     "output_type": "stream",
     "text": [
      "\r",
      "ELBO: -296300.0:  73%|█████████████████████████████████████████████████████████████▌                      | 22/30 [02:22<00:47,  5.92s/it]"
     ]
    },
    {
     "name": "stderr",
     "output_type": "stream",
     "text": [
      "\r",
      "ELBO: -296300.0:  77%|████████████████████████████████████████████████████████████████▍                   | 23/30 [02:22<00:41,  5.92s/it]"
     ]
    },
    {
     "name": "stderr",
     "output_type": "stream",
     "text": [
      "\r",
      "ELBO: -296139.2:  77%|████████████████████████████████████████████████████████████████▍                   | 23/30 [02:28<00:41,  5.92s/it]"
     ]
    },
    {
     "name": "stderr",
     "output_type": "stream",
     "text": [
      "\r",
      "ELBO: -296139.2:  80%|███████████████████████████████████████████████████████████████████▏                | 24/30 [02:28<00:35,  5.94s/it]"
     ]
    },
    {
     "name": "stderr",
     "output_type": "stream",
     "text": [
      "\r",
      "ELBO: -296013.9:  80%|███████████████████████████████████████████████████████████████████▏                | 24/30 [02:34<00:35,  5.94s/it]"
     ]
    },
    {
     "name": "stderr",
     "output_type": "stream",
     "text": [
      "\r",
      "ELBO: -296013.9:  83%|██████████████████████████████████████████████████████████████████████              | 25/30 [02:34<00:29,  5.95s/it]"
     ]
    },
    {
     "name": "stderr",
     "output_type": "stream",
     "text": [
      "\r",
      "ELBO: -296084.1:  83%|██████████████████████████████████████████████████████████████████████              | 25/30 [02:40<00:29,  5.95s/it]"
     ]
    },
    {
     "name": "stderr",
     "output_type": "stream",
     "text": [
      "\r",
      "ELBO: -296084.1:  87%|████████████████████████████████████████████████████████████████████████▊           | 26/30 [02:40<00:23,  5.95s/it]"
     ]
    },
    {
     "name": "stderr",
     "output_type": "stream",
     "text": [
      "\r",
      "ELBO: -296109.2:  87%|████████████████████████████████████████████████████████████████████████▊           | 26/30 [02:46<00:23,  5.95s/it]"
     ]
    },
    {
     "name": "stderr",
     "output_type": "stream",
     "text": [
      "\r",
      "ELBO: -296109.2:  90%|███████████████████████████████████████████████████████████████████████████▌        | 27/30 [02:46<00:17,  5.93s/it]"
     ]
    },
    {
     "name": "stderr",
     "output_type": "stream",
     "text": [
      "\r",
      "ELBO: -296167.3:  90%|███████████████████████████████████████████████████████████████████████████▌        | 27/30 [02:52<00:17,  5.93s/it]"
     ]
    },
    {
     "name": "stderr",
     "output_type": "stream",
     "text": [
      "\r",
      "ELBO: -296167.3:  93%|██████████████████████████████████████████████████████████████████████████████▍     | 28/30 [02:52<00:11,  5.92s/it]"
     ]
    },
    {
     "name": "stderr",
     "output_type": "stream",
     "text": [
      "\r",
      "ELBO: -296169.1:  93%|██████████████████████████████████████████████████████████████████████████████▍     | 28/30 [02:58<00:11,  5.92s/it]"
     ]
    },
    {
     "name": "stderr",
     "output_type": "stream",
     "text": [
      "\r",
      "ELBO: -296169.1:  97%|█████████████████████████████████████████████████████████████████████████████████▏  | 29/30 [02:58<00:05,  5.91s/it]"
     ]
    },
    {
     "name": "stderr",
     "output_type": "stream",
     "text": [
      "\r",
      "ELBO: -295957.2:  97%|█████████████████████████████████████████████████████████████████████████████████▏  | 29/30 [03:04<00:05,  5.91s/it]"
     ]
    },
    {
     "name": "stderr",
     "output_type": "stream",
     "text": [
      "\r",
      "ELBO: -295957.2: 100%|████████████████████████████████████████████████████████████████████████████████████| 30/30 [03:04<00:00,  5.93s/it]"
     ]
    },
    {
     "name": "stderr",
     "output_type": "stream",
     "text": [
      "\r",
      "ELBO: -295957.2: 100%|████████████████████████████████████████████████████████████████████████████████████| 30/30 [03:04<00:00,  6.15s/it]"
     ]
    },
    {
     "name": "stderr",
     "output_type": "stream",
     "text": [
      "\n"
     ]
    }
   ],
   "source": [
    "K=3 #Number of discrete states\n",
    "\n",
    "rslds = ssm.SLDS(N=np.sum(N_vec),K=K,D=np.sum(D_vec),\n",
    "             dynamics=\"gaussian\",\n",
    "             emissions=poiss_comp_emissions,\n",
    "             transitions=sro_trans,\n",
    "             dynamics_kwargs=dict(l2_penalty_A=100)) #Regularization on the dynamics matrix\n",
    "\n",
    "q_elbos_ar, q_ar = rslds.fit(ys, method=\"laplace_em\",\n",
    "                             variational_posterior=\"structured_meanfield\", \n",
    "                             continuous_optimizer='newton',\n",
    "                             initialize=True, \n",
    "                             num_init_restarts=10,\n",
    "                             num_iters=30, \n",
    "                             alpha=0.25)"
   ]
  },
  {
   "cell_type": "code",
   "execution_count": 16,
   "id": "582c167d",
   "metadata": {
    "colab": {},
    "colab_type": "code",
    "id": "Oi8-3NcxRFRf",
    "outputId": "98075512-a594-4bae-fcf3-550affe796a6"
   },
   "outputs": [
    {
     "data": {
      "text/plain": [
       "Text(0, 0.5, 'ELBO')"
      ]
     },
     "execution_count": 16,
     "metadata": {},
     "output_type": "execute_result"
    },
    {
     "data": {
      "image/png": "[encoded data removed]",
      "text/plain": [
       "<Figure size 640x480 with 1 Axes>"
      ]
     },
     "metadata": {},
     "output_type": "display_data"
    }
   ],
   "source": [
    "plt.plot(q_elbos_ar[1:])\n",
    "plt.xlabel(\"Iteration\")\n",
    "plt.ylabel(\"ELBO\")"
   ]
  },
  {
   "cell_type": "markdown",
   "id": "4e34a321",
   "metadata": {},
   "source": [
    "## Align solution with simulation for plotting"
   ]
  },
  {
   "cell_type": "code",
   "execution_count": 17,
   "id": "1100d6b0",
   "metadata": {},
   "outputs": [],
   "source": [
    "#The recovered discrete states can be permuted in any way. \n",
    "#Find permutation to match the discrete states in the model and the ground truth\n",
    "z_inferred=rslds.most_likely_states(q_ar.mean_continuous_states[0],ys)\n",
    "rslds.permute(find_permutation(zs, z_inferred))\n",
    "z_inferred2=rslds.most_likely_states(q_ar.mean_continuous_states[0],ys)"
   ]
  },
  {
   "cell_type": "code",
   "execution_count": 18,
   "id": "512db2ab",
   "metadata": {},
   "outputs": [],
   "source": [
    "#Each population's latents can be multiplied by an arbitrary rotation matrix\n",
    "#Additionally, there may be a change in scaling between the simulation ground truth and recovered latents,\n",
    "#because the simulation didn't constrain the effective emissions (C) matrix to be orthonormal like in the model\n",
    "\n",
    "from sklearn.linear_model import LinearRegression\n",
    "\n",
    "R=np.zeros([D,D])\n",
    "for g in range(num_gr):\n",
    "    lr=LinearRegression(fit_intercept=False)\n",
    "    lr.fit(q_ar.mean_continuous_states[0][:,D_vec_cumsum[g]:D_vec_cumsum[g+1]],xs[:,D_vec_cumsum[g]:D_vec_cumsum[g+1]])\n",
    "    R[D_vec_cumsum[g]:D_vec_cumsum[g+1],D_vec_cumsum[g]:D_vec_cumsum[g+1]]=lr.coef_"
   ]
  },
  {
   "cell_type": "markdown",
   "id": "04b627b1",
   "metadata": {
    "colab_type": "text",
    "id": "0CjkFH63RFRh"
   },
   "source": [
    "## Plot results"
   ]
  },
  {
   "cell_type": "markdown",
   "id": "7fc34801",
   "metadata": {
    "colab_type": "text",
    "id": "HDlMQx4ZRFRh"
   },
   "source": [
    "### Discrete states ($z$)"
   ]
  },
  {
   "cell_type": "code",
   "execution_count": 19,
   "id": "6e8b7edf",
   "metadata": {
    "colab": {},
    "colab_type": "code",
    "id": "TGk3zoBVRFRi",
    "outputId": "d1cebd3c-17f7-4e48-a6d3-0b9f34fbd3af"
   },
   "outputs": [
    {
     "data": {
      "image/png": "[encoded data removed]",
      "text/plain": [
       "<Figure size 800x400 with 2 Axes>"
      ]
     },
     "metadata": {},
     "output_type": "display_data"
    }
   ],
   "source": [
    "plt.figure(figsize=(8, 4))\n",
    "plt.subplot(211)\n",
    "plt.imshow(zs[None,:], aspect=\"auto\", cmap=cmap, vmin=0, vmax=len(colors)-1)\n",
    "plt.xlim(0, t_end)\n",
    "plt.ylabel(\"$z_{\\\\mathrm{true}}$\")\n",
    "plt.yticks([])\n",
    "\n",
    "plt.subplot(212)\n",
    "plt.imshow(z_inferred2[None,:], aspect=\"auto\", cmap=cmap, vmin=0, vmax=len(colors)-1)\n",
    "plt.xlim(0, t_end)\n",
    "plt.ylabel(\"$z_{\\\\mathrm{inferred}}$\")\n",
    "plt.yticks([])\n",
    "plt.xlabel(\"time\")\n",
    "\n",
    "plt.tight_layout()"
   ]
  },
  {
   "cell_type": "code",
   "execution_count": 20,
   "id": "f7c86d90",
   "metadata": {
    "colab": {},
    "colab_type": "code",
    "id": "HRPr3DJlRFRj",
    "outputId": "1d6b402b-fa6d-4040-f4bf-4e4c2188c8b8"
   },
   "outputs": [
    {
     "name": "stdout",
     "output_type": "stream",
     "text": [
      "Discrete state accuracy:  0.978\n"
     ]
    }
   ],
   "source": [
    "print('Discrete state accuracy: ', np.mean(zs==z_inferred2))"
   ]
  },
  {
   "cell_type": "markdown",
   "id": "52e93fe1",
   "metadata": {
    "colab_type": "text",
    "id": "SX1go1AyRFRl"
   },
   "source": [
    "#### Shorter time window"
   ]
  },
  {
   "cell_type": "code",
   "execution_count": 21,
   "id": "de3fce20",
   "metadata": {
    "colab": {},
    "colab_type": "code",
    "id": "UhjVHiYzRFRm",
    "outputId": "5d4cf636-9055-46fe-af2b-d51531c97317"
   },
   "outputs": [
    {
     "data": {
      "text/plain": [
       "([], [])"
      ]
     },
     "execution_count": 21,
     "metadata": {},
     "output_type": "execute_result"
    },
    {
     "data": {
      "image/png": "[encoded data removed]",
      "text/plain": [
       "<Figure size 400x200 with 2 Axes>"
      ]
     },
     "metadata": {},
     "output_type": "display_data"
    }
   ],
   "source": [
    "plt.figure(figsize=(4, 2))\n",
    "plt.subplot(211)\n",
    "plt.imshow(zs[None,st_t:end_t], aspect=\"auto\", cmap=cmap, vmin=0, vmax=len(colors)-1)\n",
    "plt.xlim(0, dur)\n",
    "plt.ylabel(\"$z_{\\\\mathrm{true}}$\")\n",
    "plt.yticks([])\n",
    "plt.xticks([])\n",
    "\n",
    "plt.subplot(212)\n",
    "plt.imshow(z_inferred2[None,st_t:end_t], aspect=\"auto\", cmap=cmap, vmin=0, vmax=len(colors)-1)\n",
    "plt.xlim(0, dur)\n",
    "plt.ylabel(\"$z_{\\\\mathrm{inferred}}$\")\n",
    "plt.yticks([])"
   ]
  },
  {
   "cell_type": "markdown",
   "id": "83b63706",
   "metadata": {
    "colab_type": "text",
    "id": "e4Cz1o8GRFRo"
   },
   "source": [
    "### Dynamics matrices ($A^z$)"
   ]
  },
  {
   "cell_type": "markdown",
   "id": "bd907752",
   "metadata": {},
   "source": [
    "We show the A matrix from when the continuous latents are aligned to ground truth, demonstrating the ability to recover the ground truth dynamics.\n",
    "\n",
    "We also show the original recovered A matrix, which demonstrates that we can learn about the block structure, regardless of scaling/rotations."
   ]
  },
  {
   "cell_type": "code",
   "execution_count": 22,
   "id": "a7253191",
   "metadata": {
    "colab": {},
    "colab_type": "code",
    "id": "0D2QHaLRRFRo",
    "outputId": "891cf1a1-4aea-4c5f-f2d5-9895478b5361"
   },
   "outputs": [
    {
     "data": {
      "image/png": "[encoded data removed]",
      "text/plain": [
       "<Figure size 1200x1200 with 9 Axes>"
      ]
     },
     "metadata": {},
     "output_type": "display_data"
    }
   ],
   "source": [
    "plt.figure(figsize=(12, 12))\n",
    "\n",
    "q=1\n",
    "\n",
    "for k in range(K):\n",
    "    \n",
    "    plt.subplot(3,3,q)\n",
    "    plt.imshow(true_slds.dynamics.As[k], aspect='auto', interpolation=\"none\", vmin=-.5, vmax=.5, cmap='RdBu')\n",
    "    offset=-.5\n",
    "    for nf in D_vec:        \n",
    "        plt.plot([-0.5, D-0.5], [offset, offset], '-k')\n",
    "        plt.plot([offset, offset], [-0.5, D-0.5], '-k')\n",
    "        offset += nf\n",
    "    plt.xticks([])\n",
    "    plt.yticks([])\n",
    "    plt.title('Actual State '+str(k))\n",
    "    \n",
    "    q=q+1\n",
    "\n",
    "    plt.subplot(3,3,q)\n",
    "#     plt.imshow(rslds.dynamics.As[k], aspect='auto', interpolation=\"none\", vmin=-.5, vmax=.5, cmap='RdBu')\n",
    "    plt.imshow(R@rslds.dynamics.As[k]@np.linalg.inv(R), aspect='auto', interpolation=\"none\", vmin=-.5, vmax=.5, cmap='RdBu')\n",
    "\n",
    "    offset=-.5\n",
    "    for nf in D_vec:        \n",
    "        plt.plot([-0.5, D-0.5], [offset, offset], '-k')\n",
    "        plt.plot([offset, offset], [-0.5, D-0.5], '-k')\n",
    "        offset += nf\n",
    "    plt.xticks([])\n",
    "    plt.yticks([])\n",
    "    plt.title('Aligned Predicted State '+str(k))\n",
    "#     plt.savefig(folder+'dyn_est'+str(k)+'.pdf')    \n",
    "\n",
    "    q=q+1\n",
    "\n",
    "\n",
    "    plt.subplot(3,3,q)\n",
    "#     plt.imshow(rslds.dynamics.As[k], aspect='auto', interpolation=\"none\", vmin=-.5, vmax=.5, cmap='RdBu')\n",
    "    plt.imshow(rslds.dynamics.As[k], aspect='auto', interpolation=\"none\", vmin=-.5, vmax=.5, cmap='RdBu')\n",
    "\n",
    "    offset=-.5\n",
    "    for nf in D_vec:        \n",
    "        plt.plot([-0.5, D-0.5], [offset, offset], '-k')\n",
    "        plt.plot([offset, offset], [-0.5, D-0.5], '-k')\n",
    "        offset += nf\n",
    "    plt.xticks([])\n",
    "    plt.yticks([])\n",
    "    plt.title('Raw Predicted State '+str(k))\n",
    "#     plt.savefig(folder+'dyn_est'+str(k)+'.pdf')\n",
    "    \n",
    "    q=q+1\n",
    "    \n",
    "    \n",
    "\n",
    "        "
   ]
  },
  {
   "cell_type": "markdown",
   "id": "e6d33a7c",
   "metadata": {
    "colab_type": "text",
    "id": "b14UYWuMRFRr"
   },
   "source": [
    "### Transitions\n",
    "The contribution of population $j$ to staying in a state is $S_j x^{j}$ and the contribution to switching to a state is $R_j x^{j}$"
   ]
  },
  {
   "cell_type": "code",
   "execution_count": 23,
   "id": "77b3a773",
   "metadata": {
    "colab": {},
    "colab_type": "code",
    "id": "hja_9YLPRFRr",
    "outputId": "6eb42921-5277-43ea-b14b-2366d2128509"
   },
   "outputs": [
    {
     "data": {
      "text/plain": [
       "([], [])"
      ]
     },
     "execution_count": 23,
     "metadata": {},
     "output_type": "execute_result"
    },
    {
     "data": {
      "image/png": "[encoded data removed]",
      "text/plain": [
       "<Figure size 1500x400 with 4 Axes>"
      ]
     },
     "metadata": {},
     "output_type": "display_data"
    }
   ],
   "source": [
    "plt.figure(figsize=(15, 4))\n",
    "\n",
    "\n",
    "### Actual\n",
    "\n",
    "j=0\n",
    "\n",
    "plt.subplot(221)\n",
    "for g in range(K):\n",
    "    plt.plot(np.dot(xs[st_t:end_t,D_vec_cumsum[g]:D_vec_cumsum[g+1]],true_slds.transitions.Rs[j,D_vec_cumsum[g]:D_vec_cumsum[g+1]].T))\n",
    "plt.xlim(0, dur)\n",
    "plt.ylabel('Contribution towards \\n switching to \\n purple state',rotation=60)\n",
    "plt.xticks([])\n",
    "plt.yticks([])\n",
    "plt.title('Actual')\n",
    "\n",
    "j=1\n",
    "plt.subplot(223)\n",
    "for g in range(K):\n",
    "    plt.plot(np.dot(xs[st_t:end_t,D_vec_cumsum[g]:D_vec_cumsum[g+1]],true_slds.transitions.Ss[j,D_vec_cumsum[g]:D_vec_cumsum[g+1]].T))\n",
    "plt.xlim(0, dur)\n",
    "plt.ylabel('Contribution towards \\n staying in red state',rotation=60)\n",
    "plt.legend(['Pop 1','Pop 2','Pop 3'])\n",
    "plt.yticks([])\n",
    "\n",
    "\n",
    "\n",
    "\n",
    "### Predicted\n",
    "\n",
    "j=0\n",
    "\n",
    "plt.subplot(222)\n",
    "for g in range(K):\n",
    "    plt.plot(np.dot(q_ar.mean_continuous_states[0][st_t:end_t,D_vec_cumsum[g]:D_vec_cumsum[g+1]],rslds.transitions.Rs[j,D_vec_cumsum[g]:D_vec_cumsum[g+1]].T))\n",
    "plt.xlim(0, dur)\n",
    "# plt.ylabel('Contribution towards \\n switching to \\n purple state',rotation=60)\n",
    "plt.xticks([])\n",
    "plt.yticks([])\n",
    "plt.title('Predicted')\n",
    "\n",
    "j=1\n",
    "plt.subplot(224)\n",
    "for g in range(K):\n",
    "    plt.plot(np.dot(q_ar.mean_continuous_states[0][st_t:end_t,D_vec_cumsum[g]:D_vec_cumsum[g+1]],rslds.transitions.Ss[j,D_vec_cumsum[g]:D_vec_cumsum[g+1]].T))\n",
    "plt.xlim(0, dur)\n",
    "# plt.ylabel('Stay in Red')\n",
    "# plt.xticks([])\n",
    "plt.yticks([])"
   ]
  },
  {
   "cell_type": "markdown",
   "id": "05da103e",
   "metadata": {
    "colab_type": "text",
    "id": "yz4GSxjrRFRt"
   },
   "source": [
    "### Example fit of neural activity ($y$)"
   ]
  },
  {
   "cell_type": "code",
   "execution_count": 24,
   "id": "f9191970",
   "metadata": {
    "colab": {},
    "colab_type": "code",
    "id": "cgEffzVKRFRt",
    "outputId": "10d64661-8fbd-4259-96fc-134c35980b88"
   },
   "outputs": [
    {
     "data": {
      "text/plain": [
       "<matplotlib.legend.Legend at 0x177fee640>"
      ]
     },
     "execution_count": 24,
     "metadata": {},
     "output_type": "execute_result"
    },
    {
     "data": {
      "image/png": "[encoded data removed]",
      "text/plain": [
       "<Figure size 640x480 with 1 Axes>"
      ]
     },
     "metadata": {},
     "output_type": "display_data"
    }
   ],
   "source": [
    "preds=rslds.smooth(q_ar.mean_continuous_states[0],ys) #get predictions\n",
    "\n",
    "nrn=0 #Example neuron\n",
    "plt.plot(ys[st_t:end_t,nrn],alpha=.5) #true spiking activity\n",
    "plt.plot(lams[st_t:end_t,nrn]) #true firing rate\n",
    "plt.plot(preds[st_t:end_t,nrn]) #predicted firing\n",
    "\n",
    "plt.legend(['True Spikes','True FR','Predicted FR'])"
   ]
  }
 ],
 "metadata": {
  "jupytext": {
   "text_representation": {
    "extension": ".md",
    "format_name": "myst",
    "format_version": 0.13,
    "jupytext_version": "1.14.1"
   }
  },
  "kernelspec": {
   "display_name": "Python 3",
   "language": "python",
   "name": "python3"
  },
  "language_info": {
   "codemirror_mode": {
    "name": "ipython",
    "version": 3
   },
   "file_extension": ".py",
   "mimetype": "text/x-python",
   "name": "python",
   "nbconvert_exporter": "python",
   "pygments_lexer": "ipython3",
   "version": "3.9.13"
  },
  "source_map": [
   12,
   17,
   21,
   98,
   102,
   118,
   154,
   171,
   175,
   179,
   194,
   213,
   217,
   245,
   249,
   323,
   327,
   331,
   358,
   362,
   379,
   384,
   394,
   425,
   429,
   448,
   452,
   456,
   476,
   480,
   492,
   498,
   502,
   534,
   543,
   547,
   555,
   569,
   573,
   577,
   600,
   609,
   613,
   634,
   638,
   644,
   707,
   712,
   769,
   773
  ]
 },
 "nbformat": 4,
 "nbformat_minor": 5
}